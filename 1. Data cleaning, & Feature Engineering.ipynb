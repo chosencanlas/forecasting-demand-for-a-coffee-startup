{
 "cells": [
  {
   "cell_type": "markdown",
   "metadata": {},
   "source": [
    "# Objective:\n",
    "\n",
    "The objective of this notebook is to prepare the data for modelling (in notebook 3. Modelling) by viewing, cleaning and engineering features. I chose to use 1 notebook for cleaning and feature engineering because for this project, cleaning the data was simultaneous with feature engineering."
   ]
  },
  {
   "cell_type": "markdown",
   "metadata": {},
   "source": [
    "---"
   ]
  },
  {
   "cell_type": "markdown",
   "metadata": {},
   "source": [
    "# Import libraries\n",
    "\n",
    "First, we need to import the necessary libraries"
   ]
  },
  {
   "cell_type": "code",
   "execution_count": 1,
   "metadata": {},
   "outputs": [],
   "source": [
    "import numpy as np\n",
    "import pandas as pd\n",
    "import matplotlib.pyplot as plt\n",
    "import seaborn as sns\n",
    "from fbprophet import Prophet\n",
    "from fbprophet.plot import plot_plotly\n",
    "import plotly.offline as py\n",
    "import statsmodels.api as sm\n",
    "import pymysql\n",
    "import matplotlib\n",
    "from matplotlib.dates import DateFormatter\n",
    "import matplotlib.dates as mdates\n",
    "from matplotlib.patches import Patch\n",
    "import math\n",
    "import itertools\n",
    "import seaborn as sns\n",
    "import random \n",
    "from statsmodels.api import tsa\n",
    "import warnings\n",
    "warnings.filterwarnings(\"ignore\")"
   ]
  },
  {
   "cell_type": "markdown",
   "metadata": {},
   "source": [
    "---"
   ]
  },
  {
   "cell_type": "markdown",
   "metadata": {},
   "source": [
    "# Viewing the main dataframe\n",
    "\n",
    "Then, we can view the main dataframe."
   ]
  },
  {
   "cell_type": "code",
   "execution_count": 2,
   "metadata": {},
   "outputs": [
    {
     "data": {
      "text/html": [
       "<div>\n",
       "<style scoped>\n",
       "    .dataframe tbody tr th:only-of-type {\n",
       "        vertical-align: middle;\n",
       "    }\n",
       "\n",
       "    .dataframe tbody tr th {\n",
       "        vertical-align: top;\n",
       "    }\n",
       "\n",
       "    .dataframe thead th {\n",
       "        text-align: right;\n",
       "    }\n",
       "</style>\n",
       "<table border=\"1\" class=\"dataframe\">\n",
       "  <thead>\n",
       "    <tr style=\"text-align: right;\">\n",
       "      <th></th>\n",
       "      <th>BRANCH_ID</th>\n",
       "      <th>BRANCH_NAME</th>\n",
       "      <th>INVOICE_NO</th>\n",
       "      <th>INVOICE_DATE</th>\n",
       "      <th>PRODUCT_NUMBER</th>\n",
       "      <th>QUANTITY_SOLD</th>\n",
       "      <th>PRICE_SOLD</th>\n",
       "      <th>DISCOUNT_TEXT</th>\n",
       "      <th>DISCOUNT_CODE</th>\n",
       "      <th>PRODUCT_NAME</th>\n",
       "      <th>UNIT</th>\n",
       "      <th>COST</th>\n",
       "      <th>RETAIL_PRICE</th>\n",
       "      <th>CATEGORY</th>\n",
       "    </tr>\n",
       "  </thead>\n",
       "  <tbody>\n",
       "    <tr>\n",
       "      <th>0</th>\n",
       "      <td>1636</td>\n",
       "      <td>Dark Specialty Coffee - North EDSA</td>\n",
       "      <td>1</td>\n",
       "      <td>1/12/2017 12:47</td>\n",
       "      <td>262786</td>\n",
       "      <td>1.0</td>\n",
       "      <td>0.0</td>\n",
       "      <td>NaN</td>\n",
       "      <td>NaN</td>\n",
       "      <td>Wild Cherry Cranberry</td>\n",
       "      <td>PC</td>\n",
       "      <td>0.0000</td>\n",
       "      <td>0.0</td>\n",
       "      <td>20 ADDONS</td>\n",
       "    </tr>\n",
       "    <tr>\n",
       "      <th>1</th>\n",
       "      <td>1636</td>\n",
       "      <td>Dark Specialty Coffee - North EDSA</td>\n",
       "      <td>1</td>\n",
       "      <td>1/12/2017 12:47</td>\n",
       "      <td>262924</td>\n",
       "      <td>1.0</td>\n",
       "      <td>160.0</td>\n",
       "      <td>NaN</td>\n",
       "      <td>NaN</td>\n",
       "      <td>Iced Flavor Fresh Herbs Pandan continental flavor</td>\n",
       "      <td>PC</td>\n",
       "      <td>0.0000</td>\n",
       "      <td>160.0</td>\n",
       "      <td>COLD BREWED HEALTH TEA</td>\n",
       "    </tr>\n",
       "    <tr>\n",
       "      <th>2</th>\n",
       "      <td>1636</td>\n",
       "      <td>Dark Specialty Coffee - North EDSA</td>\n",
       "      <td>2</td>\n",
       "      <td>1/12/2017 12:51</td>\n",
       "      <td>262800</td>\n",
       "      <td>1.0</td>\n",
       "      <td>160.0</td>\n",
       "      <td>NaN</td>\n",
       "      <td>NaN</td>\n",
       "      <td>Atok Benguet ( R )</td>\n",
       "      <td>PC</td>\n",
       "      <td>15.7100</td>\n",
       "      <td>160.0</td>\n",
       "      <td>SPECIALTY COFFEE B</td>\n",
       "    </tr>\n",
       "    <tr>\n",
       "      <th>3</th>\n",
       "      <td>1636</td>\n",
       "      <td>Dark Specialty Coffee - North EDSA</td>\n",
       "      <td>2</td>\n",
       "      <td>1/12/2017 12:51</td>\n",
       "      <td>262812</td>\n",
       "      <td>1.0</td>\n",
       "      <td>150.0</td>\n",
       "      <td>NaN</td>\n",
       "      <td>NaN</td>\n",
       "      <td>Cold brew Coffee Vanilla (R)</td>\n",
       "      <td>PC</td>\n",
       "      <td>90.4772</td>\n",
       "      <td>150.0</td>\n",
       "      <td>COLD BREWED COFFEE</td>\n",
       "    </tr>\n",
       "    <tr>\n",
       "      <th>4</th>\n",
       "      <td>1636</td>\n",
       "      <td>Dark Specialty Coffee - North EDSA</td>\n",
       "      <td>2</td>\n",
       "      <td>1/12/2017 12:51</td>\n",
       "      <td>262944</td>\n",
       "      <td>12.0</td>\n",
       "      <td>0.0</td>\n",
       "      <td>0.00%</td>\n",
       "      <td>NaN</td>\n",
       "      <td>Local Atokape Oliver Single Orgin Coffee Beans</td>\n",
       "      <td>GRAM</td>\n",
       "      <td>1.0100</td>\n",
       "      <td>0.0</td>\n",
       "      <td>RAW MATERIAL COFFEE</td>\n",
       "    </tr>\n",
       "  </tbody>\n",
       "</table>\n",
       "</div>"
      ],
      "text/plain": [
       "   BRANCH_ID                         BRANCH_NAME  INVOICE_NO     INVOICE_DATE  \\\n",
       "0       1636  Dark Specialty Coffee - North EDSA           1  1/12/2017 12:47   \n",
       "1       1636  Dark Specialty Coffee - North EDSA           1  1/12/2017 12:47   \n",
       "2       1636  Dark Specialty Coffee - North EDSA           2  1/12/2017 12:51   \n",
       "3       1636  Dark Specialty Coffee - North EDSA           2  1/12/2017 12:51   \n",
       "4       1636  Dark Specialty Coffee - North EDSA           2  1/12/2017 12:51   \n",
       "\n",
       "   PRODUCT_NUMBER  QUANTITY_SOLD  PRICE_SOLD DISCOUNT_TEXT  DISCOUNT_CODE  \\\n",
       "0          262786            1.0         0.0           NaN            NaN   \n",
       "1          262924            1.0       160.0           NaN            NaN   \n",
       "2          262800            1.0       160.0           NaN            NaN   \n",
       "3          262812            1.0       150.0           NaN            NaN   \n",
       "4          262944           12.0         0.0         0.00%            NaN   \n",
       "\n",
       "                                        PRODUCT_NAME  UNIT     COST  \\\n",
       "0                              Wild Cherry Cranberry    PC   0.0000   \n",
       "1  Iced Flavor Fresh Herbs Pandan continental flavor    PC   0.0000   \n",
       "2                                 Atok Benguet ( R )    PC  15.7100   \n",
       "3                       Cold brew Coffee Vanilla (R)    PC  90.4772   \n",
       "4     Local Atokape Oliver Single Orgin Coffee Beans  GRAM   1.0100   \n",
       "\n",
       "   RETAIL_PRICE                CATEGORY  \n",
       "0           0.0               20 ADDONS  \n",
       "1         160.0  COLD BREWED HEALTH TEA  \n",
       "2         160.0      SPECIALTY COFFEE B  \n",
       "3         150.0      COLD BREWED COFFEE  \n",
       "4           0.0     RAW MATERIAL COFFEE  "
      ]
     },
     "execution_count": 2,
     "metadata": {},
     "output_type": "execute_result"
    }
   ],
   "source": [
    "invoices = pd.read_csv('data/invoices.csv')\n",
    "invoices.head()"
   ]
  },
  {
   "cell_type": "code",
   "execution_count": 3,
   "metadata": {},
   "outputs": [
    {
     "data": {
      "text/plain": [
       "(263889, 14)"
      ]
     },
     "execution_count": 3,
     "metadata": {},
     "output_type": "execute_result"
    }
   ],
   "source": [
    "invoices.shape"
   ]
  },
  {
   "cell_type": "markdown",
   "metadata": {},
   "source": [
    "### Since this data does not have a unique ID for each row, we can create one using the index."
   ]
  },
  {
   "cell_type": "code",
   "execution_count": 32,
   "metadata": {
    "scrolled": true
   },
   "outputs": [
    {
     "data": {
      "text/html": [
       "<div>\n",
       "<style scoped>\n",
       "    .dataframe tbody tr th:only-of-type {\n",
       "        vertical-align: middle;\n",
       "    }\n",
       "\n",
       "    .dataframe tbody tr th {\n",
       "        vertical-align: top;\n",
       "    }\n",
       "\n",
       "    .dataframe thead th {\n",
       "        text-align: right;\n",
       "    }\n",
       "</style>\n",
       "<table border=\"1\" class=\"dataframe\">\n",
       "  <thead>\n",
       "    <tr style=\"text-align: right;\">\n",
       "      <th></th>\n",
       "      <th>INVOICE_NO</th>\n",
       "      <th>INVOICE_DATE</th>\n",
       "      <th>PRODUCT_NUMBER</th>\n",
       "      <th>QUANTITY_SOLD</th>\n",
       "      <th>PRICE_SOLD</th>\n",
       "      <th>PRODUCT_NAME</th>\n",
       "      <th>COST</th>\n",
       "      <th>RETAIL_PRICE</th>\n",
       "      <th>CATEGORY</th>\n",
       "      <th>ID</th>\n",
       "    </tr>\n",
       "  </thead>\n",
       "  <tbody>\n",
       "    <tr>\n",
       "      <th>1</th>\n",
       "      <td>1</td>\n",
       "      <td>2017-01-12 12:47:00</td>\n",
       "      <td>262924</td>\n",
       "      <td>1.0</td>\n",
       "      <td>160.0</td>\n",
       "      <td>Iced Flavor Fresh Herbs Pandan continental flavor</td>\n",
       "      <td>0.00000</td>\n",
       "      <td>160.0</td>\n",
       "      <td>COLD BREWED HEALTH TEA</td>\n",
       "      <td>1</td>\n",
       "    </tr>\n",
       "    <tr>\n",
       "      <th>2</th>\n",
       "      <td>2</td>\n",
       "      <td>2017-01-12 12:51:00</td>\n",
       "      <td>262800</td>\n",
       "      <td>1.0</td>\n",
       "      <td>160.0</td>\n",
       "      <td>Atok Benguet ( R )</td>\n",
       "      <td>15.71000</td>\n",
       "      <td>160.0</td>\n",
       "      <td>SPECIALTY COFFEE B</td>\n",
       "      <td>2</td>\n",
       "    </tr>\n",
       "    <tr>\n",
       "      <th>3</th>\n",
       "      <td>2</td>\n",
       "      <td>2017-01-12 12:51:00</td>\n",
       "      <td>262812</td>\n",
       "      <td>1.0</td>\n",
       "      <td>150.0</td>\n",
       "      <td>Cold brew Coffee Vanilla (R)</td>\n",
       "      <td>90.47720</td>\n",
       "      <td>150.0</td>\n",
       "      <td>COLD BREWED COFFEE</td>\n",
       "      <td>3</td>\n",
       "    </tr>\n",
       "    <tr>\n",
       "      <th>12</th>\n",
       "      <td>3</td>\n",
       "      <td>2017-01-12 12:56:00</td>\n",
       "      <td>262921</td>\n",
       "      <td>1.0</td>\n",
       "      <td>160.0</td>\n",
       "      <td>Iced Flavor Fresh Herbs Basil continental flavor</td>\n",
       "      <td>0.00000</td>\n",
       "      <td>160.0</td>\n",
       "      <td>COLD BREWED HEALTH TEA</td>\n",
       "      <td>12</td>\n",
       "    </tr>\n",
       "    <tr>\n",
       "      <th>13</th>\n",
       "      <td>4</td>\n",
       "      <td>2017-01-12 13:27:00</td>\n",
       "      <td>262751</td>\n",
       "      <td>1.0</td>\n",
       "      <td>170.0</td>\n",
       "      <td>Caramel Coffee  Blended(S)</td>\n",
       "      <td>5767.81000</td>\n",
       "      <td>170.0</td>\n",
       "      <td>ICE BLENDED</td>\n",
       "      <td>13</td>\n",
       "    </tr>\n",
       "    <tr>\n",
       "      <th>...</th>\n",
       "      <td>...</td>\n",
       "      <td>...</td>\n",
       "      <td>...</td>\n",
       "      <td>...</td>\n",
       "      <td>...</td>\n",
       "      <td>...</td>\n",
       "      <td>...</td>\n",
       "      <td>...</td>\n",
       "      <td>...</td>\n",
       "      <td>...</td>\n",
       "    </tr>\n",
       "    <tr>\n",
       "      <th>259242</th>\n",
       "      <td>30622</td>\n",
       "      <td>2020-12-10 15:26:00</td>\n",
       "      <td>262745</td>\n",
       "      <td>1.0</td>\n",
       "      <td>175.0</td>\n",
       "      <td>Iced Cafe Mocha (L)</td>\n",
       "      <td>25956.32636</td>\n",
       "      <td>175.0</td>\n",
       "      <td>ICED COFFEE</td>\n",
       "      <td>259242</td>\n",
       "    </tr>\n",
       "    <tr>\n",
       "      <th>259255</th>\n",
       "      <td>30623</td>\n",
       "      <td>2020-12-10 15:40:00</td>\n",
       "      <td>262741</td>\n",
       "      <td>1.0</td>\n",
       "      <td>175.0</td>\n",
       "      <td>Iced Caramel macchiato (L)</td>\n",
       "      <td>17299.56186</td>\n",
       "      <td>175.0</td>\n",
       "      <td>ICED COFFEE</td>\n",
       "      <td>259255</td>\n",
       "    </tr>\n",
       "    <tr>\n",
       "      <th>259278</th>\n",
       "      <td>30623</td>\n",
       "      <td>2020-12-10 15:40:00</td>\n",
       "      <td>268582</td>\n",
       "      <td>1.0</td>\n",
       "      <td>165.0</td>\n",
       "      <td>Carrot Cake \\Slice\\\"\"</td>\n",
       "      <td>53.00000</td>\n",
       "      <td>165.0</td>\n",
       "      <td>CAKES</td>\n",
       "      <td>259278</td>\n",
       "    </tr>\n",
       "    <tr>\n",
       "      <th>259254</th>\n",
       "      <td>30623</td>\n",
       "      <td>2020-12-10 15:40:00</td>\n",
       "      <td>262725</td>\n",
       "      <td>1.0</td>\n",
       "      <td>175.0</td>\n",
       "      <td>caramel Macchiato (L)</td>\n",
       "      <td>25189.00836</td>\n",
       "      <td>175.0</td>\n",
       "      <td>HOT ESPRESSO</td>\n",
       "      <td>259254</td>\n",
       "    </tr>\n",
       "    <tr>\n",
       "      <th>259279</th>\n",
       "      <td>30624</td>\n",
       "      <td>2020-12-10 16:48:00</td>\n",
       "      <td>262837</td>\n",
       "      <td>1.0</td>\n",
       "      <td>160.0</td>\n",
       "      <td>Smoked And Dark Iced ( L )</td>\n",
       "      <td>38.39000</td>\n",
       "      <td>160.0</td>\n",
       "      <td>HAND CRAFTED ICED CHOCOLATE</td>\n",
       "      <td>259279</td>\n",
       "    </tr>\n",
       "  </tbody>\n",
       "</table>\n",
       "<p>53883 rows × 10 columns</p>\n",
       "</div>"
      ],
      "text/plain": [
       "        INVOICE_NO        INVOICE_DATE  PRODUCT_NUMBER  QUANTITY_SOLD  \\\n",
       "1                1 2017-01-12 12:47:00          262924            1.0   \n",
       "2                2 2017-01-12 12:51:00          262800            1.0   \n",
       "3                2 2017-01-12 12:51:00          262812            1.0   \n",
       "12               3 2017-01-12 12:56:00          262921            1.0   \n",
       "13               4 2017-01-12 13:27:00          262751            1.0   \n",
       "...            ...                 ...             ...            ...   \n",
       "259242       30622 2020-12-10 15:26:00          262745            1.0   \n",
       "259255       30623 2020-12-10 15:40:00          262741            1.0   \n",
       "259278       30623 2020-12-10 15:40:00          268582            1.0   \n",
       "259254       30623 2020-12-10 15:40:00          262725            1.0   \n",
       "259279       30624 2020-12-10 16:48:00          262837            1.0   \n",
       "\n",
       "        PRICE_SOLD                                       PRODUCT_NAME  \\\n",
       "1            160.0  Iced Flavor Fresh Herbs Pandan continental flavor   \n",
       "2            160.0                                 Atok Benguet ( R )   \n",
       "3            150.0                       Cold brew Coffee Vanilla (R)   \n",
       "12           160.0   Iced Flavor Fresh Herbs Basil continental flavor   \n",
       "13           170.0                         Caramel Coffee  Blended(S)   \n",
       "...            ...                                                ...   \n",
       "259242       175.0                                Iced Cafe Mocha (L)   \n",
       "259255       175.0                         Iced Caramel macchiato (L)   \n",
       "259278       165.0                              Carrot Cake \\Slice\\\"\"   \n",
       "259254       175.0                              caramel Macchiato (L)   \n",
       "259279       160.0                         Smoked And Dark Iced ( L )   \n",
       "\n",
       "               COST  RETAIL_PRICE                     CATEGORY      ID  \n",
       "1           0.00000         160.0       COLD BREWED HEALTH TEA       1  \n",
       "2          15.71000         160.0           SPECIALTY COFFEE B       2  \n",
       "3          90.47720         150.0           COLD BREWED COFFEE       3  \n",
       "12          0.00000         160.0       COLD BREWED HEALTH TEA      12  \n",
       "13       5767.81000         170.0                  ICE BLENDED      13  \n",
       "...             ...           ...                          ...     ...  \n",
       "259242  25956.32636         175.0                  ICED COFFEE  259242  \n",
       "259255  17299.56186         175.0                  ICED COFFEE  259255  \n",
       "259278     53.00000         165.0                        CAKES  259278  \n",
       "259254  25189.00836         175.0                 HOT ESPRESSO  259254  \n",
       "259279     38.39000         160.0  HAND CRAFTED ICED CHOCOLATE  259279  \n",
       "\n",
       "[53883 rows x 10 columns]"
      ]
     },
     "execution_count": 32,
     "metadata": {},
     "output_type": "execute_result"
    }
   ],
   "source": [
    "# Let's make sure the df is sorted by date first\n",
    "invoices = invoices.sort_values(by='INVOICE_DATE',ascending=True)\n",
    "invoices"
   ]
  },
  {
   "cell_type": "code",
   "execution_count": 34,
   "metadata": {},
   "outputs": [],
   "source": [
    "### Now, let's create the index"
   ]
  },
  {
   "cell_type": "code",
   "execution_count": 35,
   "metadata": {},
   "outputs": [],
   "source": [
    "invoices[\"ID\"]=invoices.index"
   ]
  },
  {
   "cell_type": "markdown",
   "metadata": {},
   "source": [
    "#### We can check to see if the number of unique IDs match the number of rows"
   ]
  },
  {
   "cell_type": "code",
   "execution_count": 36,
   "metadata": {},
   "outputs": [
    {
     "data": {
      "text/plain": [
       "53883"
      ]
     },
     "execution_count": 36,
     "metadata": {},
     "output_type": "execute_result"
    }
   ],
   "source": [
    "invoices[\"ID\"].nunique()"
   ]
  },
  {
   "cell_type": "markdown",
   "metadata": {},
   "source": [
    "#### Here is our new shape, with 1 additional feature"
   ]
  },
  {
   "cell_type": "code",
   "execution_count": 37,
   "metadata": {},
   "outputs": [
    {
     "data": {
      "text/plain": [
       "(53883, 10)"
      ]
     },
     "execution_count": 37,
     "metadata": {},
     "output_type": "execute_result"
    }
   ],
   "source": [
    "invoices.shape"
   ]
  },
  {
   "cell_type": "markdown",
   "metadata": {},
   "source": [
    "#### Now, lets check the data type for each feature"
   ]
  },
  {
   "cell_type": "code",
   "execution_count": 38,
   "metadata": {},
   "outputs": [
    {
     "name": "stdout",
     "output_type": "stream",
     "text": [
      "<class 'pandas.core.frame.DataFrame'>\n",
      "Int64Index: 53883 entries, 1 to 259279\n",
      "Data columns (total 10 columns):\n",
      " #   Column          Non-Null Count  Dtype         \n",
      "---  ------          --------------  -----         \n",
      " 0   INVOICE_NO      53883 non-null  int64         \n",
      " 1   INVOICE_DATE    53883 non-null  datetime64[ns]\n",
      " 2   PRODUCT_NUMBER  53883 non-null  int64         \n",
      " 3   QUANTITY_SOLD   53883 non-null  float64       \n",
      " 4   PRICE_SOLD      53883 non-null  float64       \n",
      " 5   PRODUCT_NAME    53883 non-null  object        \n",
      " 6   COST            53883 non-null  float64       \n",
      " 7   RETAIL_PRICE    53883 non-null  float64       \n",
      " 8   CATEGORY        53883 non-null  object        \n",
      " 9   ID              53883 non-null  int64         \n",
      "dtypes: datetime64[ns](1), float64(4), int64(3), object(2)\n",
      "memory usage: 4.5+ MB\n"
     ]
    }
   ],
   "source": [
    "invoices.info()"
   ]
  },
  {
   "cell_type": "markdown",
   "metadata": {},
   "source": [
    "#### Above we can see that we need to change the data type of some features (i.e. `INVOICE_NO` needs to be datetime). However, I will check for null values first so we do not work on features that we might drop anyway."
   ]
  },
  {
   "cell_type": "markdown",
   "metadata": {},
   "source": [
    "# Checking for null values"
   ]
  },
  {
   "cell_type": "markdown",
   "metadata": {},
   "source": [
    "#### We can view the number of rows that are null in each feature"
   ]
  },
  {
   "cell_type": "code",
   "execution_count": 39,
   "metadata": {},
   "outputs": [
    {
     "data": {
      "text/plain": [
       "INVOICE_NO        0\n",
       "INVOICE_DATE      0\n",
       "PRODUCT_NUMBER    0\n",
       "QUANTITY_SOLD     0\n",
       "PRICE_SOLD        0\n",
       "PRODUCT_NAME      0\n",
       "COST              0\n",
       "RETAIL_PRICE      0\n",
       "CATEGORY          0\n",
       "ID                0\n",
       "dtype: int64"
      ]
     },
     "execution_count": 39,
     "metadata": {},
     "output_type": "execute_result"
    }
   ],
   "source": [
    "invoices.isna().sum()"
   ]
  },
  {
   "cell_type": "markdown",
   "metadata": {},
   "source": [
    "#### Since several of these features are not necessary in our analysis, or contain duplicate information, we can drop them"
   ]
  },
  {
   "cell_type": "code",
   "execution_count": 40,
   "metadata": {},
   "outputs": [
    {
     "ename": "KeyError",
     "evalue": "\"['BRANCH_NAME' 'BRANCH_ID' 'UNIT' 'DISCOUNT_CODE' 'DISCOUNT_TEXT'] not found in axis\"",
     "output_type": "error",
     "traceback": [
      "\u001b[1;31m---------------------------------------------------------------------------\u001b[0m",
      "\u001b[1;31mKeyError\u001b[0m                                  Traceback (most recent call last)",
      "\u001b[1;32m<ipython-input-40-0a08631e68a4>\u001b[0m in \u001b[0;36m<module>\u001b[1;34m\u001b[0m\n\u001b[0;32m      1\u001b[0m \u001b[0mcolumns\u001b[0m \u001b[1;33m=\u001b[0m \u001b[1;33m[\u001b[0m\u001b[1;34m'BRANCH_NAME'\u001b[0m\u001b[1;33m,\u001b[0m \u001b[1;34m'BRANCH_ID'\u001b[0m\u001b[1;33m,\u001b[0m \u001b[1;34m'UNIT'\u001b[0m\u001b[1;33m,\u001b[0m \u001b[1;34m'DISCOUNT_CODE'\u001b[0m\u001b[1;33m,\u001b[0m \u001b[1;34m'DISCOUNT_TEXT'\u001b[0m\u001b[1;33m]\u001b[0m\u001b[1;33m\u001b[0m\u001b[1;33m\u001b[0m\u001b[0m\n\u001b[0;32m      2\u001b[0m \u001b[1;33m\u001b[0m\u001b[0m\n\u001b[1;32m----> 3\u001b[1;33m \u001b[0minvoices\u001b[0m\u001b[1;33m.\u001b[0m\u001b[0mdrop\u001b[0m\u001b[1;33m(\u001b[0m\u001b[0mcolumns\u001b[0m\u001b[1;33m,\u001b[0m \u001b[0maxis\u001b[0m\u001b[1;33m=\u001b[0m\u001b[1;36m1\u001b[0m\u001b[1;33m,\u001b[0m \u001b[0minplace\u001b[0m \u001b[1;33m=\u001b[0m \u001b[1;32mTrue\u001b[0m\u001b[1;33m)\u001b[0m\u001b[1;33m\u001b[0m\u001b[1;33m\u001b[0m\u001b[0m\n\u001b[0m\u001b[0;32m      4\u001b[0m \u001b[0minvoices\u001b[0m\u001b[1;33m.\u001b[0m\u001b[0minfo\u001b[0m\u001b[1;33m(\u001b[0m\u001b[1;33m)\u001b[0m\u001b[1;33m\u001b[0m\u001b[1;33m\u001b[0m\u001b[0m\n",
      "\u001b[1;32m~\\anaconda3\\envs\\coffee\\lib\\site-packages\\pandas\\core\\frame.py\u001b[0m in \u001b[0;36mdrop\u001b[1;34m(self, labels, axis, index, columns, level, inplace, errors)\u001b[0m\n\u001b[0;32m   4161\u001b[0m                 \u001b[0mweight\u001b[0m  \u001b[1;36m1.0\u001b[0m     \u001b[1;36m0.8\u001b[0m\u001b[1;33m\u001b[0m\u001b[1;33m\u001b[0m\u001b[0m\n\u001b[0;32m   4162\u001b[0m         \"\"\"\n\u001b[1;32m-> 4163\u001b[1;33m         return super().drop(\n\u001b[0m\u001b[0;32m   4164\u001b[0m             \u001b[0mlabels\u001b[0m\u001b[1;33m=\u001b[0m\u001b[0mlabels\u001b[0m\u001b[1;33m,\u001b[0m\u001b[1;33m\u001b[0m\u001b[1;33m\u001b[0m\u001b[0m\n\u001b[0;32m   4165\u001b[0m             \u001b[0maxis\u001b[0m\u001b[1;33m=\u001b[0m\u001b[0maxis\u001b[0m\u001b[1;33m,\u001b[0m\u001b[1;33m\u001b[0m\u001b[1;33m\u001b[0m\u001b[0m\n",
      "\u001b[1;32m~\\anaconda3\\envs\\coffee\\lib\\site-packages\\pandas\\core\\generic.py\u001b[0m in \u001b[0;36mdrop\u001b[1;34m(self, labels, axis, index, columns, level, inplace, errors)\u001b[0m\n\u001b[0;32m   3885\u001b[0m         \u001b[1;32mfor\u001b[0m \u001b[0maxis\u001b[0m\u001b[1;33m,\u001b[0m \u001b[0mlabels\u001b[0m \u001b[1;32min\u001b[0m \u001b[0maxes\u001b[0m\u001b[1;33m.\u001b[0m\u001b[0mitems\u001b[0m\u001b[1;33m(\u001b[0m\u001b[1;33m)\u001b[0m\u001b[1;33m:\u001b[0m\u001b[1;33m\u001b[0m\u001b[1;33m\u001b[0m\u001b[0m\n\u001b[0;32m   3886\u001b[0m             \u001b[1;32mif\u001b[0m \u001b[0mlabels\u001b[0m \u001b[1;32mis\u001b[0m \u001b[1;32mnot\u001b[0m \u001b[1;32mNone\u001b[0m\u001b[1;33m:\u001b[0m\u001b[1;33m\u001b[0m\u001b[1;33m\u001b[0m\u001b[0m\n\u001b[1;32m-> 3887\u001b[1;33m                 \u001b[0mobj\u001b[0m \u001b[1;33m=\u001b[0m \u001b[0mobj\u001b[0m\u001b[1;33m.\u001b[0m\u001b[0m_drop_axis\u001b[0m\u001b[1;33m(\u001b[0m\u001b[0mlabels\u001b[0m\u001b[1;33m,\u001b[0m \u001b[0maxis\u001b[0m\u001b[1;33m,\u001b[0m \u001b[0mlevel\u001b[0m\u001b[1;33m=\u001b[0m\u001b[0mlevel\u001b[0m\u001b[1;33m,\u001b[0m \u001b[0merrors\u001b[0m\u001b[1;33m=\u001b[0m\u001b[0merrors\u001b[0m\u001b[1;33m)\u001b[0m\u001b[1;33m\u001b[0m\u001b[1;33m\u001b[0m\u001b[0m\n\u001b[0m\u001b[0;32m   3888\u001b[0m \u001b[1;33m\u001b[0m\u001b[0m\n\u001b[0;32m   3889\u001b[0m         \u001b[1;32mif\u001b[0m \u001b[0minplace\u001b[0m\u001b[1;33m:\u001b[0m\u001b[1;33m\u001b[0m\u001b[1;33m\u001b[0m\u001b[0m\n",
      "\u001b[1;32m~\\anaconda3\\envs\\coffee\\lib\\site-packages\\pandas\\core\\generic.py\u001b[0m in \u001b[0;36m_drop_axis\u001b[1;34m(self, labels, axis, level, errors)\u001b[0m\n\u001b[0;32m   3919\u001b[0m                 \u001b[0mnew_axis\u001b[0m \u001b[1;33m=\u001b[0m \u001b[0maxis\u001b[0m\u001b[1;33m.\u001b[0m\u001b[0mdrop\u001b[0m\u001b[1;33m(\u001b[0m\u001b[0mlabels\u001b[0m\u001b[1;33m,\u001b[0m \u001b[0mlevel\u001b[0m\u001b[1;33m=\u001b[0m\u001b[0mlevel\u001b[0m\u001b[1;33m,\u001b[0m \u001b[0merrors\u001b[0m\u001b[1;33m=\u001b[0m\u001b[0merrors\u001b[0m\u001b[1;33m)\u001b[0m\u001b[1;33m\u001b[0m\u001b[1;33m\u001b[0m\u001b[0m\n\u001b[0;32m   3920\u001b[0m             \u001b[1;32melse\u001b[0m\u001b[1;33m:\u001b[0m\u001b[1;33m\u001b[0m\u001b[1;33m\u001b[0m\u001b[0m\n\u001b[1;32m-> 3921\u001b[1;33m                 \u001b[0mnew_axis\u001b[0m \u001b[1;33m=\u001b[0m \u001b[0maxis\u001b[0m\u001b[1;33m.\u001b[0m\u001b[0mdrop\u001b[0m\u001b[1;33m(\u001b[0m\u001b[0mlabels\u001b[0m\u001b[1;33m,\u001b[0m \u001b[0merrors\u001b[0m\u001b[1;33m=\u001b[0m\u001b[0merrors\u001b[0m\u001b[1;33m)\u001b[0m\u001b[1;33m\u001b[0m\u001b[1;33m\u001b[0m\u001b[0m\n\u001b[0m\u001b[0;32m   3922\u001b[0m             \u001b[0mresult\u001b[0m \u001b[1;33m=\u001b[0m \u001b[0mself\u001b[0m\u001b[1;33m.\u001b[0m\u001b[0mreindex\u001b[0m\u001b[1;33m(\u001b[0m\u001b[1;33m**\u001b[0m\u001b[1;33m{\u001b[0m\u001b[0maxis_name\u001b[0m\u001b[1;33m:\u001b[0m \u001b[0mnew_axis\u001b[0m\u001b[1;33m}\u001b[0m\u001b[1;33m)\u001b[0m\u001b[1;33m\u001b[0m\u001b[1;33m\u001b[0m\u001b[0m\n\u001b[0;32m   3923\u001b[0m \u001b[1;33m\u001b[0m\u001b[0m\n",
      "\u001b[1;32m~\\anaconda3\\envs\\coffee\\lib\\site-packages\\pandas\\core\\indexes\\base.py\u001b[0m in \u001b[0;36mdrop\u001b[1;34m(self, labels, errors)\u001b[0m\n\u001b[0;32m   5280\u001b[0m         \u001b[1;32mif\u001b[0m \u001b[0mmask\u001b[0m\u001b[1;33m.\u001b[0m\u001b[0many\u001b[0m\u001b[1;33m(\u001b[0m\u001b[1;33m)\u001b[0m\u001b[1;33m:\u001b[0m\u001b[1;33m\u001b[0m\u001b[1;33m\u001b[0m\u001b[0m\n\u001b[0;32m   5281\u001b[0m             \u001b[1;32mif\u001b[0m \u001b[0merrors\u001b[0m \u001b[1;33m!=\u001b[0m \u001b[1;34m\"ignore\"\u001b[0m\u001b[1;33m:\u001b[0m\u001b[1;33m\u001b[0m\u001b[1;33m\u001b[0m\u001b[0m\n\u001b[1;32m-> 5282\u001b[1;33m                 \u001b[1;32mraise\u001b[0m \u001b[0mKeyError\u001b[0m\u001b[1;33m(\u001b[0m\u001b[1;34mf\"{labels[mask]} not found in axis\"\u001b[0m\u001b[1;33m)\u001b[0m\u001b[1;33m\u001b[0m\u001b[1;33m\u001b[0m\u001b[0m\n\u001b[0m\u001b[0;32m   5283\u001b[0m             \u001b[0mindexer\u001b[0m \u001b[1;33m=\u001b[0m \u001b[0mindexer\u001b[0m\u001b[1;33m[\u001b[0m\u001b[1;33m~\u001b[0m\u001b[0mmask\u001b[0m\u001b[1;33m]\u001b[0m\u001b[1;33m\u001b[0m\u001b[1;33m\u001b[0m\u001b[0m\n\u001b[0;32m   5284\u001b[0m         \u001b[1;32mreturn\u001b[0m \u001b[0mself\u001b[0m\u001b[1;33m.\u001b[0m\u001b[0mdelete\u001b[0m\u001b[1;33m(\u001b[0m\u001b[0mindexer\u001b[0m\u001b[1;33m)\u001b[0m\u001b[1;33m\u001b[0m\u001b[1;33m\u001b[0m\u001b[0m\n",
      "\u001b[1;31mKeyError\u001b[0m: \"['BRANCH_NAME' 'BRANCH_ID' 'UNIT' 'DISCOUNT_CODE' 'DISCOUNT_TEXT'] not found in axis\""
     ]
    }
   ],
   "source": [
    "columns = ['BRANCH_NAME', 'BRANCH_ID', 'UNIT', 'DISCOUNT_CODE', 'DISCOUNT_TEXT']\n",
    "\n",
    "invoices.drop(columns, axis=1, inplace = True)\n",
    "invoices.info()"
   ]
  },
  {
   "cell_type": "markdown",
   "metadata": {},
   "source": [
    "#### Above is the list of our remaining columns"
   ]
  },
  {
   "cell_type": "markdown",
   "metadata": {},
   "source": [
    "# Changing Data type\n",
    "\n",
    "Now, we can change the data type of the remaining columns"
   ]
  },
  {
   "cell_type": "code",
   "execution_count": null,
   "metadata": {},
   "outputs": [],
   "source": [
    "invoices['INVOICE_DATE'] = invoices['INVOICE_DATE'].astype('datetime64')\n",
    "#pd.to_datetime(df['Datetime'], format=\"%m/%d/%Y, %H:%M:%S\")"
   ]
  },
  {
   "cell_type": "markdown",
   "metadata": {},
   "source": [
    "#### We can see if the transformation worked by checking the data type again."
   ]
  },
  {
   "cell_type": "code",
   "execution_count": null,
   "metadata": {},
   "outputs": [],
   "source": [
    "invoices.dtypes"
   ]
  },
  {
   "cell_type": "markdown",
   "metadata": {},
   "source": [
    "#### Now, our features have the correct data types.\n",
    "\n",
    "Let's view the data again."
   ]
  },
  {
   "cell_type": "code",
   "execution_count": 41,
   "metadata": {
    "scrolled": true
   },
   "outputs": [
    {
     "data": {
      "text/html": [
       "<div>\n",
       "<style scoped>\n",
       "    .dataframe tbody tr th:only-of-type {\n",
       "        vertical-align: middle;\n",
       "    }\n",
       "\n",
       "    .dataframe tbody tr th {\n",
       "        vertical-align: top;\n",
       "    }\n",
       "\n",
       "    .dataframe thead th {\n",
       "        text-align: right;\n",
       "    }\n",
       "</style>\n",
       "<table border=\"1\" class=\"dataframe\">\n",
       "  <thead>\n",
       "    <tr style=\"text-align: right;\">\n",
       "      <th></th>\n",
       "      <th>INVOICE_NO</th>\n",
       "      <th>INVOICE_DATE</th>\n",
       "      <th>PRODUCT_NUMBER</th>\n",
       "      <th>QUANTITY_SOLD</th>\n",
       "      <th>PRICE_SOLD</th>\n",
       "      <th>PRODUCT_NAME</th>\n",
       "      <th>COST</th>\n",
       "      <th>RETAIL_PRICE</th>\n",
       "      <th>CATEGORY</th>\n",
       "      <th>ID</th>\n",
       "    </tr>\n",
       "  </thead>\n",
       "  <tbody>\n",
       "    <tr>\n",
       "      <th>1</th>\n",
       "      <td>1</td>\n",
       "      <td>2017-01-12 12:47:00</td>\n",
       "      <td>262924</td>\n",
       "      <td>1.0</td>\n",
       "      <td>160.0</td>\n",
       "      <td>Iced Flavor Fresh Herbs Pandan continental flavor</td>\n",
       "      <td>0.0000</td>\n",
       "      <td>160.0</td>\n",
       "      <td>COLD BREWED HEALTH TEA</td>\n",
       "      <td>1</td>\n",
       "    </tr>\n",
       "    <tr>\n",
       "      <th>2</th>\n",
       "      <td>2</td>\n",
       "      <td>2017-01-12 12:51:00</td>\n",
       "      <td>262800</td>\n",
       "      <td>1.0</td>\n",
       "      <td>160.0</td>\n",
       "      <td>Atok Benguet ( R )</td>\n",
       "      <td>15.7100</td>\n",
       "      <td>160.0</td>\n",
       "      <td>SPECIALTY COFFEE B</td>\n",
       "      <td>2</td>\n",
       "    </tr>\n",
       "    <tr>\n",
       "      <th>3</th>\n",
       "      <td>2</td>\n",
       "      <td>2017-01-12 12:51:00</td>\n",
       "      <td>262812</td>\n",
       "      <td>1.0</td>\n",
       "      <td>150.0</td>\n",
       "      <td>Cold brew Coffee Vanilla (R)</td>\n",
       "      <td>90.4772</td>\n",
       "      <td>150.0</td>\n",
       "      <td>COLD BREWED COFFEE</td>\n",
       "      <td>3</td>\n",
       "    </tr>\n",
       "    <tr>\n",
       "      <th>12</th>\n",
       "      <td>3</td>\n",
       "      <td>2017-01-12 12:56:00</td>\n",
       "      <td>262921</td>\n",
       "      <td>1.0</td>\n",
       "      <td>160.0</td>\n",
       "      <td>Iced Flavor Fresh Herbs Basil continental flavor</td>\n",
       "      <td>0.0000</td>\n",
       "      <td>160.0</td>\n",
       "      <td>COLD BREWED HEALTH TEA</td>\n",
       "      <td>12</td>\n",
       "    </tr>\n",
       "    <tr>\n",
       "      <th>13</th>\n",
       "      <td>4</td>\n",
       "      <td>2017-01-12 13:27:00</td>\n",
       "      <td>262751</td>\n",
       "      <td>1.0</td>\n",
       "      <td>170.0</td>\n",
       "      <td>Caramel Coffee  Blended(S)</td>\n",
       "      <td>5767.8100</td>\n",
       "      <td>170.0</td>\n",
       "      <td>ICE BLENDED</td>\n",
       "      <td>13</td>\n",
       "    </tr>\n",
       "  </tbody>\n",
       "</table>\n",
       "</div>"
      ],
      "text/plain": [
       "    INVOICE_NO        INVOICE_DATE  PRODUCT_NUMBER  QUANTITY_SOLD  PRICE_SOLD  \\\n",
       "1            1 2017-01-12 12:47:00          262924            1.0       160.0   \n",
       "2            2 2017-01-12 12:51:00          262800            1.0       160.0   \n",
       "3            2 2017-01-12 12:51:00          262812            1.0       150.0   \n",
       "12           3 2017-01-12 12:56:00          262921            1.0       160.0   \n",
       "13           4 2017-01-12 13:27:00          262751            1.0       170.0   \n",
       "\n",
       "                                         PRODUCT_NAME       COST  \\\n",
       "1   Iced Flavor Fresh Herbs Pandan continental flavor     0.0000   \n",
       "2                                  Atok Benguet ( R )    15.7100   \n",
       "3                        Cold brew Coffee Vanilla (R)    90.4772   \n",
       "12   Iced Flavor Fresh Herbs Basil continental flavor     0.0000   \n",
       "13                         Caramel Coffee  Blended(S)  5767.8100   \n",
       "\n",
       "    RETAIL_PRICE                CATEGORY  ID  \n",
       "1          160.0  COLD BREWED HEALTH TEA   1  \n",
       "2          160.0      SPECIALTY COFFEE B   2  \n",
       "3          150.0      COLD BREWED COFFEE   3  \n",
       "12         160.0  COLD BREWED HEALTH TEA  12  \n",
       "13         170.0             ICE BLENDED  13  "
      ]
     },
     "execution_count": 41,
     "metadata": {},
     "output_type": "execute_result"
    }
   ],
   "source": [
    "invoices.head()"
   ]
  },
  {
   "cell_type": "markdown",
   "metadata": {},
   "source": [
    "#### Here is what changed in our main df."
   ]
  },
  {
   "cell_type": "code",
   "execution_count": 42,
   "metadata": {},
   "outputs": [
    {
     "name": "stdout",
     "output_type": "stream",
     "text": [
      "Our shape has dropped to 53883 rows and 10 columns\n"
     ]
    }
   ],
   "source": [
    "print(f'Our shape has dropped to {invoices.shape[0]} rows and {invoices.shape[1]} columns')"
   ]
  },
  {
   "cell_type": "markdown",
   "metadata": {},
   "source": [
    "#### What is the time period of our data?\n",
    "Let's check the number of rows per year."
   ]
  },
  {
   "cell_type": "code",
   "execution_count": 43,
   "metadata": {},
   "outputs": [
    {
     "data": {
      "text/plain": [
       "INVOICE_DATE\n",
       "2017     1991\n",
       "2018    22472\n",
       "2019    23541\n",
       "2020     5879\n",
       "Name: INVOICE_DATE, dtype: int64"
      ]
     },
     "execution_count": 43,
     "metadata": {},
     "output_type": "execute_result"
    }
   ],
   "source": [
    "invoices['INVOICE_DATE'].groupby(invoices.INVOICE_DATE.dt.year).agg('count')"
   ]
  },
  {
   "cell_type": "markdown",
   "metadata": {},
   "source": [
    "---"
   ]
  },
  {
   "cell_type": "markdown",
   "metadata": {},
   "source": [
    "# Feature Engineering & Further Cleaning\n",
    "\n",
    "Since I need to isolate cakes, let's view the categories and see if we can use this to find the product we are focusing on."
   ]
  },
  {
   "cell_type": "code",
   "execution_count": 44,
   "metadata": {},
   "outputs": [
    {
     "data": {
      "text/plain": [
       "array(['COLD BREWED HEALTH TEA', 'SPECIALTY COFFEE B',\n",
       "       'COLD BREWED COFFEE', 'ICE BLENDED', '20 ADDONS', 'BOTTLED WATER',\n",
       "       'KOMBUCHA ', 'ICED COFFEE', 'HOT ESPRESSO', 'CAKES',\n",
       "       'HAND CRAFTED HOT CHOCOLATE', 'HAND CRAFTED ICED CHOCOLATE',\n",
       "       'SPECIALTY COFFEE A', 'LOOSE LEAF PREMIUM TEAS HOT',\n",
       "       'HAND CRAFTED BLENDED CHOCOLATE ', '11 Cookies Gourmet ',\n",
       "       'Cookies Gourmet ', 'PREMIUM TEA LATTE', '4 SINGLE ORIGIN BEANS',\n",
       "       'BOTTLED DRINKS', '17 BOTTLED DRINKS', 'Savory', '12 CAKES',\n",
       "       'Bars', 'ADDONS', 'BOTTLED COLD BREW HEALTH TEA',\n",
       "       'Tea Retail Pack', 'Brownies', '9 LOOSE LEAF PREMIUM TEAS HOT',\n",
       "       'SINGLE ORIGIN BEANS', 'CACAO BLOCKS', '13 Savory',\n",
       "       'Monster Cookies', 'Muffin'], dtype=object)"
      ]
     },
     "execution_count": 44,
     "metadata": {},
     "output_type": "execute_result"
    }
   ],
   "source": [
    "invoices['CATEGORY'].unique()"
   ]
  },
  {
   "cell_type": "markdown",
   "metadata": {},
   "source": [
    "### While we could easily do this code to select just cakes, I chose to recategorize the dataframe to prepare it for future forecasting and get in some cleaning practice."
   ]
  },
  {
   "cell_type": "code",
   "execution_count": 45,
   "metadata": {
    "scrolled": true
   },
   "outputs": [
    {
     "data": {
      "text/html": [
       "<div>\n",
       "<style scoped>\n",
       "    .dataframe tbody tr th:only-of-type {\n",
       "        vertical-align: middle;\n",
       "    }\n",
       "\n",
       "    .dataframe tbody tr th {\n",
       "        vertical-align: top;\n",
       "    }\n",
       "\n",
       "    .dataframe thead th {\n",
       "        text-align: right;\n",
       "    }\n",
       "</style>\n",
       "<table border=\"1\" class=\"dataframe\">\n",
       "  <thead>\n",
       "    <tr style=\"text-align: right;\">\n",
       "      <th></th>\n",
       "      <th>INVOICE_NO</th>\n",
       "      <th>INVOICE_DATE</th>\n",
       "      <th>PRODUCT_NUMBER</th>\n",
       "      <th>QUANTITY_SOLD</th>\n",
       "      <th>PRICE_SOLD</th>\n",
       "      <th>PRODUCT_NAME</th>\n",
       "      <th>COST</th>\n",
       "      <th>RETAIL_PRICE</th>\n",
       "      <th>CATEGORY</th>\n",
       "      <th>ID</th>\n",
       "    </tr>\n",
       "  </thead>\n",
       "  <tbody>\n",
       "    <tr>\n",
       "      <th>36</th>\n",
       "      <td>6</td>\n",
       "      <td>2017-01-12 14:02:00</td>\n",
       "      <td>263287</td>\n",
       "      <td>1.0</td>\n",
       "      <td>145.0</td>\n",
       "      <td>2X2\\ Square Peanut Butter Cheesecake\"</td>\n",
       "      <td>0.0</td>\n",
       "      <td>145.0</td>\n",
       "      <td>CAKES</td>\n",
       "      <td>36</td>\n",
       "    </tr>\n",
       "    <tr>\n",
       "      <th>59</th>\n",
       "      <td>9</td>\n",
       "      <td>2017-01-12 14:23:00</td>\n",
       "      <td>263287</td>\n",
       "      <td>1.0</td>\n",
       "      <td>145.0</td>\n",
       "      <td>2X2\\ Square Peanut Butter Cheesecake\"</td>\n",
       "      <td>0.0</td>\n",
       "      <td>145.0</td>\n",
       "      <td>CAKES</td>\n",
       "      <td>59</td>\n",
       "    </tr>\n",
       "    <tr>\n",
       "      <th>72</th>\n",
       "      <td>10</td>\n",
       "      <td>2017-01-12 14:39:00</td>\n",
       "      <td>263290</td>\n",
       "      <td>2.0</td>\n",
       "      <td>55.0</td>\n",
       "      <td>Dark Choco Caramel Sticks</td>\n",
       "      <td>640.0</td>\n",
       "      <td>55.0</td>\n",
       "      <td>CAKES</td>\n",
       "      <td>72</td>\n",
       "    </tr>\n",
       "    <tr>\n",
       "      <th>71</th>\n",
       "      <td>10</td>\n",
       "      <td>2017-01-12 14:39:00</td>\n",
       "      <td>263287</td>\n",
       "      <td>1.0</td>\n",
       "      <td>145.0</td>\n",
       "      <td>2X2\\ Square Peanut Butter Cheesecake\"</td>\n",
       "      <td>0.0</td>\n",
       "      <td>145.0</td>\n",
       "      <td>CAKES</td>\n",
       "      <td>71</td>\n",
       "    </tr>\n",
       "    <tr>\n",
       "      <th>90</th>\n",
       "      <td>12</td>\n",
       "      <td>2017-01-12 14:56:00</td>\n",
       "      <td>263540</td>\n",
       "      <td>1.0</td>\n",
       "      <td>295.0</td>\n",
       "      <td>9\\ New York Cheese Cake Slice\"</td>\n",
       "      <td>0.0</td>\n",
       "      <td>295.0</td>\n",
       "      <td>CAKES</td>\n",
       "      <td>90</td>\n",
       "    </tr>\n",
       "    <tr>\n",
       "      <th>...</th>\n",
       "      <td>...</td>\n",
       "      <td>...</td>\n",
       "      <td>...</td>\n",
       "      <td>...</td>\n",
       "      <td>...</td>\n",
       "      <td>...</td>\n",
       "      <td>...</td>\n",
       "      <td>...</td>\n",
       "      <td>...</td>\n",
       "      <td>...</td>\n",
       "    </tr>\n",
       "    <tr>\n",
       "      <th>256794</th>\n",
       "      <td>30413</td>\n",
       "      <td>2020-12-09 15:36:00</td>\n",
       "      <td>320621</td>\n",
       "      <td>1.0</td>\n",
       "      <td>135.0</td>\n",
       "      <td>Rock Salted Chocolate Cake Slice</td>\n",
       "      <td>55.0</td>\n",
       "      <td>135.0</td>\n",
       "      <td>CAKES</td>\n",
       "      <td>256794</td>\n",
       "    </tr>\n",
       "    <tr>\n",
       "      <th>256795</th>\n",
       "      <td>30414</td>\n",
       "      <td>2020-12-09 15:37:00</td>\n",
       "      <td>320623</td>\n",
       "      <td>1.0</td>\n",
       "      <td>135.0</td>\n",
       "      <td>Dulce De Leche Cake Slice</td>\n",
       "      <td>55.0</td>\n",
       "      <td>135.0</td>\n",
       "      <td>CAKES</td>\n",
       "      <td>256795</td>\n",
       "    </tr>\n",
       "    <tr>\n",
       "      <th>259201</th>\n",
       "      <td>30617</td>\n",
       "      <td>2020-12-10 12:26:00</td>\n",
       "      <td>283928</td>\n",
       "      <td>1.0</td>\n",
       "      <td>145.0</td>\n",
       "      <td>Red Velvet Slice</td>\n",
       "      <td>42.5</td>\n",
       "      <td>145.0</td>\n",
       "      <td>CAKES</td>\n",
       "      <td>259201</td>\n",
       "    </tr>\n",
       "    <tr>\n",
       "      <th>259213</th>\n",
       "      <td>30618</td>\n",
       "      <td>2020-12-10 14:47:00</td>\n",
       "      <td>283928</td>\n",
       "      <td>1.0</td>\n",
       "      <td>145.0</td>\n",
       "      <td>Red Velvet Slice</td>\n",
       "      <td>42.5</td>\n",
       "      <td>145.0</td>\n",
       "      <td>CAKES</td>\n",
       "      <td>259213</td>\n",
       "    </tr>\n",
       "    <tr>\n",
       "      <th>259278</th>\n",
       "      <td>30623</td>\n",
       "      <td>2020-12-10 15:40:00</td>\n",
       "      <td>268582</td>\n",
       "      <td>1.0</td>\n",
       "      <td>165.0</td>\n",
       "      <td>Carrot Cake \\Slice\\\"\"</td>\n",
       "      <td>53.0</td>\n",
       "      <td>165.0</td>\n",
       "      <td>CAKES</td>\n",
       "      <td>259278</td>\n",
       "    </tr>\n",
       "  </tbody>\n",
       "</table>\n",
       "<p>5374 rows × 10 columns</p>\n",
       "</div>"
      ],
      "text/plain": [
       "        INVOICE_NO        INVOICE_DATE  PRODUCT_NUMBER  QUANTITY_SOLD  \\\n",
       "36               6 2017-01-12 14:02:00          263287            1.0   \n",
       "59               9 2017-01-12 14:23:00          263287            1.0   \n",
       "72              10 2017-01-12 14:39:00          263290            2.0   \n",
       "71              10 2017-01-12 14:39:00          263287            1.0   \n",
       "90              12 2017-01-12 14:56:00          263540            1.0   \n",
       "...            ...                 ...             ...            ...   \n",
       "256794       30413 2020-12-09 15:36:00          320621            1.0   \n",
       "256795       30414 2020-12-09 15:37:00          320623            1.0   \n",
       "259201       30617 2020-12-10 12:26:00          283928            1.0   \n",
       "259213       30618 2020-12-10 14:47:00          283928            1.0   \n",
       "259278       30623 2020-12-10 15:40:00          268582            1.0   \n",
       "\n",
       "        PRICE_SOLD                           PRODUCT_NAME   COST  \\\n",
       "36           145.0  2X2\\ Square Peanut Butter Cheesecake\"    0.0   \n",
       "59           145.0  2X2\\ Square Peanut Butter Cheesecake\"    0.0   \n",
       "72            55.0              Dark Choco Caramel Sticks  640.0   \n",
       "71           145.0  2X2\\ Square Peanut Butter Cheesecake\"    0.0   \n",
       "90           295.0         9\\ New York Cheese Cake Slice\"    0.0   \n",
       "...            ...                                    ...    ...   \n",
       "256794       135.0       Rock Salted Chocolate Cake Slice   55.0   \n",
       "256795       135.0              Dulce De Leche Cake Slice   55.0   \n",
       "259201       145.0                       Red Velvet Slice   42.5   \n",
       "259213       145.0                       Red Velvet Slice   42.5   \n",
       "259278       165.0                  Carrot Cake \\Slice\\\"\"   53.0   \n",
       "\n",
       "        RETAIL_PRICE CATEGORY      ID  \n",
       "36             145.0    CAKES      36  \n",
       "59             145.0    CAKES      59  \n",
       "72              55.0    CAKES      72  \n",
       "71             145.0    CAKES      71  \n",
       "90             295.0    CAKES      90  \n",
       "...              ...      ...     ...  \n",
       "256794         135.0    CAKES  256794  \n",
       "256795         135.0    CAKES  256795  \n",
       "259201         145.0    CAKES  259201  \n",
       "259213         145.0    CAKES  259213  \n",
       "259278         165.0    CAKES  259278  \n",
       "\n",
       "[5374 rows x 10 columns]"
      ]
     },
     "execution_count": 45,
     "metadata": {},
     "output_type": "execute_result"
    }
   ],
   "source": [
    "# We can view the cakes with this code\n",
    "invoices[invoices.CATEGORY.str.contains('CAKES')]"
   ]
  },
  {
   "cell_type": "code",
   "execution_count": 46,
   "metadata": {},
   "outputs": [
    {
     "data": {
      "text/plain": [
       "(5374, 10)"
      ]
     },
     "execution_count": 46,
     "metadata": {},
     "output_type": "execute_result"
    }
   ],
   "source": [
    "# We can view the cakes shape with this code\n",
    "invoices[invoices.CATEGORY.str.contains('CAKES')].shape"
   ]
  },
  {
   "cell_type": "markdown",
   "metadata": {},
   "source": [
    "## We need to recategorize and remove non-perishable products and raw materials in this list to prepare all products for forecasting."
   ]
  },
  {
   "cell_type": "markdown",
   "metadata": {},
   "source": [
    "#### Removing raw materials"
   ]
  },
  {
   "cell_type": "code",
   "execution_count": 47,
   "metadata": {},
   "outputs": [],
   "source": [
    "invoices = invoices[~invoices.CATEGORY.str.contains(\"RAW\")]"
   ]
  },
  {
   "cell_type": "code",
   "execution_count": 48,
   "metadata": {},
   "outputs": [
    {
     "data": {
      "text/plain": [
       "array(['COLD BREWED HEALTH TEA', 'SPECIALTY COFFEE B',\n",
       "       'COLD BREWED COFFEE', 'ICE BLENDED', '20 ADDONS', 'BOTTLED WATER',\n",
       "       'KOMBUCHA ', 'ICED COFFEE', 'HOT ESPRESSO', 'CAKES',\n",
       "       'HAND CRAFTED HOT CHOCOLATE', 'HAND CRAFTED ICED CHOCOLATE',\n",
       "       'SPECIALTY COFFEE A', 'LOOSE LEAF PREMIUM TEAS HOT',\n",
       "       'HAND CRAFTED BLENDED CHOCOLATE ', '11 Cookies Gourmet ',\n",
       "       'Cookies Gourmet ', 'PREMIUM TEA LATTE', '4 SINGLE ORIGIN BEANS',\n",
       "       'BOTTLED DRINKS', '17 BOTTLED DRINKS', 'Savory', '12 CAKES',\n",
       "       'Bars', 'ADDONS', 'BOTTLED COLD BREW HEALTH TEA',\n",
       "       'Tea Retail Pack', 'Brownies', '9 LOOSE LEAF PREMIUM TEAS HOT',\n",
       "       'SINGLE ORIGIN BEANS', 'CACAO BLOCKS', '13 Savory',\n",
       "       'Monster Cookies', 'Muffin'], dtype=object)"
      ]
     },
     "execution_count": 48,
     "metadata": {},
     "output_type": "execute_result"
    }
   ],
   "source": [
    "# Checking if it worked\n",
    "invoices['CATEGORY'].unique()"
   ]
  },
  {
   "cell_type": "markdown",
   "metadata": {},
   "source": [
    "#### Looking deeper into a weirdly named category, `\\\\N`"
   ]
  },
  {
   "cell_type": "code",
   "execution_count": 49,
   "metadata": {
    "scrolled": true
   },
   "outputs": [
    {
     "data": {
      "text/html": [
       "<div>\n",
       "<style scoped>\n",
       "    .dataframe tbody tr th:only-of-type {\n",
       "        vertical-align: middle;\n",
       "    }\n",
       "\n",
       "    .dataframe tbody tr th {\n",
       "        vertical-align: top;\n",
       "    }\n",
       "\n",
       "    .dataframe thead th {\n",
       "        text-align: right;\n",
       "    }\n",
       "</style>\n",
       "<table border=\"1\" class=\"dataframe\">\n",
       "  <thead>\n",
       "    <tr style=\"text-align: right;\">\n",
       "      <th></th>\n",
       "      <th>INVOICE_NO</th>\n",
       "      <th>INVOICE_DATE</th>\n",
       "      <th>PRODUCT_NUMBER</th>\n",
       "      <th>QUANTITY_SOLD</th>\n",
       "      <th>PRICE_SOLD</th>\n",
       "      <th>PRODUCT_NAME</th>\n",
       "      <th>COST</th>\n",
       "      <th>RETAIL_PRICE</th>\n",
       "      <th>CATEGORY</th>\n",
       "      <th>ID</th>\n",
       "    </tr>\n",
       "  </thead>\n",
       "  <tbody>\n",
       "  </tbody>\n",
       "</table>\n",
       "</div>"
      ],
      "text/plain": [
       "Empty DataFrame\n",
       "Columns: [INVOICE_NO, INVOICE_DATE, PRODUCT_NUMBER, QUANTITY_SOLD, PRICE_SOLD, PRODUCT_NAME, COST, RETAIL_PRICE, CATEGORY, ID]\n",
       "Index: []"
      ]
     },
     "execution_count": 49,
     "metadata": {},
     "output_type": "execute_result"
    }
   ],
   "source": [
    "invoices.loc[invoices['CATEGORY'] == '\\\\N'].head()"
   ]
  },
  {
   "cell_type": "markdown",
   "metadata": {},
   "source": [
    "#### We can drop this since it is non-perishable"
   ]
  },
  {
   "cell_type": "code",
   "execution_count": 50,
   "metadata": {
    "scrolled": true
   },
   "outputs": [
    {
     "data": {
      "text/plain": [
       "array(['COLD BREWED HEALTH TEA', 'SPECIALTY COFFEE B',\n",
       "       'COLD BREWED COFFEE', 'ICE BLENDED', '20 ADDONS', 'BOTTLED WATER',\n",
       "       'KOMBUCHA ', 'ICED COFFEE', 'HOT ESPRESSO', 'CAKES',\n",
       "       'HAND CRAFTED HOT CHOCOLATE', 'HAND CRAFTED ICED CHOCOLATE',\n",
       "       'SPECIALTY COFFEE A', 'LOOSE LEAF PREMIUM TEAS HOT',\n",
       "       'HAND CRAFTED BLENDED CHOCOLATE ', '11 Cookies Gourmet ',\n",
       "       'Cookies Gourmet ', 'PREMIUM TEA LATTE', '4 SINGLE ORIGIN BEANS',\n",
       "       'BOTTLED DRINKS', '17 BOTTLED DRINKS', 'Savory', '12 CAKES',\n",
       "       'Bars', 'ADDONS', 'BOTTLED COLD BREW HEALTH TEA',\n",
       "       'Tea Retail Pack', 'Brownies', '9 LOOSE LEAF PREMIUM TEAS HOT',\n",
       "       'SINGLE ORIGIN BEANS', 'CACAO BLOCKS', '13 Savory',\n",
       "       'Monster Cookies', 'Muffin'], dtype=object)"
      ]
     },
     "execution_count": 50,
     "metadata": {},
     "output_type": "execute_result"
    }
   ],
   "source": [
    "# replace with a word that can be dropped                                                \n",
    "invoices = invoices.replace(r'\\\\N','Packaging', regex=True) \n",
    "##drop\n",
    "invoices = invoices[~invoices.CATEGORY.str.contains(\"Packaging\")]\n",
    "#check it worked\n",
    "invoices['CATEGORY'].unique()"
   ]
  },
  {
   "cell_type": "code",
   "execution_count": 51,
   "metadata": {},
   "outputs": [
    {
     "data": {
      "text/plain": [
       "array(['COLD BREWED HEALTH TEA', 'SPECIALTY COFFEE B',\n",
       "       'COLD BREWED COFFEE', 'ICE BLENDED', '20 ADDONS', 'BOTTLED WATER',\n",
       "       'KOMBUCHA ', 'ICED COFFEE', 'HOT ESPRESSO', 'CAKES',\n",
       "       'HAND CRAFTED HOT CHOCOLATE', 'HAND CRAFTED ICED CHOCOLATE',\n",
       "       'SPECIALTY COFFEE A', 'LOOSE LEAF PREMIUM TEAS HOT',\n",
       "       'HAND CRAFTED BLENDED CHOCOLATE ', '11 Cookies Gourmet ',\n",
       "       'Cookies Gourmet ', 'PREMIUM TEA LATTE', '4 SINGLE ORIGIN BEANS',\n",
       "       'BOTTLED DRINKS', '17 BOTTLED DRINKS', 'Savory', '12 CAKES',\n",
       "       'Bars', 'ADDONS', 'BOTTLED COLD BREW HEALTH TEA',\n",
       "       'Tea Retail Pack', 'Brownies', '9 LOOSE LEAF PREMIUM TEAS HOT',\n",
       "       'SINGLE ORIGIN BEANS', 'CACAO BLOCKS', '13 Savory',\n",
       "       'Monster Cookies', 'Muffin'], dtype=object)"
      ]
     },
     "execution_count": 51,
     "metadata": {},
     "output_type": "execute_result"
    }
   ],
   "source": [
    "invoices = invoices[~invoices.CATEGORY.str.contains(\"Add-ons\")]\n",
    "invoices = invoices[~invoices.CATEGORY.str.contains(\"21 TAKE OUT ADDONS\")]\n",
    "invoices = invoices[~invoices.CATEGORY.str.contains(\"Coffee Accessories\")]\n",
    "invoices = invoices[~invoices.CATEGORY.str.contains(\"18 Coffee Accessories\")]\n",
    "invoices = invoices[~invoices.CATEGORY.str.contains('Anniversary Promo|19 PROMO|PROMO')]\n",
    "\n",
    "#see if drop worked\n",
    "invoices['CATEGORY'].unique()"
   ]
  },
  {
   "cell_type": "markdown",
   "metadata": {},
   "source": [
    "### Let's view the data"
   ]
  },
  {
   "cell_type": "code",
   "execution_count": 52,
   "metadata": {},
   "outputs": [
    {
     "name": "stdout",
     "output_type": "stream",
     "text": [
      "(53883, 10)\n"
     ]
    },
    {
     "data": {
      "image/png": "[encoded data removed]",
      "text/plain": [
       "<Figure size 1440x720 with 1 Axes>"
      ]
     },
     "metadata": {
      "needs_background": "light"
     },
     "output_type": "display_data"
    }
   ],
   "source": [
    "print(invoices.shape)\n",
    "\n",
    "plt.figure(figsize=(20,10))\n",
    "plt.plot(invoices['INVOICE_DATE'], invoices['QUANTITY_SOLD'])\n",
    "plt.autoscale(enable=True, axis='x', tight=True)\n",
    "plt.show();"
   ]
  },
  {
   "cell_type": "markdown",
   "metadata": {},
   "source": [
    "### By viewing the graph above, we can see that the df contains negative values. I have asked the company for an explanation so I can better understand what this means, but they were not able to get back to me with the answer before the deadline of this project. I am still waiting for an answer. "
   ]
  },
  {
   "cell_type": "markdown",
   "metadata": {},
   "source": [
    "### For now, let us drop these unexplained negative sales."
   ]
  },
  {
   "cell_type": "code",
   "execution_count": 54,
   "metadata": {},
   "outputs": [
    {
     "data": {
      "text/plain": [
       "array(['COLD BREWED HEALTH TEA', 'SPECIALTY COFFEE B',\n",
       "       'COLD BREWED COFFEE', 'ICE BLENDED', '20 ADDONS', 'BOTTLED WATER',\n",
       "       'KOMBUCHA ', 'ICED COFFEE', 'HOT ESPRESSO', 'CAKES',\n",
       "       'HAND CRAFTED HOT CHOCOLATE', 'HAND CRAFTED ICED CHOCOLATE',\n",
       "       'SPECIALTY COFFEE A', 'LOOSE LEAF PREMIUM TEAS HOT',\n",
       "       'HAND CRAFTED BLENDED CHOCOLATE ', '11 Cookies Gourmet ',\n",
       "       'Cookies Gourmet ', 'PREMIUM TEA LATTE', '4 SINGLE ORIGIN BEANS',\n",
       "       'BOTTLED DRINKS', '17 BOTTLED DRINKS', 'Savory', '12 CAKES',\n",
       "       'Bars', 'ADDONS', 'BOTTLED COLD BREW HEALTH TEA',\n",
       "       'Tea Retail Pack', 'Brownies', '9 LOOSE LEAF PREMIUM TEAS HOT',\n",
       "       'SINGLE ORIGIN BEANS', 'CACAO BLOCKS', '13 Savory',\n",
       "       'Monster Cookies', 'Muffin'], dtype=object)"
      ]
     },
     "execution_count": 54,
     "metadata": {},
     "output_type": "execute_result"
    }
   ],
   "source": [
    "invoices = invoices[invoices['QUANTITY_SOLD'] > 0 ]\n",
    "invoices['CATEGORY'].unique()"
   ]
  },
  {
   "cell_type": "markdown",
   "metadata": {},
   "source": [
    "## Lets view the graph again to see if it worked."
   ]
  },
  {
   "cell_type": "code",
   "execution_count": 57,
   "metadata": {},
   "outputs": [
    {
     "name": "stdout",
     "output_type": "stream",
     "text": [
      "(53883, 10)\n"
     ]
    },
    {
     "data": {
      "image/png": "[encoded data removed]",
      "text/plain": [
       "<Figure size 1440x720 with 1 Axes>"
      ]
     },
     "metadata": {
      "needs_background": "light"
     },
     "output_type": "display_data"
    }
   ],
   "source": [
    "print(invoices.shape)\n",
    "\n",
    "plt.figure(figsize=(20,10))\n",
    "plt.plot(invoices['INVOICE_DATE'], invoices['QUANTITY_SOLD'])\n",
    "plt.autoscale(enable=True, axis='x', tight=True)\n",
    "plt.show();"
   ]
  },
  {
   "cell_type": "markdown",
   "metadata": {},
   "source": [
    "### Now, lets recategorize all perishable products"
   ]
  },
  {
   "cell_type": "markdown",
   "metadata": {},
   "source": [
    "### New Category and Subcategory\n",
    "I have to redesign the category and subcategories because _____________. If the company had another table with all the product categories for every product, I could just merge the two tables.\n",
    "\n",
    "Feature `Category`\n",
    "* `Food`\n",
    "* `Drinks`\n",
    "* `Add-ons`\n",
    "* `Promotions` --- because some are combos\n",
    "\n",
    "Feature `Subcategory`\n",
    "* `Cake`\n",
    "* `Other Desserts`\n",
    "* `Savory`\n",
    "* `Coffee`\n",
    "* `Tea`\n",
    "* `Water`\n",
    "* `Blended and Others`"
   ]
  },
  {
   "cell_type": "code",
   "execution_count": 58,
   "metadata": {},
   "outputs": [
    {
     "data": {
      "text/plain": [
       "Drinks       34212\n",
       "Food         15332\n",
       "20 ADDONS     4312\n",
       "ADDONS          27\n",
       "Name: CATEGORY, dtype: int64"
      ]
     },
     "execution_count": 58,
     "metadata": {},
     "output_type": "execute_result"
    }
   ],
   "source": [
    "#Renaming Food category\n",
    "Food = ['Savory','CAKES','11 Cookies Gourmet','Bars', 'Brownies', 'CACAO BLOCKS','12 CAKES', '13 Savory','Monster Cookies', 'Cookies Gourmet',\n",
    "       'Muffin']\n",
    "\n",
    "invoices[\"CATEGORY\"] = invoices[\"CATEGORY\"].replace(Food,'Food', regex=True)\n",
    "invoices[\"CATEGORY\"] = invoices[\"CATEGORY\"].replace('Food ','Food', regex=True)\n",
    "invoices[\"CATEGORY\"] = invoices[\"CATEGORY\"].replace('12 Food','Food', regex=True)\n",
    "invoices[\"CATEGORY\"] = invoices[\"CATEGORY\"].replace('13 Food','Food', regex=True)\n",
    "\n",
    "#Renaming Drinks category\n",
    "Drinks = ['HOT ESPRESSO','ICE BLENDED','ICED COFFEE','ICED COFFE', 'COLD BREWED HEALTH TEA', 'HAND CRAFTED HOT CHOCOLATE','SPECIALTY COFFEE A', 'SPECIALTY COFFEE B','HAND CRAFTED ICED CHOCOLATE', 'LOOSE LEAF PREMIUM TEAS HOT',\n",
    "       '17 BOTTLED DRINKS','HAND CRAFTED BLENDED CHOCOLATE','COLD BREWED COFFEE','BOTTLED WATER','PREMIUM TEA LATTE','BOTTLED DRINKS','4 SINGLE ORIGIN BEANS','Tea Retail Pack', 'KOMBUCHA', 'SINGLE ORIGIN BEANS', \"9 LOOSE LEAF PREMIUM TEAS HOT\",'BOTTLED COLD BREW HEALTH TEA']\n",
    "\n",
    "invoices[\"CATEGORY\"] = invoices[\"CATEGORY\"].replace(Drinks,'Drinks', regex=True)\n",
    "invoices[\"CATEGORY\"] = invoices[\"CATEGORY\"].replace('Drinks ','Drinks', regex=True)\n",
    "invoices[\"CATEGORY\"] = invoices[\"CATEGORY\"].replace('9 Drinks','Drinks', regex=True)\n",
    "\n",
    "invoices[\"CATEGORY\"].value_counts()"
   ]
  },
  {
   "cell_type": "markdown",
   "metadata": {},
   "source": [
    "### Below is our new shape (originally 300,000 rows)"
   ]
  },
  {
   "cell_type": "code",
   "execution_count": 59,
   "metadata": {},
   "outputs": [
    {
     "data": {
      "text/plain": [
       "(53883, 10)"
      ]
     },
     "execution_count": 59,
     "metadata": {},
     "output_type": "execute_result"
    }
   ],
   "source": [
    "invoices.shape"
   ]
  },
  {
   "cell_type": "markdown",
   "metadata": {},
   "source": [
    "# Subcategory\n",
    "To create this new feature, I will separate the remaining data into different dataframes, then introduce the new feature for each dataframe. In the end, I will concatenate all dataframes together"
   ]
  },
  {
   "cell_type": "markdown",
   "metadata": {},
   "source": [
    "### Let's first split the data into food and drinks"
   ]
  },
  {
   "cell_type": "code",
   "execution_count": 61,
   "metadata": {},
   "outputs": [
    {
     "data": {
      "text/html": [
       "<div>\n",
       "<style scoped>\n",
       "    .dataframe tbody tr th:only-of-type {\n",
       "        vertical-align: middle;\n",
       "    }\n",
       "\n",
       "    .dataframe tbody tr th {\n",
       "        vertical-align: top;\n",
       "    }\n",
       "\n",
       "    .dataframe thead th {\n",
       "        text-align: right;\n",
       "    }\n",
       "</style>\n",
       "<table border=\"1\" class=\"dataframe\">\n",
       "  <thead>\n",
       "    <tr style=\"text-align: right;\">\n",
       "      <th></th>\n",
       "      <th>INVOICE_NO</th>\n",
       "      <th>INVOICE_DATE</th>\n",
       "      <th>PRODUCT_NUMBER</th>\n",
       "      <th>QUANTITY_SOLD</th>\n",
       "      <th>PRICE_SOLD</th>\n",
       "      <th>PRODUCT_NAME</th>\n",
       "      <th>COST</th>\n",
       "      <th>RETAIL_PRICE</th>\n",
       "      <th>CATEGORY</th>\n",
       "      <th>ID</th>\n",
       "    </tr>\n",
       "  </thead>\n",
       "  <tbody>\n",
       "    <tr>\n",
       "      <th>36</th>\n",
       "      <td>6</td>\n",
       "      <td>2017-01-12 14:02:00</td>\n",
       "      <td>263287</td>\n",
       "      <td>1.0</td>\n",
       "      <td>145.0</td>\n",
       "      <td>2X2\\ Square Peanut Butter Cheesecake\"</td>\n",
       "      <td>0.0</td>\n",
       "      <td>145.0</td>\n",
       "      <td>Food</td>\n",
       "      <td>36</td>\n",
       "    </tr>\n",
       "    <tr>\n",
       "      <th>59</th>\n",
       "      <td>9</td>\n",
       "      <td>2017-01-12 14:23:00</td>\n",
       "      <td>263287</td>\n",
       "      <td>1.0</td>\n",
       "      <td>145.0</td>\n",
       "      <td>2X2\\ Square Peanut Butter Cheesecake\"</td>\n",
       "      <td>0.0</td>\n",
       "      <td>145.0</td>\n",
       "      <td>Food</td>\n",
       "      <td>59</td>\n",
       "    </tr>\n",
       "  </tbody>\n",
       "</table>\n",
       "</div>"
      ],
      "text/plain": [
       "    INVOICE_NO        INVOICE_DATE  PRODUCT_NUMBER  QUANTITY_SOLD  PRICE_SOLD  \\\n",
       "36           6 2017-01-12 14:02:00          263287            1.0       145.0   \n",
       "59           9 2017-01-12 14:23:00          263287            1.0       145.0   \n",
       "\n",
       "                             PRODUCT_NAME  COST  RETAIL_PRICE CATEGORY  ID  \n",
       "36  2X2\\ Square Peanut Butter Cheesecake\"   0.0         145.0     Food  36  \n",
       "59  2X2\\ Square Peanut Butter Cheesecake\"   0.0         145.0     Food  59  "
      ]
     },
     "execution_count": 61,
     "metadata": {},
     "output_type": "execute_result"
    }
   ],
   "source": [
    "food = invoices[invoices['CATEGORY']=='Food']\n",
    "food.head(2)"
   ]
  },
  {
   "cell_type": "code",
   "execution_count": 62,
   "metadata": {},
   "outputs": [
    {
     "data": {
      "text/plain": [
       "(15332, 10)"
      ]
     },
     "execution_count": 62,
     "metadata": {},
     "output_type": "execute_result"
    }
   ],
   "source": [
    "food.shape"
   ]
  },
  {
   "cell_type": "code",
   "execution_count": 63,
   "metadata": {},
   "outputs": [
    {
     "data": {
      "text/html": [
       "<div>\n",
       "<style scoped>\n",
       "    .dataframe tbody tr th:only-of-type {\n",
       "        vertical-align: middle;\n",
       "    }\n",
       "\n",
       "    .dataframe tbody tr th {\n",
       "        vertical-align: top;\n",
       "    }\n",
       "\n",
       "    .dataframe thead th {\n",
       "        text-align: right;\n",
       "    }\n",
       "</style>\n",
       "<table border=\"1\" class=\"dataframe\">\n",
       "  <thead>\n",
       "    <tr style=\"text-align: right;\">\n",
       "      <th></th>\n",
       "      <th>INVOICE_NO</th>\n",
       "      <th>INVOICE_DATE</th>\n",
       "      <th>PRODUCT_NUMBER</th>\n",
       "      <th>QUANTITY_SOLD</th>\n",
       "      <th>PRICE_SOLD</th>\n",
       "      <th>PRODUCT_NAME</th>\n",
       "      <th>COST</th>\n",
       "      <th>RETAIL_PRICE</th>\n",
       "      <th>CATEGORY</th>\n",
       "      <th>ID</th>\n",
       "    </tr>\n",
       "  </thead>\n",
       "  <tbody>\n",
       "    <tr>\n",
       "      <th>1</th>\n",
       "      <td>1</td>\n",
       "      <td>2017-01-12 12:47:00</td>\n",
       "      <td>262924</td>\n",
       "      <td>1.0</td>\n",
       "      <td>160.0</td>\n",
       "      <td>Iced Flavor Fresh Herbs Pandan continental flavor</td>\n",
       "      <td>0.00</td>\n",
       "      <td>160.0</td>\n",
       "      <td>Drinks</td>\n",
       "      <td>1</td>\n",
       "    </tr>\n",
       "    <tr>\n",
       "      <th>2</th>\n",
       "      <td>2</td>\n",
       "      <td>2017-01-12 12:51:00</td>\n",
       "      <td>262800</td>\n",
       "      <td>1.0</td>\n",
       "      <td>160.0</td>\n",
       "      <td>Atok Benguet ( R )</td>\n",
       "      <td>15.71</td>\n",
       "      <td>160.0</td>\n",
       "      <td>Drinks</td>\n",
       "      <td>2</td>\n",
       "    </tr>\n",
       "  </tbody>\n",
       "</table>\n",
       "</div>"
      ],
      "text/plain": [
       "   INVOICE_NO        INVOICE_DATE  PRODUCT_NUMBER  QUANTITY_SOLD  PRICE_SOLD  \\\n",
       "1           1 2017-01-12 12:47:00          262924            1.0       160.0   \n",
       "2           2 2017-01-12 12:51:00          262800            1.0       160.0   \n",
       "\n",
       "                                        PRODUCT_NAME   COST  RETAIL_PRICE  \\\n",
       "1  Iced Flavor Fresh Herbs Pandan continental flavor   0.00         160.0   \n",
       "2                                 Atok Benguet ( R )  15.71         160.0   \n",
       "\n",
       "  CATEGORY  ID  \n",
       "1   Drinks   1  \n",
       "2   Drinks   2  "
      ]
     },
     "execution_count": 63,
     "metadata": {},
     "output_type": "execute_result"
    }
   ],
   "source": [
    "drinks = invoices[invoices['CATEGORY']=='Drinks']\n",
    "drinks.head(2)"
   ]
  },
  {
   "cell_type": "code",
   "execution_count": 64,
   "metadata": {},
   "outputs": [
    {
     "data": {
      "text/plain": [
       "(34212, 10)"
      ]
     },
     "execution_count": 64,
     "metadata": {},
     "output_type": "execute_result"
    }
   ],
   "source": [
    "drinks.shape"
   ]
  },
  {
   "cell_type": "markdown",
   "metadata": {},
   "source": [
    "## Now, within each df, let's recategorize based on the names of each product."
   ]
  },
  {
   "cell_type": "code",
   "execution_count": 65,
   "metadata": {},
   "outputs": [
    {
     "data": {
      "text/plain": [
       "array(['2X2\\\\ Square Peanut Butter Cheesecake\"',\n",
       "       'Dark Choco Caramel Sticks', '9\\\\ New York Cheese Cake Slice\"',\n",
       "       'Dark and White Signature Cake SLICE',\n",
       "       'Square German Choco Brownies',\n",
       "       '9\\\\ BLUEBERRY SWIRL CHEESECAKE SLICE\"',\n",
       "       'Coconut Cream Cake SLICE', 'CHOCOLATE CHIP GOURMET COOKIES',\n",
       "       'APRICOT ALMOND GOURMET COOKIES',\n",
       "       'CHERRY DARK CHOCOLATE GOURMET COOKIES',\n",
       "       'CRANBERRY WHITE CHOCOLATE GOURMET COOKIES',\n",
       "       'MANGO COCONUT GOURMET COOKIES', 'Dark Peanut Butter Crunch',\n",
       "       ' 6\\\\Dalandan Cheesecake Slice\"', 'Triple Chocolate Kahlua Slice',\n",
       "       'White Chocolate Nutella Crunch',\n",
       "       '6\\\\ Blueberry Swirl Cheesecake Slice\"',\n",
       "       '9\\\\ New York Cheese Cake\"',\n",
       "       '8\\\\ Round Dark & White Signature Cake\"',\n",
       "       '8” New York Cheesecake Slice',\n",
       "       'Dark & White Chocolate Chip Gourmet Cookies',\n",
       "       'Double Layer German Chocolate Cakes \\\\Slice\\\\\"\"',\n",
       "       'German Chocolate Cake \\\\Slice\\\\\"\"', 'Banana Loaf \\\\Slice\\\\\"\"',\n",
       "       'Dark Chocolate Melt Cake “Slice”', 'Pasta Eduardo',\n",
       "       'Pasta Maria Ana', '8 “ Blueberry Cheesecake \\\\Slice\\\\\"\"',\n",
       "       '3 Mushroom melt', 'Beef Fajitas', 'Chicken Fajitas',\n",
       "       'Dark Chocolate Caramel Melt cake “Slice”',\n",
       "       'Carrot Cake \\\\Slice\\\\\"\"', 'Pesto Fusilli ',\n",
       "       'Dark Chocolate Cream Cheese Cake  “Slice”', 'TRICOLAD MOUSSE',\n",
       "       'Red Velvet Slice', 'Salted Caramel Cheesecake', 'Lemon Bar',\n",
       "       'Chicken Herbed Empanada', 'Tuna Herbed Empanada',\n",
       "       'Rectangular Irish Sansrival \\\\Slice\\\\\"\"', 'Cheesy Spinach Quiche',\n",
       "       'Chocolate Peanut Butter Cake \\\\SLICE\\\\\"\"',\n",
       "       'Italian Pannacotta Plain', 'Apple Spice Cake \\\\Slice\\\\\"\"',\n",
       "       'PEANUT BUTTER GOURMET COOKIES',\n",
       "       'Cheesy Mushroom Basil Herbed Empanada ',\n",
       "       '3\\\\x3\\\\\" Cream Cheese Swirl Brownies\"',\n",
       "       'Chocolate Mint Brownie (Green)',\n",
       "       'Blueberry Cheesecake in Martini Glass',\n",
       "       'Coffee Appreciation Bundle meal',\n",
       "       'SMOOTH AND VELVETY CACAO BLOCKS',\n",
       "       \"TRADITIONAL LOLA'S CACAO BLOCKS\", 'DARK AND SMOKED CACAO BLOCKS',\n",
       "       'Chocolate Mint Brownie (Red)', 'WHITE CHOCOLATE MOUSSE WITH OREO',\n",
       "       'Dark Chocolate Flourless Almond w/ muscovado Brownies',\n",
       "       'Oreo Overload Cheesecake', 'Hibiscus Cheesecake Slice',\n",
       "       'Cream Cheese Melt Chocolate Cake Slice',\n",
       "       '1.5”x3”Fudge Walnut brownie',\n",
       "       '2” X 2” Cream Cheese Fudge Brownies', 'Chicken Curry Pandesal',\n",
       "       'Cheezy Spanish Sardines  Pandesal',\n",
       "       'Guinumis Crunch Cake “Slice”', 'Rock Salted Chocolate Cake Slice',\n",
       "       'Dulce De Leche Cake Slice', 'Pork Asado Pandesal',\n",
       "       'Mestiza De Tablea Cake \\\\Slice\\\\\"\"',\n",
       "       \"Pack of 3's Herbed Pocket Pita\",\n",
       "       'Biscotti with Cranberry and Orange',\n",
       "       '8\\\\ Tiramisu Cheesecake slice\"', 'Purple Yam Cream Cake Slice',\n",
       "       'Tuna Empanada & Cold Brew Plain combo',\n",
       "       'Chicken Empanada & Cold Brew Plain combo',\n",
       "       'Espresso and latte 101 ',\n",
       "       'Monster Cookies - Chocolate Chip Oatmeal',\n",
       "       'Snickerdoodle cookies', '8” Turtle Cheesecake  Slice',\n",
       "       'Biscotti with Chocolate chip',\n",
       "       'Mushroom and Basil Empanada & Cold Brew Plain combo',\n",
       "       'Red Velvet Bar with Cream Cheese', 'Blueberry Muffin',\n",
       "       'Double Chocolate Muffin', 'Peanut Butter Cake Slice',\n",
       "       'Monster Cookies - Dirty Chocolate ', 'Choco Peanut Butter Muffin',\n",
       "       'Chicken Fajitas ', 'Chunky Brownie Cheesecake ',\n",
       "       'Brownie Squares'], dtype=object)"
      ]
     },
     "execution_count": 65,
     "metadata": {},
     "output_type": "execute_result"
    }
   ],
   "source": [
    "food['PRODUCT_NAME'].unique()"
   ]
  },
  {
   "cell_type": "markdown",
   "metadata": {},
   "source": [
    "### Since we are focusing on cakes, let's make a subcategory exclusive to cakes"
   ]
  },
  {
   "cell_type": "code",
   "execution_count": 67,
   "metadata": {},
   "outputs": [
    {
     "data": {
      "text/plain": [
       "array(['2X2\\\\ Square Peanut Butter Cheesecake\"',\n",
       "       'Dark Choco Caramel Sticks', '9\\\\ New York Cheese Cake Slice\"',\n",
       "       'Dark and White Signature Cake SLICE',\n",
       "       '9\\\\ BLUEBERRY SWIRL CHEESECAKE SLICE\"',\n",
       "       'Coconut Cream Cake SLICE', ' 6\\\\Dalandan Cheesecake Slice\"',\n",
       "       'Triple Chocolate Kahlua Slice',\n",
       "       '6\\\\ Blueberry Swirl Cheesecake Slice\"',\n",
       "       '9\\\\ New York Cheese Cake\"',\n",
       "       '8\\\\ Round Dark & White Signature Cake\"',\n",
       "       '8” New York Cheesecake Slice',\n",
       "       'Double Layer German Chocolate Cakes \\\\Slice\\\\\"\"',\n",
       "       'German Chocolate Cake \\\\Slice\\\\\"\"', 'Banana Loaf \\\\Slice\\\\\"\"',\n",
       "       'Dark Chocolate Melt Cake “Slice”',\n",
       "       '8 “ Blueberry Cheesecake \\\\Slice\\\\\"\"',\n",
       "       'Dark Chocolate Caramel Melt cake “Slice”',\n",
       "       'Carrot Cake \\\\Slice\\\\\"\"',\n",
       "       'Dark Chocolate Cream Cheese Cake  “Slice”', 'Red Velvet Slice',\n",
       "       'Salted Caramel Cheesecake',\n",
       "       'Rectangular Irish Sansrival \\\\Slice\\\\\"\"',\n",
       "       'Chocolate Peanut Butter Cake \\\\SLICE\\\\\"\"',\n",
       "       'Apple Spice Cake \\\\Slice\\\\\"\"',\n",
       "       '3\\\\x3\\\\\" Cream Cheese Swirl Brownies\"',\n",
       "       'Blueberry Cheesecake in Martini Glass',\n",
       "       'Oreo Overload Cheesecake', 'Hibiscus Cheesecake Slice',\n",
       "       'Cream Cheese Melt Chocolate Cake Slice',\n",
       "       '1.5”x3”Fudge Walnut brownie',\n",
       "       '2” X 2” Cream Cheese Fudge Brownies',\n",
       "       'Guinumis Crunch Cake “Slice”', 'Rock Salted Chocolate Cake Slice',\n",
       "       'Dulce De Leche Cake Slice', 'Mestiza De Tablea Cake \\\\Slice\\\\\"\"',\n",
       "       '8\\\\ Tiramisu Cheesecake slice\"', 'Purple Yam Cream Cake Slice',\n",
       "       '8” Turtle Cheesecake  Slice', 'Red Velvet Bar with Cream Cheese',\n",
       "       'Peanut Butter Cake Slice', 'Chunky Brownie Cheesecake '],\n",
       "      dtype=object)"
      ]
     },
     "execution_count": 67,
     "metadata": {},
     "output_type": "execute_result"
    }
   ],
   "source": [
    "cakes = food[food['PRODUCT_NAME'].str.contains(\"Cake|Cheesecake|cake|CAKE|Cream|Cheese|Fudge|Sticks|SLICE|slice|Slice\", na=False)]\n",
    "cakes['PRODUCT_NAME'].unique()"
   ]
  },
  {
   "cell_type": "code",
   "execution_count": 68,
   "metadata": {},
   "outputs": [
    {
     "data": {
      "text/html": [
       "<div>\n",
       "<style scoped>\n",
       "    .dataframe tbody tr th:only-of-type {\n",
       "        vertical-align: middle;\n",
       "    }\n",
       "\n",
       "    .dataframe tbody tr th {\n",
       "        vertical-align: top;\n",
       "    }\n",
       "\n",
       "    .dataframe thead th {\n",
       "        text-align: right;\n",
       "    }\n",
       "</style>\n",
       "<table border=\"1\" class=\"dataframe\">\n",
       "  <thead>\n",
       "    <tr style=\"text-align: right;\">\n",
       "      <th></th>\n",
       "      <th>INVOICE_NO</th>\n",
       "      <th>INVOICE_DATE</th>\n",
       "      <th>PRODUCT_NUMBER</th>\n",
       "      <th>QUANTITY_SOLD</th>\n",
       "      <th>PRICE_SOLD</th>\n",
       "      <th>PRODUCT_NAME</th>\n",
       "      <th>COST</th>\n",
       "      <th>RETAIL_PRICE</th>\n",
       "      <th>CATEGORY</th>\n",
       "      <th>ID</th>\n",
       "      <th>Subcategory</th>\n",
       "    </tr>\n",
       "  </thead>\n",
       "  <tbody>\n",
       "    <tr>\n",
       "      <th>36</th>\n",
       "      <td>6</td>\n",
       "      <td>2017-01-12 14:02:00</td>\n",
       "      <td>263287</td>\n",
       "      <td>1.0</td>\n",
       "      <td>145.0</td>\n",
       "      <td>2X2\\ Square Peanut Butter Cheesecake\"</td>\n",
       "      <td>0.0</td>\n",
       "      <td>145.0</td>\n",
       "      <td>Food</td>\n",
       "      <td>36</td>\n",
       "      <td>Cakes</td>\n",
       "    </tr>\n",
       "    <tr>\n",
       "      <th>59</th>\n",
       "      <td>9</td>\n",
       "      <td>2017-01-12 14:23:00</td>\n",
       "      <td>263287</td>\n",
       "      <td>1.0</td>\n",
       "      <td>145.0</td>\n",
       "      <td>2X2\\ Square Peanut Butter Cheesecake\"</td>\n",
       "      <td>0.0</td>\n",
       "      <td>145.0</td>\n",
       "      <td>Food</td>\n",
       "      <td>59</td>\n",
       "      <td>Cakes</td>\n",
       "    </tr>\n",
       "    <tr>\n",
       "      <th>72</th>\n",
       "      <td>10</td>\n",
       "      <td>2017-01-12 14:39:00</td>\n",
       "      <td>263290</td>\n",
       "      <td>2.0</td>\n",
       "      <td>55.0</td>\n",
       "      <td>Dark Choco Caramel Sticks</td>\n",
       "      <td>640.0</td>\n",
       "      <td>55.0</td>\n",
       "      <td>Food</td>\n",
       "      <td>72</td>\n",
       "      <td>Cakes</td>\n",
       "    </tr>\n",
       "    <tr>\n",
       "      <th>71</th>\n",
       "      <td>10</td>\n",
       "      <td>2017-01-12 14:39:00</td>\n",
       "      <td>263287</td>\n",
       "      <td>1.0</td>\n",
       "      <td>145.0</td>\n",
       "      <td>2X2\\ Square Peanut Butter Cheesecake\"</td>\n",
       "      <td>0.0</td>\n",
       "      <td>145.0</td>\n",
       "      <td>Food</td>\n",
       "      <td>71</td>\n",
       "      <td>Cakes</td>\n",
       "    </tr>\n",
       "    <tr>\n",
       "      <th>90</th>\n",
       "      <td>12</td>\n",
       "      <td>2017-01-12 14:56:00</td>\n",
       "      <td>263540</td>\n",
       "      <td>1.0</td>\n",
       "      <td>295.0</td>\n",
       "      <td>9\\ New York Cheese Cake Slice\"</td>\n",
       "      <td>0.0</td>\n",
       "      <td>295.0</td>\n",
       "      <td>Food</td>\n",
       "      <td>90</td>\n",
       "      <td>Cakes</td>\n",
       "    </tr>\n",
       "  </tbody>\n",
       "</table>\n",
       "</div>"
      ],
      "text/plain": [
       "    INVOICE_NO        INVOICE_DATE  PRODUCT_NUMBER  QUANTITY_SOLD  PRICE_SOLD  \\\n",
       "36           6 2017-01-12 14:02:00          263287            1.0       145.0   \n",
       "59           9 2017-01-12 14:23:00          263287            1.0       145.0   \n",
       "72          10 2017-01-12 14:39:00          263290            2.0        55.0   \n",
       "71          10 2017-01-12 14:39:00          263287            1.0       145.0   \n",
       "90          12 2017-01-12 14:56:00          263540            1.0       295.0   \n",
       "\n",
       "                             PRODUCT_NAME   COST  RETAIL_PRICE CATEGORY  ID  \\\n",
       "36  2X2\\ Square Peanut Butter Cheesecake\"    0.0         145.0     Food  36   \n",
       "59  2X2\\ Square Peanut Butter Cheesecake\"    0.0         145.0     Food  59   \n",
       "72              Dark Choco Caramel Sticks  640.0          55.0     Food  72   \n",
       "71  2X2\\ Square Peanut Butter Cheesecake\"    0.0         145.0     Food  71   \n",
       "90         9\\ New York Cheese Cake Slice\"    0.0         295.0     Food  90   \n",
       "\n",
       "   Subcategory  \n",
       "36       Cakes  \n",
       "59       Cakes  \n",
       "72       Cakes  \n",
       "71       Cakes  \n",
       "90       Cakes  "
      ]
     },
     "execution_count": 68,
     "metadata": {},
     "output_type": "execute_result"
    }
   ],
   "source": [
    "cakes['Subcategory'] = 'Cakes'\n",
    "cakes.head()"
   ]
  },
  {
   "cell_type": "code",
   "execution_count": 69,
   "metadata": {},
   "outputs": [
    {
     "data": {
      "text/plain": [
       "(4998, 11)"
      ]
     },
     "execution_count": 69,
     "metadata": {},
     "output_type": "execute_result"
    }
   ],
   "source": [
    "cakes.shape"
   ]
  },
  {
   "cell_type": "markdown",
   "metadata": {},
   "source": [
    "### I will classify all other desserts as \"Other Desserts\""
   ]
  },
  {
   "cell_type": "code",
   "execution_count": 70,
   "metadata": {},
   "outputs": [
    {
     "data": {
      "text/plain": [
       "array(['Square German Choco Brownies', 'CHOCOLATE CHIP GOURMET COOKIES',\n",
       "       'APRICOT ALMOND GOURMET COOKIES',\n",
       "       'CHERRY DARK CHOCOLATE GOURMET COOKIES',\n",
       "       'CRANBERRY WHITE CHOCOLATE GOURMET COOKIES',\n",
       "       'MANGO COCONUT GOURMET COOKIES', 'Dark Peanut Butter Crunch',\n",
       "       'White Chocolate Nutella Crunch',\n",
       "       'Dark & White Chocolate Chip Gourmet Cookies', 'Pesto Fusilli ',\n",
       "       'TRICOLAD MOUSSE', 'Lemon Bar', 'Chicken Herbed Empanada',\n",
       "       'Italian Pannacotta Plain', 'PEANUT BUTTER GOURMET COOKIES',\n",
       "       'Chocolate Mint Brownie (Green)',\n",
       "       'SMOOTH AND VELVETY CACAO BLOCKS',\n",
       "       \"TRADITIONAL LOLA'S CACAO BLOCKS\", 'DARK AND SMOKED CACAO BLOCKS',\n",
       "       'Chocolate Mint Brownie (Red)', 'WHITE CHOCOLATE MOUSSE WITH OREO',\n",
       "       'Dark Chocolate Flourless Almond w/ muscovado Brownies',\n",
       "       'Biscotti with Cranberry and Orange',\n",
       "       'Chicken Empanada & Cold Brew Plain combo',\n",
       "       'Espresso and latte 101 ', 'Snickerdoodle cookies',\n",
       "       'Biscotti with Chocolate chip', 'Blueberry Muffin',\n",
       "       'Double Chocolate Muffin', 'Monster Cookies - Dirty Chocolate ',\n",
       "       'Choco Peanut Butter Muffin', 'Brownie Squares'], dtype=object)"
      ]
     },
     "execution_count": 70,
     "metadata": {},
     "output_type": "execute_result"
    }
   ],
   "source": [
    "other_desserts = food[~food['PRODUCT_NAME'].str.contains(\"Fajitas|Fusili|Pasta|Mushroom|melt|meal|Empananda|Quiche|Tuna|Sardines|Pandesal|Pita|Cake|Cheesecake|cake|CAKE|Cream|Cheese|Fudge|Sticks|SLICE|slice|Slice\", na=False)]\n",
    "other_desserts['PRODUCT_NAME'].unique()"
   ]
  },
  {
   "cell_type": "code",
   "execution_count": 71,
   "metadata": {},
   "outputs": [
    {
     "data": {
      "text/html": [
       "<div>\n",
       "<style scoped>\n",
       "    .dataframe tbody tr th:only-of-type {\n",
       "        vertical-align: middle;\n",
       "    }\n",
       "\n",
       "    .dataframe tbody tr th {\n",
       "        vertical-align: top;\n",
       "    }\n",
       "\n",
       "    .dataframe thead th {\n",
       "        text-align: right;\n",
       "    }\n",
       "</style>\n",
       "<table border=\"1\" class=\"dataframe\">\n",
       "  <thead>\n",
       "    <tr style=\"text-align: right;\">\n",
       "      <th></th>\n",
       "      <th>INVOICE_NO</th>\n",
       "      <th>INVOICE_DATE</th>\n",
       "      <th>PRODUCT_NUMBER</th>\n",
       "      <th>QUANTITY_SOLD</th>\n",
       "      <th>PRICE_SOLD</th>\n",
       "      <th>PRODUCT_NAME</th>\n",
       "      <th>COST</th>\n",
       "      <th>RETAIL_PRICE</th>\n",
       "      <th>CATEGORY</th>\n",
       "      <th>ID</th>\n",
       "      <th>Subcategory</th>\n",
       "    </tr>\n",
       "  </thead>\n",
       "  <tbody>\n",
       "    <tr>\n",
       "      <th>114</th>\n",
       "      <td>15</td>\n",
       "      <td>2017-01-12 15:27:00</td>\n",
       "      <td>263291</td>\n",
       "      <td>1.0</td>\n",
       "      <td>46.43</td>\n",
       "      <td>Square German Choco Brownies</td>\n",
       "      <td>675.0</td>\n",
       "      <td>65.0</td>\n",
       "      <td>Food</td>\n",
       "      <td>114</td>\n",
       "      <td>Other Desserts</td>\n",
       "    </tr>\n",
       "    <tr>\n",
       "      <th>115</th>\n",
       "      <td>16</td>\n",
       "      <td>2017-01-12 15:28:00</td>\n",
       "      <td>263291</td>\n",
       "      <td>1.0</td>\n",
       "      <td>65.00</td>\n",
       "      <td>Square German Choco Brownies</td>\n",
       "      <td>675.0</td>\n",
       "      <td>65.0</td>\n",
       "      <td>Food</td>\n",
       "      <td>115</td>\n",
       "      <td>Other Desserts</td>\n",
       "    </tr>\n",
       "  </tbody>\n",
       "</table>\n",
       "</div>"
      ],
      "text/plain": [
       "     INVOICE_NO        INVOICE_DATE  PRODUCT_NUMBER  QUANTITY_SOLD  \\\n",
       "114          15 2017-01-12 15:27:00          263291            1.0   \n",
       "115          16 2017-01-12 15:28:00          263291            1.0   \n",
       "\n",
       "     PRICE_SOLD                  PRODUCT_NAME   COST  RETAIL_PRICE CATEGORY  \\\n",
       "114       46.43  Square German Choco Brownies  675.0          65.0     Food   \n",
       "115       65.00  Square German Choco Brownies  675.0          65.0     Food   \n",
       "\n",
       "      ID     Subcategory  \n",
       "114  114  Other Desserts  \n",
       "115  115  Other Desserts  "
      ]
     },
     "execution_count": 71,
     "metadata": {},
     "output_type": "execute_result"
    }
   ],
   "source": [
    "other_desserts['Subcategory'] = 'Other Desserts'\n",
    "other_desserts.head(2)"
   ]
  },
  {
   "cell_type": "code",
   "execution_count": 72,
   "metadata": {},
   "outputs": [
    {
     "data": {
      "text/plain": [
       "(5068, 11)"
      ]
     },
     "execution_count": 72,
     "metadata": {},
     "output_type": "execute_result"
    }
   ],
   "source": [
    "other_desserts.shape"
   ]
  },
  {
   "cell_type": "markdown",
   "metadata": {},
   "source": [
    "### I will classify all other savory food as \"Savory\""
   ]
  },
  {
   "cell_type": "code",
   "execution_count": 73,
   "metadata": {},
   "outputs": [
    {
     "data": {
      "text/plain": [
       "array(['Pasta Eduardo', 'Pasta Maria Ana', '3 Mushroom melt',\n",
       "       'Beef Fajitas', 'Chicken Fajitas', 'Tuna Herbed Empanada',\n",
       "       'Cheesy Spinach Quiche', 'Cheesy Mushroom Basil Herbed Empanada ',\n",
       "       'Coffee Appreciation Bundle meal', 'Chicken Curry Pandesal',\n",
       "       'Cheezy Spanish Sardines  Pandesal', 'Pork Asado Pandesal',\n",
       "       \"Pack of 3's Herbed Pocket Pita\",\n",
       "       'Tuna Empanada & Cold Brew Plain combo',\n",
       "       'Monster Cookies - Chocolate Chip Oatmeal',\n",
       "       'Mushroom and Basil Empanada & Cold Brew Plain combo',\n",
       "       'Chicken Fajitas '], dtype=object)"
      ]
     },
     "execution_count": 73,
     "metadata": {},
     "output_type": "execute_result"
    }
   ],
   "source": [
    "savory = food[food['PRODUCT_NAME'].str.contains(\"Fajitas|Fusili|Pasta|Mushroom|melt|meal|Empananda|Quiche|Tuna|Sardines|Pandesal|Pita\", na=False)]\n",
    "savory['PRODUCT_NAME'].unique()"
   ]
  },
  {
   "cell_type": "code",
   "execution_count": 74,
   "metadata": {},
   "outputs": [
    {
     "data": {
      "text/html": [
       "<div>\n",
       "<style scoped>\n",
       "    .dataframe tbody tr th:only-of-type {\n",
       "        vertical-align: middle;\n",
       "    }\n",
       "\n",
       "    .dataframe tbody tr th {\n",
       "        vertical-align: top;\n",
       "    }\n",
       "\n",
       "    .dataframe thead th {\n",
       "        text-align: right;\n",
       "    }\n",
       "</style>\n",
       "<table border=\"1\" class=\"dataframe\">\n",
       "  <thead>\n",
       "    <tr style=\"text-align: right;\">\n",
       "      <th></th>\n",
       "      <th>INVOICE_NO</th>\n",
       "      <th>INVOICE_DATE</th>\n",
       "      <th>PRODUCT_NUMBER</th>\n",
       "      <th>QUANTITY_SOLD</th>\n",
       "      <th>PRICE_SOLD</th>\n",
       "      <th>PRODUCT_NAME</th>\n",
       "      <th>COST</th>\n",
       "      <th>RETAIL_PRICE</th>\n",
       "      <th>CATEGORY</th>\n",
       "      <th>ID</th>\n",
       "      <th>Subcategory</th>\n",
       "    </tr>\n",
       "  </thead>\n",
       "  <tbody>\n",
       "    <tr>\n",
       "      <th>34577</th>\n",
       "      <td>5082</td>\n",
       "      <td>2018-01-05 12:55:00</td>\n",
       "      <td>274274</td>\n",
       "      <td>1.0</td>\n",
       "      <td>117.86</td>\n",
       "      <td>Pasta Eduardo</td>\n",
       "      <td>6.0</td>\n",
       "      <td>165.0</td>\n",
       "      <td>Food</td>\n",
       "      <td>34577</td>\n",
       "      <td>Savory</td>\n",
       "    </tr>\n",
       "    <tr>\n",
       "      <th>34594</th>\n",
       "      <td>5086</td>\n",
       "      <td>2018-01-05 12:57:00</td>\n",
       "      <td>274273</td>\n",
       "      <td>1.0</td>\n",
       "      <td>165.00</td>\n",
       "      <td>Pasta Maria Ana</td>\n",
       "      <td>6.0</td>\n",
       "      <td>165.0</td>\n",
       "      <td>Food</td>\n",
       "      <td>34594</td>\n",
       "      <td>Savory</td>\n",
       "    </tr>\n",
       "  </tbody>\n",
       "</table>\n",
       "</div>"
      ],
      "text/plain": [
       "       INVOICE_NO        INVOICE_DATE  PRODUCT_NUMBER  QUANTITY_SOLD  \\\n",
       "34577        5082 2018-01-05 12:55:00          274274            1.0   \n",
       "34594        5086 2018-01-05 12:57:00          274273            1.0   \n",
       "\n",
       "       PRICE_SOLD     PRODUCT_NAME  COST  RETAIL_PRICE CATEGORY     ID  \\\n",
       "34577      117.86    Pasta Eduardo   6.0         165.0     Food  34577   \n",
       "34594      165.00  Pasta Maria Ana   6.0         165.0     Food  34594   \n",
       "\n",
       "      Subcategory  \n",
       "34577      Savory  \n",
       "34594      Savory  "
      ]
     },
     "execution_count": 74,
     "metadata": {},
     "output_type": "execute_result"
    }
   ],
   "source": [
    "savory['Subcategory'] = 'Savory'\n",
    "savory.head(2)"
   ]
  },
  {
   "cell_type": "code",
   "execution_count": 75,
   "metadata": {},
   "outputs": [
    {
     "data": {
      "text/plain": [
       "(5266, 11)"
      ]
     },
     "execution_count": 75,
     "metadata": {},
     "output_type": "execute_result"
    }
   ],
   "source": [
    "savory.shape"
   ]
  },
  {
   "cell_type": "code",
   "execution_count": 76,
   "metadata": {},
   "outputs": [
    {
     "data": {
      "text/plain": [
       "array(['Pasta Eduardo', 'Pasta Maria Ana', '3 Mushroom melt',\n",
       "       'Beef Fajitas', 'Chicken Fajitas', 'Tuna Herbed Empanada',\n",
       "       'Cheesy Spinach Quiche', 'Cheesy Mushroom Basil Herbed Empanada ',\n",
       "       'Chicken Curry Pandesal', 'Cheezy Spanish Sardines  Pandesal',\n",
       "       'Pork Asado Pandesal', \"Pack of 3's Herbed Pocket Pita\",\n",
       "       'Tuna Empanada & Cold Brew Plain combo',\n",
       "       'Mushroom and Basil Empanada & Cold Brew Plain combo',\n",
       "       'Chicken Fajitas '], dtype=object)"
      ]
     },
     "execution_count": 76,
     "metadata": {},
     "output_type": "execute_result"
    }
   ],
   "source": [
    "savory = savory[~savory['PRODUCT_NAME'].str.contains(\"Bundle|Chocolate\", na=False)]\n",
    "savory['PRODUCT_NAME'].unique()"
   ]
  },
  {
   "cell_type": "code",
   "execution_count": 77,
   "metadata": {},
   "outputs": [
    {
     "data": {
      "text/plain": [
       "(5250, 11)"
      ]
     },
     "execution_count": 77,
     "metadata": {},
     "output_type": "execute_result"
    }
   ],
   "source": [
    "savory.shape"
   ]
  },
  {
   "cell_type": "markdown",
   "metadata": {},
   "source": [
    "### I will now concatenate the above subcategories into 1 dataframe, food2 to compare the difference of the data set before and after subcategorization."
   ]
  },
  {
   "cell_type": "code",
   "execution_count": 78,
   "metadata": {},
   "outputs": [
    {
     "data": {
      "text/plain": [
       "(15316, 11)"
      ]
     },
     "execution_count": 78,
     "metadata": {},
     "output_type": "execute_result"
    }
   ],
   "source": [
    "frames = [savory, other_desserts, cakes]\n",
    "\n",
    "food2 = pd.concat(frames)\n",
    "food2.shape"
   ]
  },
  {
   "cell_type": "code",
   "execution_count": 79,
   "metadata": {},
   "outputs": [
    {
     "name": "stdout",
     "output_type": "stream",
     "text": [
      "The difference between food df and concatenated food df is: 16\n"
     ]
    }
   ],
   "source": [
    "print(f'The difference between food df and concatenated food df is: {food.shape[0]-food2.shape[0]}')"
   ]
  },
  {
   "cell_type": "markdown",
   "metadata": {},
   "source": [
    "This is because we removed the 'Bundle' meals. These are promotions, not regular offerings. Since our changes look good, let's relabel `food2` to `food`"
   ]
  },
  {
   "cell_type": "code",
   "execution_count": 81,
   "metadata": {},
   "outputs": [
    {
     "data": {
      "text/plain": [
       "Savory            5250\n",
       "Other Desserts    5068\n",
       "Cakes             4998\n",
       "Name: Subcategory, dtype: int64"
      ]
     },
     "execution_count": 81,
     "metadata": {},
     "output_type": "execute_result"
    }
   ],
   "source": [
    "food = food2\n",
    "food['Subcategory'].value_counts()"
   ]
  },
  {
   "cell_type": "markdown",
   "metadata": {},
   "source": [
    "#### Below, let's see if there are null values."
   ]
  },
  {
   "cell_type": "code",
   "execution_count": 82,
   "metadata": {},
   "outputs": [
    {
     "data": {
      "text/plain": [
       "INVOICE_NO        0\n",
       "INVOICE_DATE      0\n",
       "PRODUCT_NUMBER    0\n",
       "QUANTITY_SOLD     0\n",
       "PRICE_SOLD        0\n",
       "PRODUCT_NAME      0\n",
       "COST              0\n",
       "RETAIL_PRICE      0\n",
       "CATEGORY          0\n",
       "ID                0\n",
       "Subcategory       0\n",
       "dtype: int64"
      ]
     },
     "execution_count": 82,
     "metadata": {},
     "output_type": "execute_result"
    }
   ],
   "source": [
    "food.isna().sum()"
   ]
  },
  {
   "cell_type": "markdown",
   "metadata": {},
   "source": [
    "### Now let's move on to Drinks\n",
    "I will do the same thing I did for food"
   ]
  },
  {
   "cell_type": "code",
   "execution_count": 84,
   "metadata": {
    "scrolled": true
   },
   "outputs": [
    {
     "data": {
      "text/plain": [
       "array(['Iced Flavor Fresh Herbs Pandan continental flavor',\n",
       "       'Atok Benguet ( R )', 'Cold brew Coffee Vanilla (R)',\n",
       "       'Iced Flavor Fresh Herbs Basil continental flavor',\n",
       "       'Caramel Coffee  Blended(S)', 'WATER EVIAN ',\n",
       "       'Original Flavor ( 120 ml )', 'Iced Cafe Mocha (R)', 'Latte (R)',\n",
       "       'Iced Plain Fresh Herbs Pandan', 'Caramel Macchiato (R)',\n",
       "       'Cafe Mocha (R)', 'Americano (S)', 'Cold brew Coffee Black (R)',\n",
       "       'Americano (R)', 'Iced Latte (R)',\n",
       "       'Iced Plain Premium Dried Oolong', 'Mocha Blended (R)',\n",
       "       'Traditional Lola', \"Traditional Lola's Recipe\", 'Cafe Mocha (S)',\n",
       "       'Kenya ( R )', 'Smooth And Milky Hot ( s )',\n",
       "       'Green Tea Hot ( SINGLE )', 'Smooth And Milky Hot ( d )',\n",
       "       'Peaberry ( R )', 'Atokape Oliver ( R )',\n",
       "       'Smoked And Dark Blended Chocolate( L )',\n",
       "       ' Black Tea Oolong Hot ( SINGLE )',\n",
       "       'Green Tea Genmaicha Hot ( SINGLE )', 'Mocha Blended (S)',\n",
       "       'Caramel Cream Blended (S)', 'Mocha Blended (L)',\n",
       "       'Iced Caramel macchiato (R)', 'Smoked And Dark Iced ( R )',\n",
       "       'Iced Plain Fresh Herbs Lemongrass',\n",
       "       'Iced Flavor Fresh Herbs Lemongrass', 'Latte (S)',\n",
       "       'Iced Plain Premium Dried Green Tea ',\n",
       "       'Iced Caramel macchiato (L)', 'Velvety And Fruity Hot ( d )',\n",
       "       'Cappuccino (M)', 'Tuba Benguet ( R )', 'Colombia ( R )',\n",
       "       'Cappuccino (R)', 'Iced Cafe Mocha (S)',\n",
       "       'Smoked and Dark Hot ( s )', 'Fruit Flavored ( 120 ml )',\n",
       "       'Herbal Tea Goji Berry Hot ( SINGLE )', 'caramel Macchiato (L)',\n",
       "       'Iced Plain Fresh Herbs Basil', 'Cold Brew Coffee White (R)',\n",
       "       'Smooth And Milky Iced ( R )', 'Caramel Macchiato (S)',\n",
       "       'Guatemala ( R )', 'Iced Plain Premium Dried Red Tea',\n",
       "       'Smooth And Milky Blended Chocolate ( R )', 'Latte (L)',\n",
       "       'Iced Caramel macchiato (S)', 'Lintong ( R )',\n",
       "       'Vanilla Cream Blended (R)', 'Matcha Green Blended (L)',\n",
       "       'Vanilla Cream Blended (S)', 'Iced Americano (R)',\n",
       "       'Vanilla Cream Blended (L)', 'Espresso (Doppio)',\n",
       "       'Smoked And Dark Blended Chocolate( R )', 'Iced Cafe Mocha (L)',\n",
       "       'Flat White ( R )',\n",
       "       'Iced Flavor Premium Dried Oolong continental flavor',\n",
       "       'El Salvador ( R )', 'Ampucao ( R )', 'Iced Latte (S)',\n",
       "       'Green Tea Genmaicha Hot ( TEA POT )',\n",
       "       'Smooth And Milky Blended Chocolate ( L )',\n",
       "       \"Traditional Lola's recipe\",\n",
       "       'Iced Flavor Premium Dried Green Tea continental flavor',\n",
       "       'Smoked And Dark Iced ( L )', 'White Chocolate MochaBlended (R)',\n",
       "       'Matcha Green Tea Latte ( L )', 'Chai Vanilla Tea Latte ( R )',\n",
       "       'Matcha Green Tea Latte ( S )',\n",
       "       'Herbal Tea Chrysanthemum Hot ( SINGLE )', 'VOLVIC WATER',\n",
       "       'White Chocolate Mocha Blended (S)', 'Americano (L)',\n",
       "       'Velvety And Fruity Hot ( s )', 'Espresso (Solo)',\n",
       "       'Velvety And fruity Blended Chocolate( R )',\n",
       "       'Matcha Green Blended (S)', 'Herbal Tea Chamomile Hot (TEA POT )',\n",
       "       'Cafe Mocha (L)', 'Herbal Tea Chamomile Hot (SINGLE )',\n",
       "       'Matcha Green Tea Latte ( R )', 'Smooth And Milky Iced ( L )',\n",
       "       'Matcha Green Blended (R)', 'Caramel Coffee Blended (L)',\n",
       "       'Iced Flavor Premium Dried Red Tea continental flavor',\n",
       "       'SAN PELLEGRINO WATER', 'Herbal Tea Chrysanthemum Hot ( TEA POT )',\n",
       "       'Black Tea Pu-erh Hot ( SINGLE )', 'Velvety And fruity Iced ( R )',\n",
       "       'Fruit Flavored ( 200 ml )', 'Caramel Cream Blended (R)',\n",
       "       'Green Tea Hot ( TEA POT )', 'Green Tea Jasmine Hot( SINGLE )',\n",
       "       'Chai Vanilla Tea Latte ( L )', 'Iced Latte (L)',\n",
       "       'White Chocolate Mocha Blended (L)', 'Smoked and Dark Hot ( d )',\n",
       "       'Smoked and Dark Hot ( t )', 'Caramel Coffee  Blended (R)',\n",
       "       'Herbal Tea Mint Hot ( SINGLE )', 'Chai Vanilla Tea Latte ( S )',\n",
       "       'Velvety And Fruity Hot ( t )', 'Herbal Tea Mint Hot ( TEA POT )',\n",
       "       ' Velvety And fruity Iced ( L )',\n",
       "       'Black Tea Earl Grey Hot ( SINGLE )',\n",
       "       'SINGLE ORIGIN GUATEMALA 250G', 'Iced Americano (L)',\n",
       "       'Black Tea Chai Hot ( TEA POT )', 'Iced Americano (S)',\n",
       "       'SINGLE ORIGIN AMPUCAO 250G', 'Green Tea Moroccan hot ( TEA POT )',\n",
       "       'Green Tea Moroccan Hot ( SINGLE )',\n",
       "       ' GINGER PEACH BLENDED BLACK TEA HOT (SINGLE)',\n",
       "       'SINGLE ORIGIN LINTONG 250G', ' Black Tea  Oolong Hot ( TEA POT )',\n",
       "       'PANDAN GUYABANO W/ CHIA SEEDS 500ml',\n",
       "       'Iced Flavor Fresh Herbs Lemongrass Tropical  flavor',\n",
       "       'LEMONGRASS MANGO 500ml', 'LEMONGRASS HIBISCUS 500ml',\n",
       "       'GINGER PEACH BLENDED BLACK TEA HOT (TEA POT)',\n",
       "       'SM Purified Water',\n",
       "       'Iced Flavor Premium Dried Green Tea Tropical Flavor',\n",
       "       'Green Tea Cold Brew 500ml',\n",
       "       'BLACK MANGO BLENDED BLACK TEA (TEA POT)',\n",
       "       'Cold Brew Coffee Black 350 ml (Guatemala)',\n",
       "       'Oolong Cold Brew  500ml', 'Green Tea Roselle (Single)',\n",
       "       'ICED CAFE MATCHA (R)', 'Toasted Coconut Caramel Blended (L)',\n",
       "       'Black Tea Earl Grey Hot ( TEA POT )',\n",
       "       'Toasted Coconut Caramel Blended (S)',\n",
       "       'Iced Flavor Fresh Herbs Pandan  Tropical  flavor',\n",
       "       'ATOK HONEY BENGUET (R)', 'Toasted Coconut Caramel Blended (R)',\n",
       "       'Cold Brew Coffee White W/ Vanilla 350 ml (Guatemala)',\n",
       "       'Lemongrass Guyabano 500ml',\n",
       "       'SINGLE ORIGIN ATOK HONEY BENGUET 250', 'ETHIOPIA SIDAMO (R)',\n",
       "       'Peach Tea (Tea pot)', 'Irish Tea Latte ( R )',\n",
       "       'SINGLE ORIGIN COLOMBIA 250G',\n",
       "       'BLACK MANGO BLENDED BLACK TEA (SINGLE)',\n",
       "       'Green Tea Jasmine  Hot ( TEA POT )',\n",
       "       'SINGLE ORIGIN ATOKAPE OLIVER 250G', 'Green Tea Roselle (TEA POT)',\n",
       "       'SINGLE ORIGIN EL SALVADOR 250G', 'BASIL HIBISCUS 500ml',\n",
       "       'Iced Flavor Premium Dried Red Tea  Tropical flavor',\n",
       "       'Roselle Tea Hot (TEAPOT)', 'SINGLE ORIGIN PEABERRY 250G',\n",
       "       'ICED CAFE MATCHA (L)', '20g Jasmine Tea retail pack',\n",
       "       '10g Roselle retail pack', 'Rose Tea (Tea pot)',\n",
       "       'Iced Flavor Premium Dried Oolong Tropical flavor',\n",
       "       'Roselle Tea Hot (SINGLE)', 'GREEN TEA COCONUT HOT TEA(TEAPOT)',\n",
       "       'Caramel Cream Blended (L)',\n",
       "       'Iced Flavor Fresh Herbs Basil  Tropical  flavor',\n",
       "       'Black Tea Chai Hot ( SINGLE )', 'Rose Tea (single)',\n",
       "       'Smooth And Milky Hot ( t )', 'SINGLE ORIGIN KENYA 250G',\n",
       "       'SINGLE ORIGIN TUBA BENGUET 250G', 'Peach Tea (Single)',\n",
       "       'Black Tea English Breakfast  Hot ( SINGLE )',\n",
       "       'Black Tea English Breakfast  Hot ( TEA POT )',\n",
       "       'Irish Tea Latte ( S )',\n",
       "       'Cold Brew Coffee White W/ Caramel 350 ml (Guatemala)',\n",
       "       'Irish Tea Latte ( L )', '20g Rose Tea retail pack ',\n",
       "       '15g Red Tea retail pack', '20g Green Tea retail pack',\n",
       "       'Black Tea Pu-erh Hot ( TEA POT )', 'Nilgiri Blue Tea (Tea Pot)',\n",
       "       'Saeda Chai Tea (Tea pot)', 'SITIO BELIS PEABERRY (R)',\n",
       "       'Cookies Cacao & Cream ice blended (R)',\n",
       "       'Promo Cacao Ice blended (R)', 'Cacao Ice Blended (R)',\n",
       "       'SITIO NAGUEY PEABERRY (R)', 'SITIO SABLAN (R)',\n",
       "       'Cacao Ice Blended (L)', 'Saeda Chai Tea(single)',\n",
       "       'Promo Cookies Cacao & Cream ice blended (R)',\n",
       "       'Cookies Cacao & Cream ice blended (L)',\n",
       "       'Nilgiri Blue Tea (Single)', 'Iced Caramel Latte Promo'],\n",
       "      dtype=object)"
      ]
     },
     "execution_count": 84,
     "metadata": {},
     "output_type": "execute_result"
    }
   ],
   "source": [
    "drinks['PRODUCT_NAME'].unique()"
   ]
  },
  {
   "cell_type": "code",
   "execution_count": 85,
   "metadata": {},
   "outputs": [
    {
     "data": {
      "text/plain": [
       "(34212, 10)"
      ]
     },
     "execution_count": 85,
     "metadata": {},
     "output_type": "execute_result"
    }
   ],
   "source": [
    "drinks.shape"
   ]
  },
  {
   "cell_type": "markdown",
   "metadata": {},
   "source": [
    "#### Coffee subcategory"
   ]
  },
  {
   "cell_type": "code",
   "execution_count": 86,
   "metadata": {},
   "outputs": [
    {
     "data": {
      "text/plain": [
       "array(['Atok Benguet ( R )', 'Cold brew Coffee Vanilla (R)',\n",
       "       'Caramel Coffee  Blended(S)', 'Iced Cafe Mocha (R)', 'Latte (R)',\n",
       "       'Caramel Macchiato (R)', 'Cafe Mocha (R)', 'Americano (S)',\n",
       "       'Cold brew Coffee Black (R)', 'Americano (R)', 'Iced Latte (R)',\n",
       "       'Cafe Mocha (S)', 'Kenya ( R )', 'Peaberry ( R )',\n",
       "       'Atokape Oliver ( R )', 'Iced Caramel macchiato (R)', 'Latte (S)',\n",
       "       'Iced Caramel macchiato (L)', 'Cappuccino (M)',\n",
       "       'Tuba Benguet ( R )', 'Colombia ( R )', 'Cappuccino (R)',\n",
       "       'Iced Cafe Mocha (S)', 'caramel Macchiato (L)',\n",
       "       'Cold Brew Coffee White (R)', 'Caramel Macchiato (S)',\n",
       "       'Guatemala ( R )', 'Latte (L)', 'Iced Caramel macchiato (S)',\n",
       "       'Lintong ( R )', 'Iced Americano (R)', 'Espresso (Doppio)',\n",
       "       'Iced Cafe Mocha (L)', 'Flat White ( R )', 'El Salvador ( R )',\n",
       "       'Ampucao ( R )', 'Iced Latte (S)', 'Matcha Green Tea Latte ( L )',\n",
       "       'Chai Vanilla Tea Latte ( R )', 'Matcha Green Tea Latte ( S )',\n",
       "       'Americano (L)', 'Espresso (Solo)', 'Cafe Mocha (L)',\n",
       "       'Matcha Green Tea Latte ( R )', 'Caramel Coffee Blended (L)',\n",
       "       'Chai Vanilla Tea Latte ( L )', 'Iced Latte (L)',\n",
       "       'Caramel Coffee  Blended (R)', 'Chai Vanilla Tea Latte ( S )',\n",
       "       'SINGLE ORIGIN GUATEMALA 250G', 'Iced Americano (L)',\n",
       "       'Iced Americano (S)', 'SINGLE ORIGIN AMPUCAO 250G',\n",
       "       'SINGLE ORIGIN LINTONG 250G',\n",
       "       'Cold Brew Coffee Black 350 ml (Guatemala)',\n",
       "       'ICED CAFE MATCHA (R)', 'ATOK HONEY BENGUET (R)',\n",
       "       'Cold Brew Coffee White W/ Vanilla 350 ml (Guatemala)',\n",
       "       'SINGLE ORIGIN ATOK HONEY BENGUET 250', 'ETHIOPIA SIDAMO (R)',\n",
       "       'Irish Tea Latte ( R )', 'SINGLE ORIGIN COLOMBIA 250G',\n",
       "       'SINGLE ORIGIN ATOKAPE OLIVER 250G',\n",
       "       'SINGLE ORIGIN EL SALVADOR 250G', 'SINGLE ORIGIN PEABERRY 250G',\n",
       "       'ICED CAFE MATCHA (L)', 'SINGLE ORIGIN KENYA 250G',\n",
       "       'SINGLE ORIGIN TUBA BENGUET 250G', 'Irish Tea Latte ( S )',\n",
       "       'Cold Brew Coffee White W/ Caramel 350 ml (Guatemala)',\n",
       "       'Irish Tea Latte ( L )', 'SITIO BELIS PEABERRY (R)',\n",
       "       'SITIO NAGUEY PEABERRY (R)', 'SITIO SABLAN (R)',\n",
       "       'Iced Caramel Latte Promo'], dtype=object)"
      ]
     },
     "execution_count": 86,
     "metadata": {},
     "output_type": "execute_result"
    }
   ],
   "source": [
    "coffee = drinks[drinks['PRODUCT_NAME'].str.contains(\"CAFE|Kenya|Americano|Macchiato|FLAT|Doppio|Colombia|Cappuccino|macchiato|Lintong|Espresso|Flat|SINGLE ORIGIN|Guatemala|Peaberry|Benguet|Coffee|Latte|Cafe|brew|Atok|ETHIOPIA|SITIO|BENGUET|ATOK|KENYA|Ampucao|El Salvador\", na=False)]\n",
    "coffee['PRODUCT_NAME'].unique()"
   ]
  },
  {
   "cell_type": "code",
   "execution_count": 87,
   "metadata": {},
   "outputs": [
    {
     "data": {
      "text/html": [
       "<div>\n",
       "<style scoped>\n",
       "    .dataframe tbody tr th:only-of-type {\n",
       "        vertical-align: middle;\n",
       "    }\n",
       "\n",
       "    .dataframe tbody tr th {\n",
       "        vertical-align: top;\n",
       "    }\n",
       "\n",
       "    .dataframe thead th {\n",
       "        text-align: right;\n",
       "    }\n",
       "</style>\n",
       "<table border=\"1\" class=\"dataframe\">\n",
       "  <thead>\n",
       "    <tr style=\"text-align: right;\">\n",
       "      <th></th>\n",
       "      <th>INVOICE_NO</th>\n",
       "      <th>INVOICE_DATE</th>\n",
       "      <th>PRODUCT_NUMBER</th>\n",
       "      <th>QUANTITY_SOLD</th>\n",
       "      <th>PRICE_SOLD</th>\n",
       "      <th>PRODUCT_NAME</th>\n",
       "      <th>COST</th>\n",
       "      <th>RETAIL_PRICE</th>\n",
       "      <th>CATEGORY</th>\n",
       "      <th>ID</th>\n",
       "      <th>Subcategory</th>\n",
       "    </tr>\n",
       "  </thead>\n",
       "  <tbody>\n",
       "    <tr>\n",
       "      <th>2</th>\n",
       "      <td>2</td>\n",
       "      <td>2017-01-12 12:51:00</td>\n",
       "      <td>262800</td>\n",
       "      <td>1.0</td>\n",
       "      <td>160.0</td>\n",
       "      <td>Atok Benguet ( R )</td>\n",
       "      <td>15.7100</td>\n",
       "      <td>160.0</td>\n",
       "      <td>Drinks</td>\n",
       "      <td>2</td>\n",
       "      <td>Coffee</td>\n",
       "    </tr>\n",
       "    <tr>\n",
       "      <th>3</th>\n",
       "      <td>2</td>\n",
       "      <td>2017-01-12 12:51:00</td>\n",
       "      <td>262812</td>\n",
       "      <td>1.0</td>\n",
       "      <td>150.0</td>\n",
       "      <td>Cold brew Coffee Vanilla (R)</td>\n",
       "      <td>90.4772</td>\n",
       "      <td>150.0</td>\n",
       "      <td>Drinks</td>\n",
       "      <td>3</td>\n",
       "      <td>Coffee</td>\n",
       "    </tr>\n",
       "    <tr>\n",
       "      <th>13</th>\n",
       "      <td>4</td>\n",
       "      <td>2017-01-12 13:27:00</td>\n",
       "      <td>262751</td>\n",
       "      <td>1.0</td>\n",
       "      <td>170.0</td>\n",
       "      <td>Caramel Coffee  Blended(S)</td>\n",
       "      <td>5767.8100</td>\n",
       "      <td>170.0</td>\n",
       "      <td>Drinks</td>\n",
       "      <td>13</td>\n",
       "      <td>Coffee</td>\n",
       "    </tr>\n",
       "    <tr>\n",
       "      <th>22</th>\n",
       "      <td>5</td>\n",
       "      <td>2017-01-12 13:46:00</td>\n",
       "      <td>262744</td>\n",
       "      <td>1.0</td>\n",
       "      <td>160.0</td>\n",
       "      <td>Iced Cafe Mocha (R)</td>\n",
       "      <td>18229.0300</td>\n",
       "      <td>160.0</td>\n",
       "      <td>Drinks</td>\n",
       "      <td>22</td>\n",
       "      <td>Coffee</td>\n",
       "    </tr>\n",
       "    <tr>\n",
       "      <th>30</th>\n",
       "      <td>6</td>\n",
       "      <td>2017-01-12 14:02:00</td>\n",
       "      <td>262720</td>\n",
       "      <td>1.0</td>\n",
       "      <td>140.0</td>\n",
       "      <td>Latte (R)</td>\n",
       "      <td>19177.6300</td>\n",
       "      <td>140.0</td>\n",
       "      <td>Drinks</td>\n",
       "      <td>30</td>\n",
       "      <td>Coffee</td>\n",
       "    </tr>\n",
       "  </tbody>\n",
       "</table>\n",
       "</div>"
      ],
      "text/plain": [
       "    INVOICE_NO        INVOICE_DATE  PRODUCT_NUMBER  QUANTITY_SOLD  PRICE_SOLD  \\\n",
       "2            2 2017-01-12 12:51:00          262800            1.0       160.0   \n",
       "3            2 2017-01-12 12:51:00          262812            1.0       150.0   \n",
       "13           4 2017-01-12 13:27:00          262751            1.0       170.0   \n",
       "22           5 2017-01-12 13:46:00          262744            1.0       160.0   \n",
       "30           6 2017-01-12 14:02:00          262720            1.0       140.0   \n",
       "\n",
       "                    PRODUCT_NAME        COST  RETAIL_PRICE CATEGORY  ID  \\\n",
       "2             Atok Benguet ( R )     15.7100         160.0   Drinks   2   \n",
       "3   Cold brew Coffee Vanilla (R)     90.4772         150.0   Drinks   3   \n",
       "13    Caramel Coffee  Blended(S)   5767.8100         170.0   Drinks  13   \n",
       "22           Iced Cafe Mocha (R)  18229.0300         160.0   Drinks  22   \n",
       "30                     Latte (R)  19177.6300         140.0   Drinks  30   \n",
       "\n",
       "   Subcategory  \n",
       "2       Coffee  \n",
       "3       Coffee  \n",
       "13      Coffee  \n",
       "22      Coffee  \n",
       "30      Coffee  "
      ]
     },
     "execution_count": 87,
     "metadata": {},
     "output_type": "execute_result"
    }
   ],
   "source": [
    "coffee['Subcategory'] = 'Coffee'\n",
    "coffee.head()"
   ]
  },
  {
   "cell_type": "code",
   "execution_count": 88,
   "metadata": {},
   "outputs": [
    {
     "data": {
      "text/plain": [
       "(19015, 11)"
      ]
     },
     "execution_count": 88,
     "metadata": {},
     "output_type": "execute_result"
    }
   ],
   "source": [
    "coffee.shape"
   ]
  },
  {
   "cell_type": "code",
   "execution_count": 89,
   "metadata": {},
   "outputs": [
    {
     "data": {
      "text/plain": [
       "INVOICE_NO        0\n",
       "INVOICE_DATE      0\n",
       "PRODUCT_NUMBER    0\n",
       "QUANTITY_SOLD     0\n",
       "PRICE_SOLD        0\n",
       "PRODUCT_NAME      0\n",
       "COST              0\n",
       "RETAIL_PRICE      0\n",
       "CATEGORY          0\n",
       "ID                0\n",
       "Subcategory       0\n",
       "dtype: int64"
      ]
     },
     "execution_count": 89,
     "metadata": {},
     "output_type": "execute_result"
    }
   ],
   "source": [
    "coffee.isna().sum()"
   ]
  },
  {
   "cell_type": "markdown",
   "metadata": {},
   "source": [
    "#### Cacao subcategory"
   ]
  },
  {
   "cell_type": "code",
   "execution_count": 92,
   "metadata": {},
   "outputs": [
    {
     "data": {
      "text/plain": [
       "array(['Iced Cafe Mocha (R)', 'Cafe Mocha (R)', 'Mocha Blended (R)',\n",
       "       'Traditional Lola', \"Traditional Lola's Recipe\", 'Cafe Mocha (S)',\n",
       "       'Smooth And Milky Hot ( s )', 'Smooth And Milky Hot ( d )',\n",
       "       'Smoked And Dark Blended Chocolate( L )', 'Mocha Blended (S)',\n",
       "       'Mocha Blended (L)', 'Smoked And Dark Iced ( R )',\n",
       "       'Velvety And Fruity Hot ( d )', 'Iced Cafe Mocha (S)',\n",
       "       'Smoked and Dark Hot ( s )', 'Smooth And Milky Iced ( R )',\n",
       "       'Smooth And Milky Blended Chocolate ( R )',\n",
       "       'Smoked And Dark Blended Chocolate( R )', 'Iced Cafe Mocha (L)',\n",
       "       'Smooth And Milky Blended Chocolate ( L )',\n",
       "       \"Traditional Lola's recipe\", 'Smoked And Dark Iced ( L )',\n",
       "       'White Chocolate MochaBlended (R)',\n",
       "       'White Chocolate Mocha Blended (S)',\n",
       "       'Velvety And Fruity Hot ( s )',\n",
       "       'Velvety And fruity Blended Chocolate( R )', 'Cafe Mocha (L)',\n",
       "       'Smooth And Milky Iced ( L )', 'Velvety And fruity Iced ( R )',\n",
       "       'White Chocolate Mocha Blended (L)', 'Smoked and Dark Hot ( d )',\n",
       "       'Smoked and Dark Hot ( t )', 'Velvety And Fruity Hot ( t )',\n",
       "       ' Velvety And fruity Iced ( L )', 'Smooth And Milky Hot ( t )',\n",
       "       'Cookies Cacao & Cream ice blended (R)',\n",
       "       'Promo Cacao Ice blended (R)', 'Cacao Ice Blended (R)',\n",
       "       'Cacao Ice Blended (L)',\n",
       "       'Promo Cookies Cacao & Cream ice blended (R)',\n",
       "       'Cookies Cacao & Cream ice blended (L)'], dtype=object)"
      ]
     },
     "execution_count": 92,
     "metadata": {},
     "output_type": "execute_result"
    }
   ],
   "source": [
    "cacao = drinks[drinks['PRODUCT_NAME'].str.contains(\"Lola|Traditional|Smooth|Velvety|Milky|Mocha|Smoked|Chocolate|Cacao|cacao\", na=False)]\n",
    "cacao['PRODUCT_NAME'].unique()"
   ]
  },
  {
   "cell_type": "code",
   "execution_count": 93,
   "metadata": {},
   "outputs": [
    {
     "data": {
      "text/html": [
       "<div>\n",
       "<style scoped>\n",
       "    .dataframe tbody tr th:only-of-type {\n",
       "        vertical-align: middle;\n",
       "    }\n",
       "\n",
       "    .dataframe tbody tr th {\n",
       "        vertical-align: top;\n",
       "    }\n",
       "\n",
       "    .dataframe thead th {\n",
       "        text-align: right;\n",
       "    }\n",
       "</style>\n",
       "<table border=\"1\" class=\"dataframe\">\n",
       "  <thead>\n",
       "    <tr style=\"text-align: right;\">\n",
       "      <th></th>\n",
       "      <th>INVOICE_NO</th>\n",
       "      <th>INVOICE_DATE</th>\n",
       "      <th>PRODUCT_NUMBER</th>\n",
       "      <th>QUANTITY_SOLD</th>\n",
       "      <th>PRICE_SOLD</th>\n",
       "      <th>PRODUCT_NAME</th>\n",
       "      <th>COST</th>\n",
       "      <th>RETAIL_PRICE</th>\n",
       "      <th>CATEGORY</th>\n",
       "      <th>ID</th>\n",
       "      <th>Subcategory</th>\n",
       "    </tr>\n",
       "  </thead>\n",
       "  <tbody>\n",
       "    <tr>\n",
       "      <th>22</th>\n",
       "      <td>5</td>\n",
       "      <td>2017-01-12 13:46:00</td>\n",
       "      <td>262744</td>\n",
       "      <td>1.0</td>\n",
       "      <td>160.0</td>\n",
       "      <td>Iced Cafe Mocha (R)</td>\n",
       "      <td>18229.03</td>\n",
       "      <td>160.0</td>\n",
       "      <td>Drinks</td>\n",
       "      <td>22</td>\n",
       "      <td>Cacao</td>\n",
       "    </tr>\n",
       "    <tr>\n",
       "      <th>47</th>\n",
       "      <td>9</td>\n",
       "      <td>2017-01-12 14:23:00</td>\n",
       "      <td>262728</td>\n",
       "      <td>1.0</td>\n",
       "      <td>160.0</td>\n",
       "      <td>Cafe Mocha (R)</td>\n",
       "      <td>14421.42</td>\n",
       "      <td>160.0</td>\n",
       "      <td>Drinks</td>\n",
       "      <td>47</td>\n",
       "      <td>Cacao</td>\n",
       "    </tr>\n",
       "  </tbody>\n",
       "</table>\n",
       "</div>"
      ],
      "text/plain": [
       "    INVOICE_NO        INVOICE_DATE  PRODUCT_NUMBER  QUANTITY_SOLD  PRICE_SOLD  \\\n",
       "22           5 2017-01-12 13:46:00          262744            1.0       160.0   \n",
       "47           9 2017-01-12 14:23:00          262728            1.0       160.0   \n",
       "\n",
       "           PRODUCT_NAME      COST  RETAIL_PRICE CATEGORY  ID Subcategory  \n",
       "22  Iced Cafe Mocha (R)  18229.03         160.0   Drinks  22       Cacao  \n",
       "47       Cafe Mocha (R)  14421.42         160.0   Drinks  47       Cacao  "
      ]
     },
     "execution_count": 93,
     "metadata": {},
     "output_type": "execute_result"
    }
   ],
   "source": [
    "cacao['Subcategory'] = 'Cacao'\n",
    "cacao.head(2)"
   ]
  },
  {
   "cell_type": "code",
   "execution_count": 94,
   "metadata": {},
   "outputs": [
    {
     "data": {
      "text/plain": [
       "(10733, 11)"
      ]
     },
     "execution_count": 94,
     "metadata": {},
     "output_type": "execute_result"
    }
   ],
   "source": [
    "cacao.shape"
   ]
  },
  {
   "cell_type": "code",
   "execution_count": 95,
   "metadata": {},
   "outputs": [
    {
     "data": {
      "text/plain": [
       "INVOICE_NO        0\n",
       "INVOICE_DATE      0\n",
       "PRODUCT_NUMBER    0\n",
       "QUANTITY_SOLD     0\n",
       "PRICE_SOLD        0\n",
       "PRODUCT_NAME      0\n",
       "COST              0\n",
       "RETAIL_PRICE      0\n",
       "CATEGORY          0\n",
       "ID                0\n",
       "Subcategory       0\n",
       "dtype: int64"
      ]
     },
     "execution_count": 95,
     "metadata": {},
     "output_type": "execute_result"
    }
   ],
   "source": [
    "cacao.isna().sum()"
   ]
  },
  {
   "cell_type": "markdown",
   "metadata": {},
   "source": [
    "#### Tea subcategory"
   ]
  },
  {
   "cell_type": "code",
   "execution_count": 96,
   "metadata": {},
   "outputs": [
    {
     "data": {
      "text/plain": [
       "array(['Iced Flavor Fresh Herbs Pandan continental flavor',\n",
       "       'Iced Flavor Fresh Herbs Basil continental flavor',\n",
       "       'Original Flavor ( 120 ml )', 'Iced Plain Fresh Herbs Pandan',\n",
       "       'Iced Plain Premium Dried Oolong', 'Green Tea Hot ( SINGLE )',\n",
       "       ' Black Tea Oolong Hot ( SINGLE )',\n",
       "       'Green Tea Genmaicha Hot ( SINGLE )',\n",
       "       'Iced Plain Fresh Herbs Lemongrass',\n",
       "       'Iced Flavor Fresh Herbs Lemongrass',\n",
       "       'Iced Plain Premium Dried Green Tea ', 'Fruit Flavored ( 120 ml )',\n",
       "       'Herbal Tea Goji Berry Hot ( SINGLE )',\n",
       "       'Iced Plain Fresh Herbs Basil', 'Iced Plain Premium Dried Red Tea',\n",
       "       'Iced Flavor Premium Dried Oolong continental flavor',\n",
       "       'Green Tea Genmaicha Hot ( TEA POT )',\n",
       "       'Iced Flavor Premium Dried Green Tea continental flavor',\n",
       "       'Matcha Green Tea Latte ( L )', 'Chai Vanilla Tea Latte ( R )',\n",
       "       'Matcha Green Tea Latte ( S )',\n",
       "       'Herbal Tea Chrysanthemum Hot ( SINGLE )',\n",
       "       'Herbal Tea Chamomile Hot (TEA POT )',\n",
       "       'Herbal Tea Chamomile Hot (SINGLE )',\n",
       "       'Matcha Green Tea Latte ( R )',\n",
       "       'Iced Flavor Premium Dried Red Tea continental flavor',\n",
       "       'Herbal Tea Chrysanthemum Hot ( TEA POT )',\n",
       "       'Black Tea Pu-erh Hot ( SINGLE )', 'Fruit Flavored ( 200 ml )',\n",
       "       'Green Tea Hot ( TEA POT )', 'Green Tea Jasmine Hot( SINGLE )',\n",
       "       'Chai Vanilla Tea Latte ( L )', 'Herbal Tea Mint Hot ( SINGLE )',\n",
       "       'Chai Vanilla Tea Latte ( S )', 'Herbal Tea Mint Hot ( TEA POT )',\n",
       "       'Black Tea Earl Grey Hot ( SINGLE )',\n",
       "       'Black Tea Chai Hot ( TEA POT )',\n",
       "       'Green Tea Moroccan hot ( TEA POT )',\n",
       "       'Green Tea Moroccan Hot ( SINGLE )',\n",
       "       ' GINGER PEACH BLENDED BLACK TEA HOT (SINGLE)',\n",
       "       ' Black Tea  Oolong Hot ( TEA POT )',\n",
       "       'PANDAN GUYABANO W/ CHIA SEEDS 500ml',\n",
       "       'Iced Flavor Fresh Herbs Lemongrass Tropical  flavor',\n",
       "       'LEMONGRASS MANGO 500ml', 'LEMONGRASS HIBISCUS 500ml',\n",
       "       'GINGER PEACH BLENDED BLACK TEA HOT (TEA POT)',\n",
       "       'Iced Flavor Premium Dried Green Tea Tropical Flavor',\n",
       "       'Green Tea Cold Brew 500ml',\n",
       "       'BLACK MANGO BLENDED BLACK TEA (TEA POT)',\n",
       "       'Oolong Cold Brew  500ml', 'Green Tea Roselle (Single)',\n",
       "       'Black Tea Earl Grey Hot ( TEA POT )',\n",
       "       'Iced Flavor Fresh Herbs Pandan  Tropical  flavor',\n",
       "       'Peach Tea (Tea pot)', 'Irish Tea Latte ( R )',\n",
       "       'BLACK MANGO BLENDED BLACK TEA (SINGLE)',\n",
       "       'Green Tea Jasmine  Hot ( TEA POT )',\n",
       "       'Green Tea Roselle (TEA POT)', 'BASIL HIBISCUS 500ml',\n",
       "       'Iced Flavor Premium Dried Red Tea  Tropical flavor',\n",
       "       'Roselle Tea Hot (TEAPOT)', '20g Jasmine Tea retail pack',\n",
       "       '10g Roselle retail pack', 'Rose Tea (Tea pot)',\n",
       "       'Iced Flavor Premium Dried Oolong Tropical flavor',\n",
       "       'Roselle Tea Hot (SINGLE)', 'GREEN TEA COCONUT HOT TEA(TEAPOT)',\n",
       "       'Iced Flavor Fresh Herbs Basil  Tropical  flavor',\n",
       "       'Black Tea Chai Hot ( SINGLE )', 'Rose Tea (single)',\n",
       "       'Peach Tea (Single)',\n",
       "       'Black Tea English Breakfast  Hot ( SINGLE )',\n",
       "       'Black Tea English Breakfast  Hot ( TEA POT )',\n",
       "       'Irish Tea Latte ( S )', 'Irish Tea Latte ( L )',\n",
       "       '20g Rose Tea retail pack ', '15g Red Tea retail pack',\n",
       "       '20g Green Tea retail pack', 'Black Tea Pu-erh Hot ( TEA POT )',\n",
       "       'Nilgiri Blue Tea (Tea Pot)', 'Saeda Chai Tea (Tea pot)',\n",
       "       'Saeda Chai Tea(single)', 'Nilgiri Blue Tea (Single)'],\n",
       "      dtype=object)"
      ]
     },
     "execution_count": 96,
     "metadata": {},
     "output_type": "execute_result"
    }
   ],
   "source": [
    "tea = drinks[drinks['PRODUCT_NAME'].str.contains(\"Tea|Herbs|TEA|tea|Roselle|HERBS|LEMONGRASS|Dried|dried|Flavor|PANDAN|GUYABANO|HIBISCUS|Oolong\", na=False)]\n",
    "tea['PRODUCT_NAME'].unique()"
   ]
  },
  {
   "cell_type": "code",
   "execution_count": 97,
   "metadata": {},
   "outputs": [
    {
     "data": {
      "text/html": [
       "<div>\n",
       "<style scoped>\n",
       "    .dataframe tbody tr th:only-of-type {\n",
       "        vertical-align: middle;\n",
       "    }\n",
       "\n",
       "    .dataframe tbody tr th {\n",
       "        vertical-align: top;\n",
       "    }\n",
       "\n",
       "    .dataframe thead th {\n",
       "        text-align: right;\n",
       "    }\n",
       "</style>\n",
       "<table border=\"1\" class=\"dataframe\">\n",
       "  <thead>\n",
       "    <tr style=\"text-align: right;\">\n",
       "      <th></th>\n",
       "      <th>INVOICE_NO</th>\n",
       "      <th>INVOICE_DATE</th>\n",
       "      <th>PRODUCT_NUMBER</th>\n",
       "      <th>QUANTITY_SOLD</th>\n",
       "      <th>PRICE_SOLD</th>\n",
       "      <th>PRODUCT_NAME</th>\n",
       "      <th>COST</th>\n",
       "      <th>RETAIL_PRICE</th>\n",
       "      <th>CATEGORY</th>\n",
       "      <th>ID</th>\n",
       "      <th>Subcategory</th>\n",
       "    </tr>\n",
       "  </thead>\n",
       "  <tbody>\n",
       "    <tr>\n",
       "      <th>1</th>\n",
       "      <td>1</td>\n",
       "      <td>2017-01-12 12:47:00</td>\n",
       "      <td>262924</td>\n",
       "      <td>1.0</td>\n",
       "      <td>160.0</td>\n",
       "      <td>Iced Flavor Fresh Herbs Pandan continental flavor</td>\n",
       "      <td>0.0</td>\n",
       "      <td>160.0</td>\n",
       "      <td>Drinks</td>\n",
       "      <td>1</td>\n",
       "      <td>Tea</td>\n",
       "    </tr>\n",
       "    <tr>\n",
       "      <th>12</th>\n",
       "      <td>3</td>\n",
       "      <td>2017-01-12 12:56:00</td>\n",
       "      <td>262921</td>\n",
       "      <td>1.0</td>\n",
       "      <td>160.0</td>\n",
       "      <td>Iced Flavor Fresh Herbs Basil continental flavor</td>\n",
       "      <td>0.0</td>\n",
       "      <td>160.0</td>\n",
       "      <td>Drinks</td>\n",
       "      <td>12</td>\n",
       "      <td>Tea</td>\n",
       "    </tr>\n",
       "    <tr>\n",
       "      <th>23</th>\n",
       "      <td>5</td>\n",
       "      <td>2017-01-12 13:46:00</td>\n",
       "      <td>262926</td>\n",
       "      <td>1.0</td>\n",
       "      <td>95.0</td>\n",
       "      <td>Original Flavor ( 120 ml )</td>\n",
       "      <td>0.0</td>\n",
       "      <td>95.0</td>\n",
       "      <td>Drinks</td>\n",
       "      <td>23</td>\n",
       "      <td>Tea</td>\n",
       "    </tr>\n",
       "    <tr>\n",
       "      <th>37</th>\n",
       "      <td>7</td>\n",
       "      <td>2017-01-12 14:07:00</td>\n",
       "      <td>262923</td>\n",
       "      <td>1.0</td>\n",
       "      <td>90.0</td>\n",
       "      <td>Iced Plain Fresh Herbs Pandan</td>\n",
       "      <td>0.0</td>\n",
       "      <td>90.0</td>\n",
       "      <td>Drinks</td>\n",
       "      <td>37</td>\n",
       "      <td>Tea</td>\n",
       "    </tr>\n",
       "    <tr>\n",
       "      <th>79</th>\n",
       "      <td>12</td>\n",
       "      <td>2017-01-12 14:56:00</td>\n",
       "      <td>262908</td>\n",
       "      <td>1.0</td>\n",
       "      <td>90.0</td>\n",
       "      <td>Iced Plain Premium Dried Oolong</td>\n",
       "      <td>0.0</td>\n",
       "      <td>90.0</td>\n",
       "      <td>Drinks</td>\n",
       "      <td>79</td>\n",
       "      <td>Tea</td>\n",
       "    </tr>\n",
       "  </tbody>\n",
       "</table>\n",
       "</div>"
      ],
      "text/plain": [
       "    INVOICE_NO        INVOICE_DATE  PRODUCT_NUMBER  QUANTITY_SOLD  PRICE_SOLD  \\\n",
       "1            1 2017-01-12 12:47:00          262924            1.0       160.0   \n",
       "12           3 2017-01-12 12:56:00          262921            1.0       160.0   \n",
       "23           5 2017-01-12 13:46:00          262926            1.0        95.0   \n",
       "37           7 2017-01-12 14:07:00          262923            1.0        90.0   \n",
       "79          12 2017-01-12 14:56:00          262908            1.0        90.0   \n",
       "\n",
       "                                         PRODUCT_NAME  COST  RETAIL_PRICE  \\\n",
       "1   Iced Flavor Fresh Herbs Pandan continental flavor   0.0         160.0   \n",
       "12   Iced Flavor Fresh Herbs Basil continental flavor   0.0         160.0   \n",
       "23                         Original Flavor ( 120 ml )   0.0          95.0   \n",
       "37                      Iced Plain Fresh Herbs Pandan   0.0          90.0   \n",
       "79                    Iced Plain Premium Dried Oolong   0.0          90.0   \n",
       "\n",
       "   CATEGORY  ID Subcategory  \n",
       "1    Drinks   1         Tea  \n",
       "12   Drinks  12         Tea  \n",
       "23   Drinks  23         Tea  \n",
       "37   Drinks  37         Tea  \n",
       "79   Drinks  79         Tea  "
      ]
     },
     "execution_count": 97,
     "metadata": {},
     "output_type": "execute_result"
    }
   ],
   "source": [
    "tea['Subcategory'] = 'Tea'\n",
    "tea.head()"
   ]
  },
  {
   "cell_type": "code",
   "execution_count": null,
   "metadata": {},
   "outputs": [],
   "source": []
  },
  {
   "cell_type": "code",
   "execution_count": null,
   "metadata": {},
   "outputs": [],
   "source": []
  },
  {
   "cell_type": "code",
   "execution_count": null,
   "metadata": {},
   "outputs": [],
   "source": []
  },
  {
   "cell_type": "code",
   "execution_count": null,
   "metadata": {},
   "outputs": [],
   "source": []
  },
  {
   "cell_type": "code",
   "execution_count": null,
   "metadata": {},
   "outputs": [],
   "source": []
  },
  {
   "cell_type": "code",
   "execution_count": 106,
   "metadata": {},
   "outputs": [
    {
     "data": {
      "text/plain": [
       "(5248, 11)"
      ]
     },
     "execution_count": 106,
     "metadata": {},
     "output_type": "execute_result"
    }
   ],
   "source": [
    "tea.shape"
   ]
  },
  {
   "cell_type": "code",
   "execution_count": 107,
   "metadata": {},
   "outputs": [
    {
     "data": {
      "text/plain": [
       "INVOICE_NO        0\n",
       "INVOICE_DATE      0\n",
       "PRODUCT_NUMBER    0\n",
       "QUANTITY_SOLD     0\n",
       "PRICE_SOLD        0\n",
       "PRODUCT_NAME      0\n",
       "COST              0\n",
       "RETAIL_PRICE      0\n",
       "CATEGORY          0\n",
       "ID                0\n",
       "Subcategory       0\n",
       "dtype: int64"
      ]
     },
     "execution_count": 107,
     "metadata": {},
     "output_type": "execute_result"
    }
   ],
   "source": [
    "tea.isna().sum()"
   ]
  },
  {
   "cell_type": "markdown",
   "metadata": {},
   "source": [
    "#### Water subcategory"
   ]
  },
  {
   "cell_type": "code",
   "execution_count": 98,
   "metadata": {},
   "outputs": [
    {
     "data": {
      "text/plain": [
       "array(['WATER EVIAN ', 'VOLVIC WATER', 'SAN PELLEGRINO WATER',\n",
       "       'SM Purified Water'], dtype=object)"
      ]
     },
     "execution_count": 98,
     "metadata": {},
     "output_type": "execute_result"
    }
   ],
   "source": [
    "water = drinks[drinks['PRODUCT_NAME'].str.contains(\"water|Water|WATER\", na=False)]\n",
    "water['PRODUCT_NAME'].unique()"
   ]
  },
  {
   "cell_type": "code",
   "execution_count": 99,
   "metadata": {},
   "outputs": [
    {
     "data": {
      "text/html": [
       "<div>\n",
       "<style scoped>\n",
       "    .dataframe tbody tr th:only-of-type {\n",
       "        vertical-align: middle;\n",
       "    }\n",
       "\n",
       "    .dataframe tbody tr th {\n",
       "        vertical-align: top;\n",
       "    }\n",
       "\n",
       "    .dataframe thead th {\n",
       "        text-align: right;\n",
       "    }\n",
       "</style>\n",
       "<table border=\"1\" class=\"dataframe\">\n",
       "  <thead>\n",
       "    <tr style=\"text-align: right;\">\n",
       "      <th></th>\n",
       "      <th>INVOICE_NO</th>\n",
       "      <th>INVOICE_DATE</th>\n",
       "      <th>PRODUCT_NUMBER</th>\n",
       "      <th>QUANTITY_SOLD</th>\n",
       "      <th>PRICE_SOLD</th>\n",
       "      <th>PRODUCT_NAME</th>\n",
       "      <th>COST</th>\n",
       "      <th>RETAIL_PRICE</th>\n",
       "      <th>CATEGORY</th>\n",
       "      <th>ID</th>\n",
       "      <th>Subcategory</th>\n",
       "    </tr>\n",
       "  </thead>\n",
       "  <tbody>\n",
       "    <tr>\n",
       "      <th>15</th>\n",
       "      <td>4</td>\n",
       "      <td>2017-01-12 13:27:00</td>\n",
       "      <td>262933</td>\n",
       "      <td>1.0</td>\n",
       "      <td>75.0</td>\n",
       "      <td>WATER EVIAN</td>\n",
       "      <td>0.0</td>\n",
       "      <td>75.0</td>\n",
       "      <td>Drinks</td>\n",
       "      <td>15</td>\n",
       "      <td>Water</td>\n",
       "    </tr>\n",
       "    <tr>\n",
       "      <th>1399</th>\n",
       "      <td>170</td>\n",
       "      <td>2017-05-12 18:10:00</td>\n",
       "      <td>262933</td>\n",
       "      <td>1.0</td>\n",
       "      <td>75.0</td>\n",
       "      <td>WATER EVIAN</td>\n",
       "      <td>0.0</td>\n",
       "      <td>75.0</td>\n",
       "      <td>Drinks</td>\n",
       "      <td>1399</td>\n",
       "      <td>Water</td>\n",
       "    </tr>\n",
       "    <tr>\n",
       "      <th>1408</th>\n",
       "      <td>172</td>\n",
       "      <td>2017-05-12 18:30:00</td>\n",
       "      <td>262933</td>\n",
       "      <td>1.0</td>\n",
       "      <td>75.0</td>\n",
       "      <td>WATER EVIAN</td>\n",
       "      <td>0.0</td>\n",
       "      <td>75.0</td>\n",
       "      <td>Drinks</td>\n",
       "      <td>1408</td>\n",
       "      <td>Water</td>\n",
       "    </tr>\n",
       "    <tr>\n",
       "      <th>1409</th>\n",
       "      <td>173</td>\n",
       "      <td>2017-05-12 18:32:00</td>\n",
       "      <td>262933</td>\n",
       "      <td>1.0</td>\n",
       "      <td>75.0</td>\n",
       "      <td>WATER EVIAN</td>\n",
       "      <td>0.0</td>\n",
       "      <td>75.0</td>\n",
       "      <td>Drinks</td>\n",
       "      <td>1409</td>\n",
       "      <td>Water</td>\n",
       "    </tr>\n",
       "    <tr>\n",
       "      <th>1721</th>\n",
       "      <td>214</td>\n",
       "      <td>2017-07-12 17:13:00</td>\n",
       "      <td>262932</td>\n",
       "      <td>1.0</td>\n",
       "      <td>75.0</td>\n",
       "      <td>VOLVIC WATER</td>\n",
       "      <td>0.0</td>\n",
       "      <td>75.0</td>\n",
       "      <td>Drinks</td>\n",
       "      <td>1721</td>\n",
       "      <td>Water</td>\n",
       "    </tr>\n",
       "  </tbody>\n",
       "</table>\n",
       "</div>"
      ],
      "text/plain": [
       "      INVOICE_NO        INVOICE_DATE  PRODUCT_NUMBER  QUANTITY_SOLD  \\\n",
       "15             4 2017-01-12 13:27:00          262933            1.0   \n",
       "1399         170 2017-05-12 18:10:00          262933            1.0   \n",
       "1408         172 2017-05-12 18:30:00          262933            1.0   \n",
       "1409         173 2017-05-12 18:32:00          262933            1.0   \n",
       "1721         214 2017-07-12 17:13:00          262932            1.0   \n",
       "\n",
       "      PRICE_SOLD  PRODUCT_NAME  COST  RETAIL_PRICE CATEGORY    ID Subcategory  \n",
       "15          75.0  WATER EVIAN    0.0          75.0   Drinks    15       Water  \n",
       "1399        75.0  WATER EVIAN    0.0          75.0   Drinks  1399       Water  \n",
       "1408        75.0  WATER EVIAN    0.0          75.0   Drinks  1408       Water  \n",
       "1409        75.0  WATER EVIAN    0.0          75.0   Drinks  1409       Water  \n",
       "1721        75.0  VOLVIC WATER   0.0          75.0   Drinks  1721       Water  "
      ]
     },
     "execution_count": 99,
     "metadata": {},
     "output_type": "execute_result"
    }
   ],
   "source": [
    "water['Subcategory'] = 'Water'\n",
    "water.head()"
   ]
  },
  {
   "cell_type": "code",
   "execution_count": 100,
   "metadata": {},
   "outputs": [
    {
     "data": {
      "text/plain": [
       "(673, 11)"
      ]
     },
     "execution_count": 100,
     "metadata": {},
     "output_type": "execute_result"
    }
   ],
   "source": [
    "water.shape"
   ]
  },
  {
   "cell_type": "code",
   "execution_count": 101,
   "metadata": {},
   "outputs": [
    {
     "data": {
      "text/plain": [
       "INVOICE_NO        0\n",
       "INVOICE_DATE      0\n",
       "PRODUCT_NUMBER    0\n",
       "QUANTITY_SOLD     0\n",
       "PRICE_SOLD        0\n",
       "PRODUCT_NAME      0\n",
       "COST              0\n",
       "RETAIL_PRICE      0\n",
       "CATEGORY          0\n",
       "ID                0\n",
       "Subcategory       0\n",
       "dtype: int64"
      ]
     },
     "execution_count": 101,
     "metadata": {},
     "output_type": "execute_result"
    }
   ],
   "source": [
    "water.isna().sum()"
   ]
  },
  {
   "cell_type": "markdown",
   "metadata": {},
   "source": [
    "### Blended subcategory"
   ]
  },
  {
   "cell_type": "code",
   "execution_count": 102,
   "metadata": {},
   "outputs": [
    {
     "data": {
      "text/plain": [
       "array(['Caramel Cream Blended (S)', 'Vanilla Cream Blended (R)',\n",
       "       'Matcha Green Blended (L)', 'Vanilla Cream Blended (S)',\n",
       "       'Vanilla Cream Blended (L)', 'Matcha Green Blended (S)',\n",
       "       'Matcha Green Blended (R)', 'Caramel Cream Blended (R)',\n",
       "       'Toasted Coconut Caramel Blended (L)',\n",
       "       'Toasted Coconut Caramel Blended (S)',\n",
       "       'Toasted Coconut Caramel Blended (R)', 'Caramel Cream Blended (L)'],\n",
       "      dtype=object)"
      ]
     },
     "execution_count": 102,
     "metadata": {},
     "output_type": "execute_result"
    }
   ],
   "source": [
    "blended = drinks[drinks['PRODUCT_NAME'].str.contains(\"Blended\", na=False)]\n",
    "\n",
    "#make sure coffee isnt there\n",
    "blended = blended[~blended['PRODUCT_NAME'].str.contains(\"CAFE|Kenya|Americano|Macchiato|FLAT|Doppio|Colombia|Cappuccino|macchiato|Lintong|Espresso|Flat|SINGLE ORIGIN|Guatemala|Peaberry|Benguet|Coffee|Latte|Cafe|brew|Atok|ETHIOPIA|SITIO|BENGUET|ATOK|KENYA|Ampucao|El Salvador\", na=False)]\n",
    "blended = blended[~blended['PRODUCT_NAME'].str.contains(\"Tea|Herbs|TEA|tea|Roselle|HERBS|LEMONGRASS|Dried|dried|Flavor|PANDAN|GUYABANO|HIBISCUS|Oolong\", na=False)]\n",
    "blended = blended[~blended['PRODUCT_NAME'].str.contains(\"Lola|Traditional|Smooth|Velvety|Milky|Mocha|Smoked|Chocolate|Cacao|cacao\", na=False)]\n",
    "\n",
    "blended['PRODUCT_NAME'].unique()"
   ]
  },
  {
   "cell_type": "code",
   "execution_count": 104,
   "metadata": {},
   "outputs": [
    {
     "data": {
      "text/plain": [
       "(1719, 10)"
      ]
     },
     "execution_count": 104,
     "metadata": {},
     "output_type": "execute_result"
    }
   ],
   "source": [
    "blended.shape"
   ]
  },
  {
   "cell_type": "code",
   "execution_count": 105,
   "metadata": {},
   "outputs": [
    {
     "data": {
      "text/plain": [
       "INVOICE_NO        0\n",
       "INVOICE_DATE      0\n",
       "PRODUCT_NUMBER    0\n",
       "QUANTITY_SOLD     0\n",
       "PRICE_SOLD        0\n",
       "PRODUCT_NAME      0\n",
       "COST              0\n",
       "RETAIL_PRICE      0\n",
       "CATEGORY          0\n",
       "ID                0\n",
       "dtype: int64"
      ]
     },
     "execution_count": 105,
     "metadata": {},
     "output_type": "execute_result"
    }
   ],
   "source": [
    "blended.isna().sum()"
   ]
  },
  {
   "cell_type": "markdown",
   "metadata": {},
   "source": [
    "### Now, we can concatenate"
   ]
  },
  {
   "cell_type": "code",
   "execution_count": 125,
   "metadata": {},
   "outputs": [
    {
     "data": {
      "text/plain": [
       "(37388, 11)"
      ]
     },
     "execution_count": 125,
     "metadata": {},
     "output_type": "execute_result"
    }
   ],
   "source": [
    "frames = [cacao, coffee, tea, water, blended]\n",
    "\n",
    "drinks = pd.concat(frames).reset_index(drop=True)\n",
    "drinks.shape"
   ]
  },
  {
   "cell_type": "markdown",
   "metadata": {},
   "source": [
    "### We will also join drinks and food into one dataframe"
   ]
  },
  {
   "cell_type": "code",
   "execution_count": 127,
   "metadata": {},
   "outputs": [
    {
     "data": {
      "text/plain": [
       "(52704, 11)"
      ]
     },
     "execution_count": 127,
     "metadata": {},
     "output_type": "execute_result"
    }
   ],
   "source": [
    "frames = [drinks, food]\n",
    "\n",
    "\n",
    "sales = pd.concat(frames)\n",
    "sales.shape"
   ]
  },
  {
   "cell_type": "markdown",
   "metadata": {},
   "source": [
    "# Base price feature\n",
    "\n",
    "To get the base price, we need to multiply the quantity and price. Some quantities say 2 instead of 1, but the PRICE_SOLD is only for the individual price. So using PRICE_SOLD will not help us get the actual paid amount."
   ]
  },
  {
   "cell_type": "code",
   "execution_count": 128,
   "metadata": {},
   "outputs": [],
   "source": [
    "sales['base_price'] = sales['QUANTITY_SOLD']*sales['PRICE_SOLD']"
   ]
  },
  {
   "cell_type": "code",
   "execution_count": 129,
   "metadata": {},
   "outputs": [
    {
     "name": "stdout",
     "output_type": "stream",
     "text": [
      "<class 'pandas.core.frame.DataFrame'>\n",
      "Int64Index: 52704 entries, 0 to 259278\n",
      "Data columns (total 11 columns):\n",
      " #   Column          Non-Null Count  Dtype         \n",
      "---  ------          --------------  -----         \n",
      " 0   INVOICE_NO      52704 non-null  int64         \n",
      " 1   INVOICE_DATE    52704 non-null  datetime64[ns]\n",
      " 2   PRODUCT_NUMBER  52704 non-null  int64         \n",
      " 3   QUANTITY_SOLD   52704 non-null  float64       \n",
      " 4   PRODUCT_NAME    52704 non-null  object        \n",
      " 5   COST            52704 non-null  float64       \n",
      " 6   RETAIL_PRICE    52704 non-null  float64       \n",
      " 7   CATEGORY        52704 non-null  object        \n",
      " 8   ID              52704 non-null  int64         \n",
      " 9   Subcategory     50985 non-null  object        \n",
      " 10  base_price      52704 non-null  float64       \n",
      "dtypes: datetime64[ns](1), float64(4), int64(3), object(3)\n",
      "memory usage: 4.8+ MB\n"
     ]
    }
   ],
   "source": [
    "columns = ['PRICE_SOLD']\n",
    "\n",
    "sales.drop(columns, axis=1, inplace = True)\n",
    "sales.info()"
   ]
  },
  {
   "cell_type": "markdown",
   "metadata": {},
   "source": [
    "To find the Profit, we need to subtract the base price with the cost. However, the cost column has 0 values. To fill these values, we need to merge the costing dataframe to the main sales dataframe."
   ]
  },
  {
   "cell_type": "markdown",
   "metadata": {},
   "source": [
    "I used Excel's Power query to remove duplicate columns and concatenate `Product Name` and `Size` since the transaction data set has the price included in the `PRODUCT_NAME.` I did this because different sizes have different prices, and to avoid Nans during fuzzy merging."
   ]
  },
  {
   "cell_type": "code",
   "execution_count": 161,
   "metadata": {},
   "outputs": [],
   "source": [
    "cost = pd.read_csv('data/costing_powerquery.csv')"
   ]
  },
  {
   "cell_type": "code",
   "execution_count": 162,
   "metadata": {},
   "outputs": [],
   "source": [
    "cost = cost.iloc[:,:-2]"
   ]
  },
  {
   "cell_type": "code",
   "execution_count": 163,
   "metadata": {},
   "outputs": [
    {
     "data": {
      "text/html": [
       "<div>\n",
       "<style scoped>\n",
       "    .dataframe tbody tr th:only-of-type {\n",
       "        vertical-align: middle;\n",
       "    }\n",
       "\n",
       "    .dataframe tbody tr th {\n",
       "        vertical-align: top;\n",
       "    }\n",
       "\n",
       "    .dataframe thead th {\n",
       "        text-align: right;\n",
       "    }\n",
       "</style>\n",
       "<table border=\"1\" class=\"dataframe\">\n",
       "  <thead>\n",
       "    <tr style=\"text-align: right;\">\n",
       "      <th></th>\n",
       "      <th>Drinks/Food</th>\n",
       "      <th>Hot/Cold</th>\n",
       "      <th>Category</th>\n",
       "      <th>Item code</th>\n",
       "      <th>Product Name</th>\n",
       "      <th>PRODUCT_NAME</th>\n",
       "      <th>Size</th>\n",
       "      <th>Cost Price</th>\n",
       "    </tr>\n",
       "  </thead>\n",
       "  <tbody>\n",
       "    <tr>\n",
       "      <th>0</th>\n",
       "      <td>Food</td>\n",
       "      <td>Cold</td>\n",
       "      <td>Cake</td>\n",
       "      <td>CK-CAK-TCC0092</td>\n",
       "      <td>9\" Tiramisu Cheesecake per slice</td>\n",
       "      <td>9\" Tiramisu Cheesecake per slice (R)</td>\n",
       "      <td>Regular</td>\n",
       "      <td>112.5</td>\n",
       "    </tr>\n",
       "    <tr>\n",
       "      <th>1</th>\n",
       "      <td>Food</td>\n",
       "      <td>Cold</td>\n",
       "      <td>Cake</td>\n",
       "      <td>CK-CAK-NEW0092</td>\n",
       "      <td>9\" New York Cheese Cake Slice</td>\n",
       "      <td>9\" New York Cheese Cake Slice (R)</td>\n",
       "      <td>Regular</td>\n",
       "      <td>102.08</td>\n",
       "    </tr>\n",
       "    <tr>\n",
       "      <th>2</th>\n",
       "      <td>Food</td>\n",
       "      <td>Cold</td>\n",
       "      <td>Cake</td>\n",
       "      <td>CK-CAK-BBS0095</td>\n",
       "      <td>9\" BLUEBERRY SWIRL CHEESECAKE SLICE</td>\n",
       "      <td>9\" BLUEBERRY SWIRL CHEESECAKE SLICE (R)</td>\n",
       "      <td>Regular</td>\n",
       "      <td>95.83</td>\n",
       "    </tr>\n",
       "    <tr>\n",
       "      <th>3</th>\n",
       "      <td>Food</td>\n",
       "      <td>Cold</td>\n",
       "      <td>Cake</td>\n",
       "      <td>CK-CAK-SCC0001</td>\n",
       "      <td>Salted Caramel Cheesecake</td>\n",
       "      <td>Salted Caramel Cheesecake (R)</td>\n",
       "      <td>Regular</td>\n",
       "      <td>102.08</td>\n",
       "    </tr>\n",
       "    <tr>\n",
       "      <th>4</th>\n",
       "      <td>Food</td>\n",
       "      <td>Cold</td>\n",
       "      <td>Cake</td>\n",
       "      <td>CK-CAK--DDL0001</td>\n",
       "      <td>Dulce De Leche Cake Slice</td>\n",
       "      <td>Dulce De Leche Cake Slice (R)</td>\n",
       "      <td>Regular</td>\n",
       "      <td>55</td>\n",
       "    </tr>\n",
       "  </tbody>\n",
       "</table>\n",
       "</div>"
      ],
      "text/plain": [
       "  Drinks/Food Hot/Cold Category        Item code  \\\n",
       "0        Food     Cold     Cake   CK-CAK-TCC0092   \n",
       "1        Food     Cold     Cake   CK-CAK-NEW0092   \n",
       "2        Food     Cold     Cake   CK-CAK-BBS0095   \n",
       "3        Food     Cold     Cake   CK-CAK-SCC0001   \n",
       "4        Food     Cold     Cake  CK-CAK--DDL0001   \n",
       "\n",
       "                          Product Name  \\\n",
       "0     9\" Tiramisu Cheesecake per slice   \n",
       "1        9\" New York Cheese Cake Slice   \n",
       "2  9\" BLUEBERRY SWIRL CHEESECAKE SLICE   \n",
       "3            Salted Caramel Cheesecake   \n",
       "4            Dulce De Leche Cake Slice   \n",
       "\n",
       "                              PRODUCT_NAME     Size  Cost Price   \n",
       "0     9\" Tiramisu Cheesecake per slice (R)  Regular        112.5  \n",
       "1        9\" New York Cheese Cake Slice (R)  Regular       102.08  \n",
       "2  9\" BLUEBERRY SWIRL CHEESECAKE SLICE (R)  Regular        95.83  \n",
       "3            Salted Caramel Cheesecake (R)  Regular       102.08  \n",
       "4            Dulce De Leche Cake Slice (R)  Regular           55  "
      ]
     },
     "execution_count": 163,
     "metadata": {},
     "output_type": "execute_result"
    }
   ],
   "source": [
    "cost.head()"
   ]
  },
  {
   "cell_type": "code",
   "execution_count": 164,
   "metadata": {},
   "outputs": [
    {
     "data": {
      "text/plain": [
       "Index(['Drinks/Food', 'Hot/Cold', 'Category', 'Item code', 'Product Name',\n",
       "       'PRODUCT_NAME', 'Size', ' Cost Price '],\n",
       "      dtype='object')"
      ]
     },
     "execution_count": 164,
     "metadata": {},
     "output_type": "execute_result"
    }
   ],
   "source": [
    "cost.columns"
   ]
  },
  {
   "cell_type": "code",
   "execution_count": 165,
   "metadata": {},
   "outputs": [
    {
     "data": {
      "text/html": [
       "<div>\n",
       "<style scoped>\n",
       "    .dataframe tbody tr th:only-of-type {\n",
       "        vertical-align: middle;\n",
       "    }\n",
       "\n",
       "    .dataframe tbody tr th {\n",
       "        vertical-align: top;\n",
       "    }\n",
       "\n",
       "    .dataframe thead th {\n",
       "        text-align: right;\n",
       "    }\n",
       "</style>\n",
       "<table border=\"1\" class=\"dataframe\">\n",
       "  <thead>\n",
       "    <tr style=\"text-align: right;\">\n",
       "      <th></th>\n",
       "      <th>PRODUCT_NAME</th>\n",
       "      <th>Cost Price</th>\n",
       "    </tr>\n",
       "  </thead>\n",
       "  <tbody>\n",
       "    <tr>\n",
       "      <th>0</th>\n",
       "      <td>9\" Tiramisu Cheesecake per slice (R)</td>\n",
       "      <td>112.5</td>\n",
       "    </tr>\n",
       "    <tr>\n",
       "      <th>1</th>\n",
       "      <td>9\" New York Cheese Cake Slice (R)</td>\n",
       "      <td>102.08</td>\n",
       "    </tr>\n",
       "    <tr>\n",
       "      <th>2</th>\n",
       "      <td>9\" BLUEBERRY SWIRL CHEESECAKE SLICE (R)</td>\n",
       "      <td>95.83</td>\n",
       "    </tr>\n",
       "    <tr>\n",
       "      <th>3</th>\n",
       "      <td>Salted Caramel Cheesecake (R)</td>\n",
       "      <td>102.08</td>\n",
       "    </tr>\n",
       "    <tr>\n",
       "      <th>4</th>\n",
       "      <td>Dulce De Leche Cake Slice (R)</td>\n",
       "      <td>55</td>\n",
       "    </tr>\n",
       "    <tr>\n",
       "      <th>...</th>\n",
       "      <td>...</td>\n",
       "      <td>...</td>\n",
       "    </tr>\n",
       "    <tr>\n",
       "      <th>135</th>\n",
       "      <td>Pasta Maria Ana (R)</td>\n",
       "      <td>49</td>\n",
       "    </tr>\n",
       "    <tr>\n",
       "      <th>136</th>\n",
       "      <td>Chicken Fajitas (R)</td>\n",
       "      <td>53</td>\n",
       "    </tr>\n",
       "    <tr>\n",
       "      <th>137</th>\n",
       "      <td>Pesto fusilli (R)</td>\n",
       "      <td>59</td>\n",
       "    </tr>\n",
       "    <tr>\n",
       "      <th>138</th>\n",
       "      <td>Beef Fajitas (R)</td>\n",
       "      <td>68</td>\n",
       "    </tr>\n",
       "    <tr>\n",
       "      <th>139</th>\n",
       "      <td>3 Mushroom melt (R)</td>\n",
       "      <td>70</td>\n",
       "    </tr>\n",
       "  </tbody>\n",
       "</table>\n",
       "<p>140 rows × 2 columns</p>\n",
       "</div>"
      ],
      "text/plain": [
       "                                PRODUCT_NAME  Cost Price \n",
       "0       9\" Tiramisu Cheesecake per slice (R)        112.5\n",
       "1          9\" New York Cheese Cake Slice (R)       102.08\n",
       "2    9\" BLUEBERRY SWIRL CHEESECAKE SLICE (R)        95.83\n",
       "3              Salted Caramel Cheesecake (R)       102.08\n",
       "4              Dulce De Leche Cake Slice (R)           55\n",
       "..                                       ...          ...\n",
       "135                      Pasta Maria Ana (R)           49\n",
       "136                      Chicken Fajitas (R)           53\n",
       "137                        Pesto fusilli (R)           59\n",
       "138                         Beef Fajitas (R)           68\n",
       "139                      3 Mushroom melt (R)           70\n",
       "\n",
       "[140 rows x 2 columns]"
      ]
     },
     "execution_count": 165,
     "metadata": {},
     "output_type": "execute_result"
    }
   ],
   "source": [
    "columns = ['Drinks/Food', 'Hot/Cold','Category', 'Item code', 'Product Name','Size']\n",
    "\n",
    "cost.drop(columns, axis=1, inplace = True)\n",
    "cost"
   ]
  },
  {
   "cell_type": "markdown",
   "metadata": {},
   "source": [
    "### We have a problem. No column values match exactly for both dataframes. So we need to use the Levenstein Distance.\n",
    "\n",
    "### Luckily, there is a library built for it: Fuzzywuzzy\n",
    "\n"
   ]
  },
  {
   "cell_type": "markdown",
   "metadata": {},
   "source": [
    "Let us import fuzzywuzzy, and define the function."
   ]
  },
  {
   "cell_type": "code",
   "execution_count": 166,
   "metadata": {},
   "outputs": [],
   "source": [
    "from fuzzywuzzy import fuzz\n",
    "from fuzzywuzzy import process\n",
    "\n",
    "def create_match_dictionary(df_1, df_2, key1, key2, threshold=80):\n",
    "  # Get unique tokens from each df\n",
    "  df_1_tokens = df_1[key1].unique().tolist()\n",
    "  df_2_tokens = df_2[key2].unique().tolist()\n",
    "\n",
    "  # Dictionary to store results\n",
    "  result = {}\n",
    "\n",
    "  for token in df_1_tokens:\n",
    "    # Using this other scorer seems to get better results.\n",
    "    closest_word = process.extract(token, df_2_tokens, limit=1, scorer=fuzz.token_sort_ratio)\n",
    "    \n",
    "    # print(closest_word) # Show what result we get from process.extract.\n",
    "\n",
    "    if closest_word[0][1] > threshold:\n",
    "      result[token] = closest_word[0][0]\n",
    "    else:\n",
    "      result[token] = \"\"\n",
    "\n",
    "  return result"
   ]
  },
  {
   "cell_type": "markdown",
   "metadata": {},
   "source": [
    "### Let's make a dictionary"
   ]
  },
  {
   "cell_type": "code",
   "execution_count": 167,
   "metadata": {},
   "outputs": [
    {
     "data": {
      "text/plain": [
       "{'Iced Cafe Mocha (R)': 'Iced café mocha (R)',\n",
       " 'Cafe Mocha (R)': 'Iced café mocha (R)',\n",
       " 'Mocha Blended (R)': 'Ice blended Mocha (R)',\n",
       " 'Traditional Lola': \"Traditional Lola's recipe (L)\",\n",
       " \"Traditional Lola's Recipe\": \"Traditional Lola's recipe (L)\",\n",
       " 'Cafe Mocha (S)': 'Iced café mocha (R)',\n",
       " 'Smooth And Milky Hot ( s )': 'Smooth and milky (S)',\n",
       " 'Smooth And Milky Hot ( d )': 'Smooth and milky (D)',\n",
       " 'Smoked And Dark Blended Chocolate( L )': 'Ice blended White chocolate mocha (L)',\n",
       " 'Mocha Blended (S)': 'Ice blended Mocha (S)',\n",
       " 'Mocha Blended (L)': 'Ice blended Mocha (L)',\n",
       " 'Smoked And Dark Iced ( R )': 'Smoked and dark (R)',\n",
       " 'Velvety And Fruity Hot ( d )': 'Velvety and fruity (T)',\n",
       " 'Iced Cafe Mocha (S)': 'Iced café mocha (R)',\n",
       " 'Smoked and Dark Hot ( s )': 'Smoked and dark (S)',\n",
       " 'Smooth And Milky Iced ( R )': 'Smooth and milky (R)',\n",
       " 'Smooth And Milky Blended Chocolate ( R )': 'Ice blended White chocolate mocha (L)',\n",
       " 'Smoked And Dark Blended Chocolate( R )': 'Ice blended White chocolate mocha (R)',\n",
       " 'Iced Cafe Mocha (L)': 'Iced café mocha (L)',\n",
       " 'Smooth And Milky Blended Chocolate ( L )': 'Ice blended White chocolate mocha (L)',\n",
       " \"Traditional Lola's recipe\": \"Traditional Lola's recipe (L)\",\n",
       " 'Smoked And Dark Iced ( L )': 'Smoked and dark (L)',\n",
       " 'White Chocolate MochaBlended (R)': 'Ice blended White chocolate mocha (R)',\n",
       " 'White Chocolate Mocha Blended (S)': 'Ice blended White chocolate mocha (S)',\n",
       " 'Velvety And Fruity Hot ( s )': 'Velvety and fruity (T)',\n",
       " 'Velvety And fruity Blended Chocolate( R )': 'Velvety and fruity (R)',\n",
       " 'Cafe Mocha (L)': 'Iced café mocha (L)',\n",
       " 'Smooth And Milky Iced ( L )': 'Smooth and milky (L)',\n",
       " 'Velvety And fruity Iced ( R )': 'Velvety and fruity (R)',\n",
       " 'White Chocolate Mocha Blended (L)': 'Ice blended White chocolate mocha (L)',\n",
       " 'Smoked and Dark Hot ( d )': 'Smoked and dark (D)',\n",
       " 'Smoked and Dark Hot ( t )': 'Smoked and dark (T)',\n",
       " 'Velvety And Fruity Hot ( t )': 'Velvety and fruity (T)',\n",
       " ' Velvety And fruity Iced ( L )': 'Velvety and fruity (L)',\n",
       " 'Smooth And Milky Hot ( t )': 'Smooth and milky (T)',\n",
       " 'Cookies Cacao & Cream ice blended (R)': 'Ice blended Caramel (R)',\n",
       " 'Promo Cacao Ice blended (R)': 'Ice blended Caramel (R)',\n",
       " 'Cacao Ice Blended (R)': 'Ice blended Caramel (R)',\n",
       " 'Cacao Ice Blended (L)': 'Ice blended Caramel (L)',\n",
       " 'Promo Cookies Cacao & Cream ice blended (R)': 'Ice blended Caramel (R)',\n",
       " 'Cookies Cacao & Cream ice blended (L)': 'Ice blended Caramel (L)',\n",
       " 'Atok Benguet ( R )': 'Atok Benguet Honey Coffee beans 250g (R)',\n",
       " 'Cold brew Coffee Vanilla (R)': 'Cold brew vanilla (R)',\n",
       " 'Caramel Coffee  Blended(S)': 'Ice blended Caramel (S)',\n",
       " 'Latte (R)': 'Hot Latte (R)',\n",
       " 'Caramel Macchiato (R)': 'Hot Caramel Macchiato (R)',\n",
       " 'Americano (S)': 'Hot Americano (S)',\n",
       " 'Cold brew Coffee Black (R)': 'Cold  brew black (R)',\n",
       " 'Americano (R)': 'Hot Americano (R)',\n",
       " 'Iced Latte (R)': 'Iced latte (R)',\n",
       " 'Kenya ( R )': '',\n",
       " 'Peaberry ( R )': 'Earl gray (T)',\n",
       " 'Atokape Oliver ( R )': '',\n",
       " 'Iced Caramel macchiato (R)': 'Iced caramel machiatto (R)',\n",
       " 'Latte (S)': 'Hot Latte (S)',\n",
       " 'Iced Caramel macchiato (L)': 'Iced caramel machiatto (L)',\n",
       " 'Cappuccino (M)': 'Hot Capuccino (S)',\n",
       " 'Tuba Benguet ( R )': 'Tuba Benguet Washed Coffee Beans 250g (R)',\n",
       " 'Colombia ( R )': 'Colombia Coffee Beans 250g (R)',\n",
       " 'Cappuccino (R)': 'Hot Capuccino (S)',\n",
       " 'caramel Macchiato (L)': 'Hot Caramel Macchiato (L)',\n",
       " 'Cold Brew Coffee White (R)': 'Cold  brew white (R)',\n",
       " 'Caramel Macchiato (S)': 'Hot Caramel Macchiato (S)',\n",
       " 'Guatemala ( R )': 'Matcha green (R)',\n",
       " 'Latte (L)': 'Hot Latte (L)',\n",
       " 'Iced Caramel macchiato (S)': 'Iced caramel machiatto (R)',\n",
       " 'Lintong ( R )': '',\n",
       " 'Iced Americano (R)': 'Iced americano  (R)',\n",
       " 'Espresso (Doppio)': 'Hot Espresso (D)',\n",
       " 'Flat White ( R )': 'Hot flat white (D)',\n",
       " 'El Salvador ( R )': 'El Salvador Coffee Beans 250g (R)',\n",
       " 'Ampucao ( R )': 'Hot Americano (R)',\n",
       " 'Iced Latte (S)': 'Iced latte (R)',\n",
       " 'Matcha Green Tea Latte ( L )': 'Matcha green (L)',\n",
       " 'Chai Vanilla Tea Latte ( R )': 'Cold brew vanilla (R)',\n",
       " 'Matcha Green Tea Latte ( S )': 'Matcha green (S)',\n",
       " 'Americano (L)': 'Hot Americano (L)',\n",
       " 'Espresso (Solo)': 'Hot Espresso (D)',\n",
       " 'Matcha Green Tea Latte ( R )': 'Matcha green (R)',\n",
       " 'Caramel Coffee Blended (L)': 'Ice blended Caramel (L)',\n",
       " 'Chai Vanilla Tea Latte ( L )': 'Ice blended Vanilla cream (L)',\n",
       " 'Iced Latte (L)': 'Iced latte (L)',\n",
       " 'Caramel Coffee  Blended (R)': 'Ice blended Caramel (R)',\n",
       " 'Chai Vanilla Tea Latte ( S )': 'Ice blended Vanilla cream (S)',\n",
       " 'SINGLE ORIGIN GUATEMALA 250G': 'Guatemala Coffee Beans 250g (R)',\n",
       " 'Iced Americano (L)': 'Iced americano  (L)',\n",
       " 'Iced Americano (S)': 'Iced americano  (R)',\n",
       " 'SINGLE ORIGIN AMPUCAO 250G': 'Ampucao Coffee Beans 250g (R)',\n",
       " 'SINGLE ORIGIN LINTONG 250G': 'Lintong Coffee Beans 250g (R)',\n",
       " 'Cold Brew Coffee Black 350 ml (Guatemala)': 'Guatemala Coffee Beans 250g (R)',\n",
       " 'ICED CAFE MATCHA (R)': 'iced café matcha (R)',\n",
       " 'ATOK HONEY BENGUET (R)': 'Atok Benguet Honey Coffee beans 250g (R)',\n",
       " 'Cold Brew Coffee White W/ Vanilla 350 ml (Guatemala)': 'Guatemala Coffee Beans 250g (R)',\n",
       " 'SINGLE ORIGIN ATOK HONEY BENGUET 250': 'Atok Benguet Honey Coffee beans 250g (R)',\n",
       " 'ETHIOPIA SIDAMO (R)': '',\n",
       " 'Irish Tea Latte ( R )': 'Hot Latte (R)',\n",
       " 'SINGLE ORIGIN COLOMBIA 250G': 'Hot Cafe Mocha with Single-Origin Chocolate (S)',\n",
       " 'SINGLE ORIGIN ATOKAPE OLIVER 250G': 'Hot Cafe Mocha with Single-Origin Chocolate (L)',\n",
       " 'SINGLE ORIGIN EL SALVADOR 250G': 'El Salvador Coffee Beans 250g (R)',\n",
       " 'SINGLE ORIGIN PEABERRY 250G': 'Peaberry Coffee Beans 250g (R)',\n",
       " 'ICED CAFE MATCHA (L)': 'iced café matcha (L)',\n",
       " 'SINGLE ORIGIN KENYA 250G': 'Lintong Coffee Beans 250g (R)',\n",
       " 'SINGLE ORIGIN TUBA BENGUET 250G': 'Tuba Benguet Washed Coffee Beans 250g (R)',\n",
       " 'Irish Tea Latte ( S )': 'Hot Latte (S)',\n",
       " 'Cold Brew Coffee White W/ Caramel 350 ml (Guatemala)': 'Guatemala Coffee Beans 250g (R)',\n",
       " 'Irish Tea Latte ( L )': 'Hot Latte (L)',\n",
       " 'SITIO BELIS PEABERRY (R)': 'Pigtauranan / Sitio Belis Peaberry Beans 250g (R)',\n",
       " 'SITIO NAGUEY PEABERRY (R)': 'Pigtauranan / Sitio Belis Peaberry Beans 250g (R)',\n",
       " 'SITIO SABLAN (R)': 'Sablan / Sitio Naguey Beans 250g (R)',\n",
       " 'Iced Caramel Latte Promo': 'Iced caramel machiatto (R)',\n",
       " 'Iced Flavor Fresh Herbs Pandan continental flavor': '',\n",
       " 'Iced Flavor Fresh Herbs Basil continental flavor': '',\n",
       " 'Original Flavor ( 120 ml )': '',\n",
       " 'Iced Plain Fresh Herbs Pandan': 'Health tea Pandan (F)',\n",
       " 'Iced Plain Premium Dried Oolong': '',\n",
       " 'Green Tea Hot ( SINGLE )': 'Green tea (T)',\n",
       " ' Black Tea Oolong Hot ( SINGLE )': 'Hot Cafe Mocha with Single-Origin Chocolate (S)',\n",
       " 'Green Tea Genmaicha Hot ( SINGLE )': 'Health tea Green tea (F)',\n",
       " 'Iced Plain Fresh Herbs Lemongrass': 'Health tea Lemongrass (F)',\n",
       " 'Iced Flavor Fresh Herbs Lemongrass': 'Health tea Lemongrass (F)',\n",
       " 'Iced Plain Premium Dried Green Tea ': 'Ice blended Matcha green (L)',\n",
       " 'Fruit Flavored ( 120 ml )': '',\n",
       " 'Herbal Tea Goji Berry Hot ( SINGLE )': 'Health tea Green tea (F)',\n",
       " 'Iced Plain Fresh Herbs Basil': 'Health tea Basil (F)',\n",
       " 'Iced Plain Premium Dried Red Tea': '',\n",
       " 'Iced Flavor Premium Dried Oolong continental flavor': '',\n",
       " 'Green Tea Genmaicha Hot ( TEA POT )': 'Health tea Green tea (F)',\n",
       " 'Iced Flavor Premium Dried Green Tea continental flavor': '',\n",
       " 'Herbal Tea Chrysanthemum Hot ( SINGLE )': 'Crysanthemum (T)',\n",
       " 'Herbal Tea Chamomile Hot (TEA POT )': 'Health tea Green tea (R)',\n",
       " 'Herbal Tea Chamomile Hot (SINGLE )': 'Health tea Basil (R)',\n",
       " 'Iced Flavor Premium Dried Red Tea continental flavor': '',\n",
       " 'Herbal Tea Chrysanthemum Hot ( TEA POT )': 'Health tea Green tea (R)',\n",
       " 'Black Tea Pu-erh Hot ( SINGLE )': 'Dark Tablea Chocolate Cake Slice (R)',\n",
       " 'Fruit Flavored ( 200 ml )': '',\n",
       " 'Green Tea Hot ( TEA POT )': 'Health tea Green tea (R)',\n",
       " 'Green Tea Jasmine Hot( SINGLE )': 'Health tea Green tea (R)',\n",
       " 'Herbal Tea Mint Hot ( SINGLE )': 'Hot Cafe Mocha with Single-Origin Chocolate (S)',\n",
       " 'Herbal Tea Mint Hot ( TEA POT )': 'Health tea Green tea (R)',\n",
       " 'Black Tea Earl Grey Hot ( SINGLE )': 'Cold  brew black (R)',\n",
       " 'Black Tea Chai Hot ( TEA POT )': 'Health tea Green tea (R)',\n",
       " 'Green Tea Moroccan hot ( TEA POT )': 'Health tea Green tea (R)',\n",
       " 'Green Tea Moroccan Hot ( SINGLE )': 'Health tea Green tea (R)',\n",
       " ' GINGER PEACH BLENDED BLACK TEA HOT (SINGLE)': 'Ice blended Mocha (S)',\n",
       " ' Black Tea  Oolong Hot ( TEA POT )': 'Health tea Lemongrass (F)',\n",
       " 'PANDAN GUYABANO W/ CHIA SEEDS 500ml': '',\n",
       " 'Iced Flavor Fresh Herbs Lemongrass Tropical  flavor': '',\n",
       " 'LEMONGRASS MANGO 500ml': 'Health tea Lemongrass (F)',\n",
       " 'LEMONGRASS HIBISCUS 500ml': 'Health tea Lemongrass (F)',\n",
       " 'GINGER PEACH BLENDED BLACK TEA HOT (TEA POT)': 'Health tea Green tea (F)',\n",
       " 'Iced Flavor Premium Dried Green Tea Tropical Flavor': '',\n",
       " 'Green Tea Cold Brew 500ml': 'Cold  brew white (R)',\n",
       " 'BLACK MANGO BLENDED BLACK TEA (TEA POT)': '',\n",
       " 'Oolong Cold Brew  500ml': 'Cold  brew black (R)',\n",
       " 'Green Tea Roselle (Single)': 'Green tea (S)',\n",
       " 'Black Tea Earl Grey Hot ( TEA POT )': 'Health tea Green tea (F)',\n",
       " 'Iced Flavor Fresh Herbs Pandan  Tropical  flavor': '',\n",
       " 'Peach Tea (Tea pot)': 'Health tea Green tea (R)',\n",
       " 'BLACK MANGO BLENDED BLACK TEA (SINGLE)': '',\n",
       " 'Green Tea Jasmine  Hot ( TEA POT )': 'Health tea Green tea (F)',\n",
       " 'Green Tea Roselle (TEA POT)': 'Health tea Green tea (R)',\n",
       " 'BASIL HIBISCUS 500ml': '',\n",
       " 'Iced Flavor Premium Dried Red Tea  Tropical flavor': '',\n",
       " 'Roselle Tea Hot (TEAPOT)': 'Green tea (T)',\n",
       " '20g Jasmine Tea retail pack': 'Health tea Basil (F)',\n",
       " '10g Roselle retail pack': '',\n",
       " 'Rose Tea (Tea pot)': 'Green tea (T)',\n",
       " 'Iced Flavor Premium Dried Oolong Tropical flavor': '',\n",
       " 'Roselle Tea Hot (SINGLE)': 'Hot Latte (L)',\n",
       " 'GREEN TEA COCONUT HOT TEA(TEAPOT)': 'Health tea Green tea (F)',\n",
       " 'Iced Flavor Fresh Herbs Basil  Tropical  flavor': '',\n",
       " 'Black Tea Chai Hot ( SINGLE )': 'Dark Tablea Chocolate Cake Slice (R)',\n",
       " 'Rose Tea (single)': 'Green tea (S)',\n",
       " 'Peach Tea (Single)': 'Health tea Basil (F)',\n",
       " 'Black Tea English Breakfast  Hot ( SINGLE )': 'English breakfast (T)',\n",
       " 'Black Tea English Breakfast  Hot ( TEA POT )': 'English breakfast (T)',\n",
       " '20g Rose Tea retail pack ': 'Health tea Basil (R)',\n",
       " '15g Red Tea retail pack': 'Green tea (T)',\n",
       " '20g Green Tea retail pack': 'Health tea Green tea (F)',\n",
       " 'Black Tea Pu-erh Hot ( TEA POT )': 'Health tea Green tea (F)',\n",
       " 'Nilgiri Blue Tea (Tea Pot)': 'Health tea Green tea (F)',\n",
       " 'Saeda Chai Tea (Tea pot)': 'Health tea Pandan (R)',\n",
       " 'Saeda Chai Tea(single)': 'Dark Tablea Chocolate Cake Slice (R)',\n",
       " 'Nilgiri Blue Tea (Single)': '',\n",
       " 'WATER EVIAN ': 'Hot Americano (R)',\n",
       " 'VOLVIC WATER': 'Iced latte (R)',\n",
       " 'SAN PELLEGRINO WATER': 'Green tea (S)',\n",
       " 'SM Purified Water': 'Iced latte (L)',\n",
       " 'Pasta Eduardo': 'Pasta Eduardo (R)',\n",
       " 'Pasta Maria Ana': 'Pasta Maria Ana (R)',\n",
       " '3 Mushroom melt': '3 Mushroom melt (R)',\n",
       " 'Beef Fajitas': 'Beef Fajitas (R)',\n",
       " 'Chicken Fajitas': 'Chicken Fajitas (R)',\n",
       " 'Tuna Herbed Empanada': 'Health tea Pandan (R)',\n",
       " 'Cheesy Spinach Quiche': '',\n",
       " 'Cheesy Mushroom Basil Herbed Empanada ': '',\n",
       " 'Chicken Curry Pandesal': 'Chicken Fajitas (R)',\n",
       " 'Cheezy Spanish Sardines  Pandesal': '',\n",
       " 'Pork Asado Pandesal': 'Pasta Eduardo (R)',\n",
       " \"Pack of 3's Herbed Pocket Pita\": 'Malunggay Pocket Pita (R)',\n",
       " 'Tuna Empanada & Cold Brew Plain combo': 'Cold brew vanilla (R)',\n",
       " 'Mushroom and Basil Empanada & Cold Brew Plain combo': '',\n",
       " 'Chicken Fajitas ': 'Chicken Fajitas (R)',\n",
       " 'Square German Choco Brownies': 'German Chocolate Cake Slice (R)',\n",
       " 'CHOCOLATE CHIP GOURMET COOKIES': 'Chocolate chip gourmet cookies (R)',\n",
       " 'APRICOT ALMOND GOURMET COOKIES': 'Apricot almond gourmet cookies (R)',\n",
       " 'CHERRY DARK CHOCOLATE GOURMET COOKIES': 'Cherry dark chocolate gourmet cookies (R)',\n",
       " 'CRANBERRY WHITE CHOCOLATE GOURMET COOKIES': 'Cranberry white chocolate gourmet cookies (R)',\n",
       " 'MANGO COCONUT GOURMET COOKIES': 'Chocolate chip gourmet cookies (R)',\n",
       " 'Dark Peanut Butter Crunch': 'Dark Peanut Butter Crunch Slice (R)',\n",
       " 'White Chocolate Nutella Crunch': 'Ice blended White chocolate mocha (R)',\n",
       " 'Dark & White Chocolate Chip Gourmet Cookies': 'Dark & White Chocolate Chip Gourmet Cookies (R)',\n",
       " 'Pesto Fusilli ': 'Pesto fusilli (R)',\n",
       " 'TRICOLAD MOUSSE': '',\n",
       " 'Lemon Bar': 'Lemon Bar (R)',\n",
       " 'Chicken Herbed Empanada': 'Chicken Fajitas (R)',\n",
       " 'Italian Pannacotta Plain': '',\n",
       " 'PEANUT BUTTER GOURMET COOKIES': 'Peanut Butter Cake Slice (R)',\n",
       " 'Chocolate Mint Brownie (Green)': 'Biscotti with Chocolate chip (R)',\n",
       " 'SMOOTH AND VELVETY CACAO BLOCKS': 'Smooth and milky (T)',\n",
       " \"TRADITIONAL LOLA'S CACAO BLOCKS\": \"Traditional Lola's recipe (L)\",\n",
       " 'DARK AND SMOKED CACAO BLOCKS': 'Smoked and dark (D)',\n",
       " 'Chocolate Mint Brownie (Red)': 'German Chocolate Cake Slice (R)',\n",
       " 'WHITE CHOCOLATE MOUSSE WITH OREO': 'Cranberry white chocolate gourmet cookies (R)',\n",
       " 'Dark Chocolate Flourless Almond w/ muscovado Brownies': 'Dark Tablea Chocolate Cake Slice (R)',\n",
       " 'Biscotti with Cranberry and Orange': 'Biscotti with Cranberry and Orange (R)',\n",
       " 'Chicken Empanada & Cold Brew Plain combo': 'Cold brew vanilla (R)',\n",
       " 'Espresso and latte 101 ': 'Hot Espresso (D)',\n",
       " 'Snickerdoodle cookies': '',\n",
       " 'Biscotti with Chocolate chip': 'Biscotti with Chocolate chip (R)',\n",
       " 'Blueberry Muffin': '',\n",
       " 'Double Chocolate Muffin': 'Rock Salted Chocolate Cake Slice (R)',\n",
       " 'Monster Cookies - Dirty Chocolate ': 'Chocolate chip gourmet cookies (R)',\n",
       " 'Choco Peanut Butter Muffin': 'Dark Peanut Butter Crunch Slice (R)',\n",
       " 'Brownie Squares': '',\n",
       " '2X2\\\\ Square Peanut Butter Cheesecake\"': 'Peanut Butter Cake Slice (R)',\n",
       " 'Dark Choco Caramel Sticks': 'Salted Caramel Cheesecake (R)',\n",
       " '9\\\\ New York Cheese Cake Slice\"': '9\" New York Cheese Cake Slice (R)',\n",
       " 'Dark and White Signature Cake SLICE': 'Dark Tablea Chocolate Cake Slice (R)',\n",
       " '9\\\\ BLUEBERRY SWIRL CHEESECAKE SLICE\"': '9\" BLUEBERRY SWIRL CHEESECAKE SLICE (R)',\n",
       " 'Coconut Cream Cake SLICE': 'German Chocolate Cake Slice (R)',\n",
       " ' 6\\\\Dalandan Cheesecake Slice\"': '9\" Tiramisu Cheesecake per slice (R)',\n",
       " 'Triple Chocolate Kahlua Slice': 'Dark Tablea Chocolate Cake Slice (R)',\n",
       " '6\\\\ Blueberry Swirl Cheesecake Slice\"': '9\" BLUEBERRY SWIRL CHEESECAKE SLICE (R)',\n",
       " '9\\\\ New York Cheese Cake\"': '9\" New York Cheese Cake Slice (R)',\n",
       " '8\\\\ Round Dark & White Signature Cake\"': 'Dark & White Chocolate Chip Gourmet Cookies (R)',\n",
       " '8” New York Cheesecake Slice': '9\" New York Cheese Cake Slice (R)',\n",
       " 'Double Layer German Chocolate Cakes \\\\Slice\\\\\"\"': 'German Chocolate Cake Slice (R)',\n",
       " 'German Chocolate Cake \\\\Slice\\\\\"\"': 'German Chocolate Cake Slice (R)',\n",
       " 'Banana Loaf \\\\Slice\\\\\"\"': 'Banana Loaf  Slice (R)',\n",
       " 'Dark Chocolate Melt Cake “Slice”': 'Rock Salted Chocolate Cake Slice (R)',\n",
       " '8 “ Blueberry Cheesecake \\\\Slice\\\\\"\"': '9\" BLUEBERRY SWIRL CHEESECAKE SLICE (R)',\n",
       " 'Dark Chocolate Caramel Melt cake “Slice”': 'Cream Cheese Melt Chocolate Cake Slice (R)',\n",
       " 'Carrot Cake \\\\Slice\\\\\"\"': 'Carrot Cake  (R)',\n",
       " 'Dark Chocolate Cream Cheese Cake  “Slice”': 'Cream Cheese Melt Chocolate Cake Slice (R)',\n",
       " 'Red Velvet Slice': 'Red Velvet Slice (R)',\n",
       " 'Salted Caramel Cheesecake': 'Salted Caramel Cheesecake (R)',\n",
       " 'Rectangular Irish Sansrival \\\\Slice\\\\\"\"': '',\n",
       " 'Chocolate Peanut Butter Cake \\\\SLICE\\\\\"\"': 'Peanut Butter Cake Slice (R)',\n",
       " 'Apple Spice Cake \\\\Slice\\\\\"\"': 'Dulce De Leche Cake Slice (R)',\n",
       " '3\\\\x3\\\\\" Cream Cheese Swirl Brownies\"': 'Red Velvet Bar with Cream Cheese (R)',\n",
       " 'Blueberry Cheesecake in Martini Glass': '9\" BLUEBERRY SWIRL CHEESECAKE SLICE (R)',\n",
       " 'Oreo Overload Cheesecake': 'Salted Caramel Cheesecake (R)',\n",
       " 'Hibiscus Cheesecake Slice': '9\" Tiramisu Cheesecake per slice (R)',\n",
       " 'Cream Cheese Melt Chocolate Cake Slice': 'Cream Cheese Melt Chocolate Cake Slice (R)',\n",
       " '1.5”x3”Fudge Walnut brownie': '',\n",
       " '2” X 2” Cream Cheese Fudge Brownies': 'Red Velvet Bar with Cream Cheese (R)',\n",
       " 'Guinumis Crunch Cake “Slice”': 'Dark Peanut Butter Crunch Slice (R)',\n",
       " 'Rock Salted Chocolate Cake Slice': 'Rock Salted Chocolate Cake Slice (R)',\n",
       " 'Dulce De Leche Cake Slice': 'Dulce De Leche Cake Slice (R)',\n",
       " 'Mestiza De Tablea Cake \\\\Slice\\\\\"\"': 'Dark Tablea Chocolate Cake Slice (R)',\n",
       " '8\\\\ Tiramisu Cheesecake slice\"': '9\" Tiramisu Cheesecake per slice (R)',\n",
       " 'Purple Yam Cream Cake Slice': '9\" New York Cheese Cake Slice (R)',\n",
       " '8” Turtle Cheesecake  Slice': '9\" Tiramisu Cheesecake per slice (R)',\n",
       " 'Red Velvet Bar with Cream Cheese': 'Red Velvet Bar with Cream Cheese (R)',\n",
       " 'Peanut Butter Cake Slice': 'Peanut Butter Cake Slice (R)',\n",
       " 'Chunky Brownie Cheesecake ': 'Salted Caramel Cheesecake (R)'}"
      ]
     },
     "execution_count": 167,
     "metadata": {},
     "output_type": "execute_result"
    }
   ],
   "source": [
    "match_dict = create_match_dictionary(sales, cost, \"PRODUCT_NAME\", \"PRODUCT_NAME\", 50)\n",
    "match_dict"
   ]
  },
  {
   "cell_type": "markdown",
   "metadata": {},
   "source": [
    "### Some products here are not matched, such as Brownie Squares. However, the manager has told me that these products are no longer being sold. We can just drop these items then since they will have null values."
   ]
  },
  {
   "cell_type": "code",
   "execution_count": 168,
   "metadata": {},
   "outputs": [
    {
     "data": {
      "text/html": [
       "<div>\n",
       "<style scoped>\n",
       "    .dataframe tbody tr th:only-of-type {\n",
       "        vertical-align: middle;\n",
       "    }\n",
       "\n",
       "    .dataframe tbody tr th {\n",
       "        vertical-align: top;\n",
       "    }\n",
       "\n",
       "    .dataframe thead th {\n",
       "        text-align: right;\n",
       "    }\n",
       "</style>\n",
       "<table border=\"1\" class=\"dataframe\">\n",
       "  <thead>\n",
       "    <tr style=\"text-align: right;\">\n",
       "      <th></th>\n",
       "      <th>INVOICE_NO</th>\n",
       "      <th>INVOICE_DATE</th>\n",
       "      <th>PRODUCT_NUMBER</th>\n",
       "      <th>QUANTITY_SOLD</th>\n",
       "      <th>PRODUCT_NAME</th>\n",
       "      <th>COST</th>\n",
       "      <th>RETAIL_PRICE</th>\n",
       "      <th>CATEGORY</th>\n",
       "      <th>ID</th>\n",
       "      <th>Subcategory</th>\n",
       "      <th>base_price</th>\n",
       "      <th>FIXED_NAME</th>\n",
       "    </tr>\n",
       "  </thead>\n",
       "  <tbody>\n",
       "    <tr>\n",
       "      <th>0</th>\n",
       "      <td>5</td>\n",
       "      <td>2017-01-12 13:46:00</td>\n",
       "      <td>262744</td>\n",
       "      <td>1.0</td>\n",
       "      <td>Iced Cafe Mocha (R)</td>\n",
       "      <td>18229.03</td>\n",
       "      <td>160.0</td>\n",
       "      <td>Drinks</td>\n",
       "      <td>22</td>\n",
       "      <td>Cacao</td>\n",
       "      <td>160.00</td>\n",
       "      <td>Iced café mocha (R)</td>\n",
       "    </tr>\n",
       "    <tr>\n",
       "      <th>1</th>\n",
       "      <td>9</td>\n",
       "      <td>2017-01-12 14:23:00</td>\n",
       "      <td>262728</td>\n",
       "      <td>1.0</td>\n",
       "      <td>Cafe Mocha (R)</td>\n",
       "      <td>14421.42</td>\n",
       "      <td>160.0</td>\n",
       "      <td>Drinks</td>\n",
       "      <td>47</td>\n",
       "      <td>Cacao</td>\n",
       "      <td>160.00</td>\n",
       "      <td>Iced café mocha (R)</td>\n",
       "    </tr>\n",
       "    <tr>\n",
       "      <th>2</th>\n",
       "      <td>13</td>\n",
       "      <td>2017-01-12 15:13:00</td>\n",
       "      <td>262748</td>\n",
       "      <td>1.0</td>\n",
       "      <td>Mocha Blended (R)</td>\n",
       "      <td>5781.90</td>\n",
       "      <td>185.0</td>\n",
       "      <td>Drinks</td>\n",
       "      <td>91</td>\n",
       "      <td>Cacao</td>\n",
       "      <td>185.00</td>\n",
       "      <td>Ice blended Mocha (R)</td>\n",
       "    </tr>\n",
       "    <tr>\n",
       "      <th>3</th>\n",
       "      <td>14</td>\n",
       "      <td>2017-01-12 15:21:00</td>\n",
       "      <td>262814</td>\n",
       "      <td>1.0</td>\n",
       "      <td>Traditional Lola</td>\n",
       "      <td>9.26</td>\n",
       "      <td>70.0</td>\n",
       "      <td>Drinks</td>\n",
       "      <td>99</td>\n",
       "      <td>Cacao</td>\n",
       "      <td>70.00</td>\n",
       "      <td>Traditional Lola's recipe (L)</td>\n",
       "    </tr>\n",
       "    <tr>\n",
       "      <th>4</th>\n",
       "      <td>15</td>\n",
       "      <td>2017-01-12 15:27:00</td>\n",
       "      <td>262830</td>\n",
       "      <td>1.0</td>\n",
       "      <td>Traditional Lola's Recipe</td>\n",
       "      <td>17.95</td>\n",
       "      <td>120.0</td>\n",
       "      <td>Drinks</td>\n",
       "      <td>104</td>\n",
       "      <td>Cacao</td>\n",
       "      <td>85.71</td>\n",
       "      <td>Traditional Lola's recipe (L)</td>\n",
       "    </tr>\n",
       "    <tr>\n",
       "      <th>...</th>\n",
       "      <td>...</td>\n",
       "      <td>...</td>\n",
       "      <td>...</td>\n",
       "      <td>...</td>\n",
       "      <td>...</td>\n",
       "      <td>...</td>\n",
       "      <td>...</td>\n",
       "      <td>...</td>\n",
       "      <td>...</td>\n",
       "      <td>...</td>\n",
       "      <td>...</td>\n",
       "      <td>...</td>\n",
       "    </tr>\n",
       "    <tr>\n",
       "      <th>256794</th>\n",
       "      <td>30413</td>\n",
       "      <td>2020-12-09 15:36:00</td>\n",
       "      <td>320621</td>\n",
       "      <td>1.0</td>\n",
       "      <td>Rock Salted Chocolate Cake Slice</td>\n",
       "      <td>55.00</td>\n",
       "      <td>135.0</td>\n",
       "      <td>Food</td>\n",
       "      <td>256794</td>\n",
       "      <td>Cakes</td>\n",
       "      <td>135.00</td>\n",
       "      <td>Rock Salted Chocolate Cake Slice (R)</td>\n",
       "    </tr>\n",
       "    <tr>\n",
       "      <th>256795</th>\n",
       "      <td>30414</td>\n",
       "      <td>2020-12-09 15:37:00</td>\n",
       "      <td>320623</td>\n",
       "      <td>1.0</td>\n",
       "      <td>Dulce De Leche Cake Slice</td>\n",
       "      <td>55.00</td>\n",
       "      <td>135.0</td>\n",
       "      <td>Food</td>\n",
       "      <td>256795</td>\n",
       "      <td>Cakes</td>\n",
       "      <td>135.00</td>\n",
       "      <td>Dulce De Leche Cake Slice (R)</td>\n",
       "    </tr>\n",
       "    <tr>\n",
       "      <th>259201</th>\n",
       "      <td>30617</td>\n",
       "      <td>2020-12-10 12:26:00</td>\n",
       "      <td>283928</td>\n",
       "      <td>1.0</td>\n",
       "      <td>Red Velvet Slice</td>\n",
       "      <td>42.50</td>\n",
       "      <td>145.0</td>\n",
       "      <td>Food</td>\n",
       "      <td>259201</td>\n",
       "      <td>Cakes</td>\n",
       "      <td>145.00</td>\n",
       "      <td>Red Velvet Slice (R)</td>\n",
       "    </tr>\n",
       "    <tr>\n",
       "      <th>259213</th>\n",
       "      <td>30618</td>\n",
       "      <td>2020-12-10 14:47:00</td>\n",
       "      <td>283928</td>\n",
       "      <td>1.0</td>\n",
       "      <td>Red Velvet Slice</td>\n",
       "      <td>42.50</td>\n",
       "      <td>145.0</td>\n",
       "      <td>Food</td>\n",
       "      <td>259213</td>\n",
       "      <td>Cakes</td>\n",
       "      <td>145.00</td>\n",
       "      <td>Red Velvet Slice (R)</td>\n",
       "    </tr>\n",
       "    <tr>\n",
       "      <th>259278</th>\n",
       "      <td>30623</td>\n",
       "      <td>2020-12-10 15:40:00</td>\n",
       "      <td>268582</td>\n",
       "      <td>1.0</td>\n",
       "      <td>Carrot Cake \\Slice\\\"\"</td>\n",
       "      <td>53.00</td>\n",
       "      <td>165.0</td>\n",
       "      <td>Food</td>\n",
       "      <td>259278</td>\n",
       "      <td>Cakes</td>\n",
       "      <td>165.00</td>\n",
       "      <td>Carrot Cake  (R)</td>\n",
       "    </tr>\n",
       "  </tbody>\n",
       "</table>\n",
       "<p>47791 rows × 12 columns</p>\n",
       "</div>"
      ],
      "text/plain": [
       "        INVOICE_NO        INVOICE_DATE  PRODUCT_NUMBER  QUANTITY_SOLD  \\\n",
       "0                5 2017-01-12 13:46:00          262744            1.0   \n",
       "1                9 2017-01-12 14:23:00          262728            1.0   \n",
       "2               13 2017-01-12 15:13:00          262748            1.0   \n",
       "3               14 2017-01-12 15:21:00          262814            1.0   \n",
       "4               15 2017-01-12 15:27:00          262830            1.0   \n",
       "...            ...                 ...             ...            ...   \n",
       "256794       30413 2020-12-09 15:36:00          320621            1.0   \n",
       "256795       30414 2020-12-09 15:37:00          320623            1.0   \n",
       "259201       30617 2020-12-10 12:26:00          283928            1.0   \n",
       "259213       30618 2020-12-10 14:47:00          283928            1.0   \n",
       "259278       30623 2020-12-10 15:40:00          268582            1.0   \n",
       "\n",
       "                            PRODUCT_NAME      COST  RETAIL_PRICE CATEGORY  \\\n",
       "0                    Iced Cafe Mocha (R)  18229.03         160.0   Drinks   \n",
       "1                         Cafe Mocha (R)  14421.42         160.0   Drinks   \n",
       "2                      Mocha Blended (R)   5781.90         185.0   Drinks   \n",
       "3                       Traditional Lola      9.26          70.0   Drinks   \n",
       "4              Traditional Lola's Recipe     17.95         120.0   Drinks   \n",
       "...                                  ...       ...           ...      ...   \n",
       "256794  Rock Salted Chocolate Cake Slice     55.00         135.0     Food   \n",
       "256795         Dulce De Leche Cake Slice     55.00         135.0     Food   \n",
       "259201                  Red Velvet Slice     42.50         145.0     Food   \n",
       "259213                  Red Velvet Slice     42.50         145.0     Food   \n",
       "259278             Carrot Cake \\Slice\\\"\"     53.00         165.0     Food   \n",
       "\n",
       "            ID Subcategory  base_price                            FIXED_NAME  \n",
       "0           22       Cacao      160.00                   Iced café mocha (R)  \n",
       "1           47       Cacao      160.00                   Iced café mocha (R)  \n",
       "2           91       Cacao      185.00                 Ice blended Mocha (R)  \n",
       "3           99       Cacao       70.00         Traditional Lola's recipe (L)  \n",
       "4          104       Cacao       85.71         Traditional Lola's recipe (L)  \n",
       "...        ...         ...         ...                                   ...  \n",
       "256794  256794       Cakes      135.00  Rock Salted Chocolate Cake Slice (R)  \n",
       "256795  256795       Cakes      135.00         Dulce De Leche Cake Slice (R)  \n",
       "259201  259201       Cakes      145.00                  Red Velvet Slice (R)  \n",
       "259213  259213       Cakes      145.00                  Red Velvet Slice (R)  \n",
       "259278  259278       Cakes      165.00                      Carrot Cake  (R)  \n",
       "\n",
       "[47791 rows x 12 columns]"
      ]
     },
     "execution_count": 168,
     "metadata": {},
     "output_type": "execute_result"
    }
   ],
   "source": [
    "sales[\"FIXED_NAME\"] = sales[\"PRODUCT_NAME\"].replace(match_dict)\n",
    "sales"
   ]
  },
  {
   "cell_type": "code",
   "execution_count": 169,
   "metadata": {},
   "outputs": [
    {
     "data": {
      "text/plain": [
       "(47791, 12)"
      ]
     },
     "execution_count": 169,
     "metadata": {},
     "output_type": "execute_result"
    }
   ],
   "source": [
    "sales.shape"
   ]
  },
  {
   "cell_type": "code",
   "execution_count": 170,
   "metadata": {},
   "outputs": [
    {
     "data": {
      "text/plain": [
       "INVOICE_NO        0\n",
       "INVOICE_DATE      0\n",
       "PRODUCT_NUMBER    0\n",
       "QUANTITY_SOLD     0\n",
       "PRODUCT_NAME      0\n",
       "COST              0\n",
       "RETAIL_PRICE      0\n",
       "CATEGORY          0\n",
       "ID                0\n",
       "Subcategory       0\n",
       "base_price        0\n",
       "FIXED_NAME        0\n",
       "dtype: int64"
      ]
     },
     "execution_count": 170,
     "metadata": {},
     "output_type": "execute_result"
    }
   ],
   "source": [
    "sales.isna().sum()"
   ]
  },
  {
   "cell_type": "code",
   "execution_count": 171,
   "metadata": {},
   "outputs": [
    {
     "data": {
      "text/plain": [
       "INVOICE_NO        0\n",
       "INVOICE_DATE      0\n",
       "PRODUCT_NUMBER    0\n",
       "QUANTITY_SOLD     0\n",
       "PRODUCT_NAME      0\n",
       "COST              0\n",
       "RETAIL_PRICE      0\n",
       "CATEGORY          0\n",
       "ID                0\n",
       "Subcategory       0\n",
       "base_price        0\n",
       "FIXED_NAME        0\n",
       "dtype: int64"
      ]
     },
     "execution_count": 171,
     "metadata": {},
     "output_type": "execute_result"
    }
   ],
   "source": [
    "null = sales[sales['Subcategory'].isna()]\n",
    "sales = sales[~sales['Subcategory'].isna()]\n",
    "sales.isna().sum()"
   ]
  },
  {
   "cell_type": "code",
   "execution_count": 172,
   "metadata": {},
   "outputs": [
    {
     "data": {
      "text/plain": [
       "(47791, 12)"
      ]
     },
     "execution_count": 172,
     "metadata": {},
     "output_type": "execute_result"
    }
   ],
   "source": [
    "sales.shape"
   ]
  },
  {
   "cell_type": "markdown",
   "metadata": {},
   "source": [
    "## Lets see if there are duplicate rows. We know there are duplicates if the number of unique IDs is less than rows of df sales."
   ]
  },
  {
   "cell_type": "code",
   "execution_count": 173,
   "metadata": {},
   "outputs": [
    {
     "data": {
      "text/plain": [
       "47791"
      ]
     },
     "execution_count": 173,
     "metadata": {},
     "output_type": "execute_result"
    }
   ],
   "source": [
    "sales['ID'].nunique()"
   ]
  },
  {
   "cell_type": "code",
   "execution_count": 174,
   "metadata": {},
   "outputs": [
    {
     "data": {
      "text/plain": [
       "47791"
      ]
     },
     "execution_count": 174,
     "metadata": {},
     "output_type": "execute_result"
    }
   ],
   "source": [
    "sales['ID'].nunique()"
   ]
  },
  {
   "cell_type": "markdown",
   "metadata": {},
   "source": [
    "### No duplicates! We can move on to the next step."
   ]
  },
  {
   "cell_type": "markdown",
   "metadata": {},
   "source": [
    "# Merge cost and sales dfs"
   ]
  },
  {
   "cell_type": "code",
   "execution_count": 188,
   "metadata": {},
   "outputs": [
    {
     "data": {
      "text/html": [
       "<div>\n",
       "<style scoped>\n",
       "    .dataframe tbody tr th:only-of-type {\n",
       "        vertical-align: middle;\n",
       "    }\n",
       "\n",
       "    .dataframe tbody tr th {\n",
       "        vertical-align: top;\n",
       "    }\n",
       "\n",
       "    .dataframe thead th {\n",
       "        text-align: right;\n",
       "    }\n",
       "</style>\n",
       "<table border=\"1\" class=\"dataframe\">\n",
       "  <thead>\n",
       "    <tr style=\"text-align: right;\">\n",
       "      <th></th>\n",
       "      <th>INVOICE_NO</th>\n",
       "      <th>INVOICE_DATE</th>\n",
       "      <th>PRODUCT_NUMBER</th>\n",
       "      <th>QUANTITY_SOLD</th>\n",
       "      <th>PRODUCT_NAME_x</th>\n",
       "      <th>COST</th>\n",
       "      <th>RETAIL_PRICE</th>\n",
       "      <th>CATEGORY</th>\n",
       "      <th>ID</th>\n",
       "      <th>Subcategory</th>\n",
       "      <th>base_price</th>\n",
       "      <th>FIXED_NAME</th>\n",
       "      <th>PRODUCT_NAME_y</th>\n",
       "      <th>Cost Price</th>\n",
       "    </tr>\n",
       "  </thead>\n",
       "  <tbody>\n",
       "    <tr>\n",
       "      <th>26916</th>\n",
       "      <td>1</td>\n",
       "      <td>2017-01-12 12:47:00</td>\n",
       "      <td>262924</td>\n",
       "      <td>1.0</td>\n",
       "      <td>Iced Flavor Fresh Herbs Pandan continental flavor</td>\n",
       "      <td>0.0000</td>\n",
       "      <td>160.0</td>\n",
       "      <td>Drinks</td>\n",
       "      <td>1</td>\n",
       "      <td>Tea</td>\n",
       "      <td>160.0</td>\n",
       "      <td></td>\n",
       "      <td>NaN</td>\n",
       "      <td>NaN</td>\n",
       "    </tr>\n",
       "    <tr>\n",
       "      <th>10733</th>\n",
       "      <td>2</td>\n",
       "      <td>2017-01-12 12:51:00</td>\n",
       "      <td>262800</td>\n",
       "      <td>1.0</td>\n",
       "      <td>Atok Benguet ( R )</td>\n",
       "      <td>15.7100</td>\n",
       "      <td>160.0</td>\n",
       "      <td>Drinks</td>\n",
       "      <td>2</td>\n",
       "      <td>Coffee</td>\n",
       "      <td>160.0</td>\n",
       "      <td>Atok Benguet Honey Coffee beans 250g (R)</td>\n",
       "      <td>Atok Benguet Honey Coffee beans 250g (R)</td>\n",
       "      <td>22.64</td>\n",
       "    </tr>\n",
       "    <tr>\n",
       "      <th>10734</th>\n",
       "      <td>2</td>\n",
       "      <td>2017-01-12 12:51:00</td>\n",
       "      <td>262812</td>\n",
       "      <td>1.0</td>\n",
       "      <td>Cold brew Coffee Vanilla (R)</td>\n",
       "      <td>90.4772</td>\n",
       "      <td>150.0</td>\n",
       "      <td>Drinks</td>\n",
       "      <td>3</td>\n",
       "      <td>Coffee</td>\n",
       "      <td>150.0</td>\n",
       "      <td>Cold brew vanilla (R)</td>\n",
       "      <td>Cold brew vanilla (R)</td>\n",
       "      <td>57.77</td>\n",
       "    </tr>\n",
       "    <tr>\n",
       "      <th>26917</th>\n",
       "      <td>3</td>\n",
       "      <td>2017-01-12 12:56:00</td>\n",
       "      <td>262921</td>\n",
       "      <td>1.0</td>\n",
       "      <td>Iced Flavor Fresh Herbs Basil continental flavor</td>\n",
       "      <td>0.0000</td>\n",
       "      <td>160.0</td>\n",
       "      <td>Drinks</td>\n",
       "      <td>12</td>\n",
       "      <td>Tea</td>\n",
       "      <td>160.0</td>\n",
       "      <td></td>\n",
       "      <td>NaN</td>\n",
       "      <td>NaN</td>\n",
       "    </tr>\n",
       "    <tr>\n",
       "      <th>10735</th>\n",
       "      <td>4</td>\n",
       "      <td>2017-01-12 13:27:00</td>\n",
       "      <td>262751</td>\n",
       "      <td>1.0</td>\n",
       "      <td>Caramel Coffee  Blended(S)</td>\n",
       "      <td>5767.8100</td>\n",
       "      <td>170.0</td>\n",
       "      <td>Drinks</td>\n",
       "      <td>13</td>\n",
       "      <td>Coffee</td>\n",
       "      <td>170.0</td>\n",
       "      <td>Ice blended Caramel (S)</td>\n",
       "      <td>Ice blended Caramel (S)</td>\n",
       "      <td>59.09</td>\n",
       "    </tr>\n",
       "  </tbody>\n",
       "</table>\n",
       "</div>"
      ],
      "text/plain": [
       "       INVOICE_NO        INVOICE_DATE  PRODUCT_NUMBER  QUANTITY_SOLD  \\\n",
       "26916           1 2017-01-12 12:47:00          262924            1.0   \n",
       "10733           2 2017-01-12 12:51:00          262800            1.0   \n",
       "10734           2 2017-01-12 12:51:00          262812            1.0   \n",
       "26917           3 2017-01-12 12:56:00          262921            1.0   \n",
       "10735           4 2017-01-12 13:27:00          262751            1.0   \n",
       "\n",
       "                                          PRODUCT_NAME_x       COST  \\\n",
       "26916  Iced Flavor Fresh Herbs Pandan continental flavor     0.0000   \n",
       "10733                                 Atok Benguet ( R )    15.7100   \n",
       "10734                       Cold brew Coffee Vanilla (R)    90.4772   \n",
       "26917   Iced Flavor Fresh Herbs Basil continental flavor     0.0000   \n",
       "10735                         Caramel Coffee  Blended(S)  5767.8100   \n",
       "\n",
       "       RETAIL_PRICE CATEGORY  ID Subcategory  base_price  \\\n",
       "26916         160.0   Drinks   1         Tea       160.0   \n",
       "10733         160.0   Drinks   2      Coffee       160.0   \n",
       "10734         150.0   Drinks   3      Coffee       150.0   \n",
       "26917         160.0   Drinks  12         Tea       160.0   \n",
       "10735         170.0   Drinks  13      Coffee       170.0   \n",
       "\n",
       "                                     FIXED_NAME  \\\n",
       "26916                                             \n",
       "10733  Atok Benguet Honey Coffee beans 250g (R)   \n",
       "10734                     Cold brew vanilla (R)   \n",
       "26917                                             \n",
       "10735                   Ice blended Caramel (S)   \n",
       "\n",
       "                                 PRODUCT_NAME_y  Cost Price   \n",
       "26916                                       NaN          NaN  \n",
       "10733  Atok Benguet Honey Coffee beans 250g (R)        22.64  \n",
       "10734                     Cold brew vanilla (R)        57.77  \n",
       "26917                                       NaN          NaN  \n",
       "10735                   Ice blended Caramel (S)        59.09  "
      ]
     },
     "execution_count": 188,
     "metadata": {},
     "output_type": "execute_result"
    }
   ],
   "source": [
    "complete = pd.merge(sales, cost, how=\"left\", left_on=\"FIXED_NAME\", right_on=\"PRODUCT_NAME\")\n",
    "\n",
    "complete = complete.sort_values(by=['ID'],ascending=True)\n",
    "\n",
    "complete.head()"
   ]
  },
  {
   "cell_type": "code",
   "execution_count": 189,
   "metadata": {},
   "outputs": [
    {
     "data": {
      "text/plain": [
       "(47791, 14)"
      ]
     },
     "execution_count": 189,
     "metadata": {},
     "output_type": "execute_result"
    }
   ],
   "source": [
    "complete.shape"
   ]
  },
  {
   "cell_type": "code",
   "execution_count": 190,
   "metadata": {},
   "outputs": [
    {
     "data": {
      "text/plain": [
       "(47791, 12)"
      ]
     },
     "execution_count": 190,
     "metadata": {},
     "output_type": "execute_result"
    }
   ],
   "source": [
    "#compare with last df\n",
    "sales.shape"
   ]
  },
  {
   "cell_type": "markdown",
   "metadata": {},
   "source": [
    "###  Check for nulls"
   ]
  },
  {
   "cell_type": "code",
   "execution_count": 191,
   "metadata": {},
   "outputs": [
    {
     "data": {
      "text/plain": [
       "INVOICE_NO           0\n",
       "INVOICE_DATE         0\n",
       "PRODUCT_NUMBER       0\n",
       "QUANTITY_SOLD        0\n",
       "PRODUCT_NAME_x       0\n",
       "COST                 0\n",
       "RETAIL_PRICE         0\n",
       "CATEGORY             0\n",
       "ID                   0\n",
       "Subcategory          0\n",
       "base_price           0\n",
       "FIXED_NAME           0\n",
       "PRODUCT_NAME_y    3429\n",
       " Cost Price       3429\n",
       "dtype: int64"
      ]
     },
     "execution_count": 191,
     "metadata": {},
     "output_type": "execute_result"
    }
   ],
   "source": [
    "complete.isna().sum()"
   ]
  },
  {
   "cell_type": "markdown",
   "metadata": {},
   "source": [
    "#### These null values are coming from transactions where the products were not in the costing df. I will drop these columns since the manager has told me that these arent being sold anymore."
   ]
  },
  {
   "cell_type": "code",
   "execution_count": 192,
   "metadata": {},
   "outputs": [],
   "source": [
    "complete = complete.dropna()"
   ]
  },
  {
   "cell_type": "markdown",
   "metadata": {},
   "source": [
    "### Let's view our complete df"
   ]
  },
  {
   "cell_type": "code",
   "execution_count": 193,
   "metadata": {},
   "outputs": [
    {
     "data": {
      "text/plain": [
       "INVOICE_NO        0\n",
       "INVOICE_DATE      0\n",
       "PRODUCT_NUMBER    0\n",
       "QUANTITY_SOLD     0\n",
       "PRODUCT_NAME_x    0\n",
       "COST              0\n",
       "RETAIL_PRICE      0\n",
       "CATEGORY          0\n",
       "ID                0\n",
       "Subcategory       0\n",
       "base_price        0\n",
       "FIXED_NAME        0\n",
       "PRODUCT_NAME_y    0\n",
       " Cost Price       0\n",
       "dtype: int64"
      ]
     },
     "execution_count": 193,
     "metadata": {},
     "output_type": "execute_result"
    }
   ],
   "source": [
    "complete.isna().sum()"
   ]
  },
  {
   "cell_type": "code",
   "execution_count": 194,
   "metadata": {},
   "outputs": [
    {
     "data": {
      "text/plain": [
       "(44362, 14)"
      ]
     },
     "execution_count": 194,
     "metadata": {},
     "output_type": "execute_result"
    }
   ],
   "source": [
    "complete.shape"
   ]
  },
  {
   "cell_type": "code",
   "execution_count": 195,
   "metadata": {},
   "outputs": [
    {
     "name": "stdout",
     "output_type": "stream",
     "text": [
      "<class 'pandas.core.frame.DataFrame'>\n",
      "Int64Index: 44362 entries, 10733 to 26841\n",
      "Data columns (total 14 columns):\n",
      " #   Column          Non-Null Count  Dtype         \n",
      "---  ------          --------------  -----         \n",
      " 0   INVOICE_NO      44362 non-null  int64         \n",
      " 1   INVOICE_DATE    44362 non-null  datetime64[ns]\n",
      " 2   PRODUCT_NUMBER  44362 non-null  int64         \n",
      " 3   QUANTITY_SOLD   44362 non-null  float64       \n",
      " 4   PRODUCT_NAME_x  44362 non-null  object        \n",
      " 5   COST            44362 non-null  float64       \n",
      " 6   RETAIL_PRICE    44362 non-null  float64       \n",
      " 7   CATEGORY        44362 non-null  object        \n",
      " 8   ID              44362 non-null  int64         \n",
      " 9   Subcategory     44362 non-null  object        \n",
      " 10  base_price      44362 non-null  float64       \n",
      " 11  FIXED_NAME      44362 non-null  object        \n",
      " 12  PRODUCT_NAME_y  44362 non-null  object        \n",
      " 13   Cost Price     44362 non-null  object        \n",
      "dtypes: datetime64[ns](1), float64(4), int64(3), object(6)\n",
      "memory usage: 5.1+ MB\n"
     ]
    }
   ],
   "source": [
    "complete.info()"
   ]
  },
  {
   "cell_type": "markdown",
   "metadata": {},
   "source": [
    "### I will rename and drop duplicate columns "
   ]
  },
  {
   "cell_type": "code",
   "execution_count": 196,
   "metadata": {},
   "outputs": [],
   "source": [
    "complete.rename(columns={\"FIXED_NAME\": \"Product\", \" Cost Price \": \"Cost\", \"RETAIL_PRICE\": \"Retail Price\", \"QUANTITY_SOLD\": \"Quantity\",\"INVOICE_DATE\":\"Date\"},inplace=True)"
   ]
  },
  {
   "cell_type": "code",
   "execution_count": 197,
   "metadata": {},
   "outputs": [
    {
     "name": "stdout",
     "output_type": "stream",
     "text": [
      "<class 'pandas.core.frame.DataFrame'>\n",
      "Int64Index: 44362 entries, 10733 to 26841\n",
      "Data columns (total 11 columns):\n",
      " #   Column          Non-Null Count  Dtype         \n",
      "---  ------          --------------  -----         \n",
      " 0   INVOICE_NO      44362 non-null  int64         \n",
      " 1   Date            44362 non-null  datetime64[ns]\n",
      " 2   PRODUCT_NUMBER  44362 non-null  int64         \n",
      " 3   Quantity        44362 non-null  float64       \n",
      " 4   Retail Price    44362 non-null  float64       \n",
      " 5   CATEGORY        44362 non-null  object        \n",
      " 6   ID              44362 non-null  int64         \n",
      " 7   Subcategory     44362 non-null  object        \n",
      " 8   base_price      44362 non-null  float64       \n",
      " 9   Product         44362 non-null  object        \n",
      " 10  Cost            44362 non-null  object        \n",
      "dtypes: datetime64[ns](1), float64(3), int64(3), object(4)\n",
      "memory usage: 4.1+ MB\n"
     ]
    }
   ],
   "source": [
    "columns = ['PRODUCT_NAME_x','PRODUCT_NAME_y','COST']\n",
    "\n",
    "complete.drop(columns, axis=1, inplace = True)\n",
    "complete.info()"
   ]
  },
  {
   "cell_type": "markdown",
   "metadata": {},
   "source": [
    "### Let's transform some columns so they are the correct data type"
   ]
  },
  {
   "cell_type": "code",
   "execution_count": 199,
   "metadata": {},
   "outputs": [],
   "source": [
    "complete['Cost']=complete['Cost'].astype(float)"
   ]
  },
  {
   "cell_type": "code",
   "execution_count": 201,
   "metadata": {},
   "outputs": [
    {
     "name": "stdout",
     "output_type": "stream",
     "text": [
      "<class 'pandas.core.frame.DataFrame'>\n",
      "Int64Index: 44362 entries, 10733 to 26841\n",
      "Data columns (total 11 columns):\n",
      " #   Column          Non-Null Count  Dtype         \n",
      "---  ------          --------------  -----         \n",
      " 0   INVOICE_NO      44362 non-null  int64         \n",
      " 1   Date            44362 non-null  datetime64[ns]\n",
      " 2   PRODUCT_NUMBER  44362 non-null  int64         \n",
      " 3   Quantity        44362 non-null  float64       \n",
      " 4   Retail Price    44362 non-null  float64       \n",
      " 5   CATEGORY        44362 non-null  object        \n",
      " 6   ID              44362 non-null  int64         \n",
      " 7   Subcategory     44362 non-null  object        \n",
      " 8   base_price      44362 non-null  float64       \n",
      " 9   Product         44362 non-null  object        \n",
      " 10  Cost            44362 non-null  float64       \n",
      "dtypes: datetime64[ns](1), float64(4), int64(3), object(3)\n",
      "memory usage: 4.1+ MB\n"
     ]
    }
   ],
   "source": [
    "# check if it worked\n",
    "complete.info()"
   ]
  },
  {
   "cell_type": "markdown",
   "metadata": {},
   "source": [
    "# Profit feature\n",
    "\n",
    "I will calculate profit based on base price, quantity and cost."
   ]
  },
  {
   "cell_type": "code",
   "execution_count": 202,
   "metadata": {
    "scrolled": true
   },
   "outputs": [
    {
     "data": {
      "text/html": [
       "<div>\n",
       "<style scoped>\n",
       "    .dataframe tbody tr th:only-of-type {\n",
       "        vertical-align: middle;\n",
       "    }\n",
       "\n",
       "    .dataframe tbody tr th {\n",
       "        vertical-align: top;\n",
       "    }\n",
       "\n",
       "    .dataframe thead th {\n",
       "        text-align: right;\n",
       "    }\n",
       "</style>\n",
       "<table border=\"1\" class=\"dataframe\">\n",
       "  <thead>\n",
       "    <tr style=\"text-align: right;\">\n",
       "      <th></th>\n",
       "      <th>INVOICE_NO</th>\n",
       "      <th>Date</th>\n",
       "      <th>PRODUCT_NUMBER</th>\n",
       "      <th>Quantity</th>\n",
       "      <th>Retail Price</th>\n",
       "      <th>CATEGORY</th>\n",
       "      <th>ID</th>\n",
       "      <th>Subcategory</th>\n",
       "      <th>base_price</th>\n",
       "      <th>Product</th>\n",
       "      <th>Cost</th>\n",
       "      <th>Profit</th>\n",
       "    </tr>\n",
       "  </thead>\n",
       "  <tbody>\n",
       "    <tr>\n",
       "      <th>10733</th>\n",
       "      <td>2</td>\n",
       "      <td>2017-01-12 12:51:00</td>\n",
       "      <td>262800</td>\n",
       "      <td>1.0</td>\n",
       "      <td>160.0</td>\n",
       "      <td>Drinks</td>\n",
       "      <td>2</td>\n",
       "      <td>Coffee</td>\n",
       "      <td>160.0</td>\n",
       "      <td>Atok Benguet Honey Coffee beans 250g (R)</td>\n",
       "      <td>22.64</td>\n",
       "      <td>137.36</td>\n",
       "    </tr>\n",
       "    <tr>\n",
       "      <th>10734</th>\n",
       "      <td>2</td>\n",
       "      <td>2017-01-12 12:51:00</td>\n",
       "      <td>262812</td>\n",
       "      <td>1.0</td>\n",
       "      <td>150.0</td>\n",
       "      <td>Drinks</td>\n",
       "      <td>3</td>\n",
       "      <td>Coffee</td>\n",
       "      <td>150.0</td>\n",
       "      <td>Cold brew vanilla (R)</td>\n",
       "      <td>57.77</td>\n",
       "      <td>92.23</td>\n",
       "    </tr>\n",
       "    <tr>\n",
       "      <th>10735</th>\n",
       "      <td>4</td>\n",
       "      <td>2017-01-12 13:27:00</td>\n",
       "      <td>262751</td>\n",
       "      <td>1.0</td>\n",
       "      <td>170.0</td>\n",
       "      <td>Drinks</td>\n",
       "      <td>13</td>\n",
       "      <td>Coffee</td>\n",
       "      <td>170.0</td>\n",
       "      <td>Ice blended Caramel (S)</td>\n",
       "      <td>59.09</td>\n",
       "      <td>110.91</td>\n",
       "    </tr>\n",
       "    <tr>\n",
       "      <th>31802</th>\n",
       "      <td>4</td>\n",
       "      <td>2017-01-12 13:27:00</td>\n",
       "      <td>262933</td>\n",
       "      <td>1.0</td>\n",
       "      <td>75.0</td>\n",
       "      <td>Drinks</td>\n",
       "      <td>15</td>\n",
       "      <td>Water</td>\n",
       "      <td>75.0</td>\n",
       "      <td>Hot Americano (R)</td>\n",
       "      <td>22.43</td>\n",
       "      <td>52.57</td>\n",
       "    </tr>\n",
       "    <tr>\n",
       "      <th>0</th>\n",
       "      <td>5</td>\n",
       "      <td>2017-01-12 13:46:00</td>\n",
       "      <td>262744</td>\n",
       "      <td>1.0</td>\n",
       "      <td>160.0</td>\n",
       "      <td>Drinks</td>\n",
       "      <td>22</td>\n",
       "      <td>Cacao</td>\n",
       "      <td>160.0</td>\n",
       "      <td>Iced café mocha (R)</td>\n",
       "      <td>62.82</td>\n",
       "      <td>97.18</td>\n",
       "    </tr>\n",
       "  </tbody>\n",
       "</table>\n",
       "</div>"
      ],
      "text/plain": [
       "       INVOICE_NO                Date  PRODUCT_NUMBER  Quantity  Retail Price  \\\n",
       "10733           2 2017-01-12 12:51:00          262800       1.0         160.0   \n",
       "10734           2 2017-01-12 12:51:00          262812       1.0         150.0   \n",
       "10735           4 2017-01-12 13:27:00          262751       1.0         170.0   \n",
       "31802           4 2017-01-12 13:27:00          262933       1.0          75.0   \n",
       "0               5 2017-01-12 13:46:00          262744       1.0         160.0   \n",
       "\n",
       "      CATEGORY  ID Subcategory  base_price  \\\n",
       "10733   Drinks   2      Coffee       160.0   \n",
       "10734   Drinks   3      Coffee       150.0   \n",
       "10735   Drinks  13      Coffee       170.0   \n",
       "31802   Drinks  15       Water        75.0   \n",
       "0       Drinks  22       Cacao       160.0   \n",
       "\n",
       "                                        Product   Cost  Profit  \n",
       "10733  Atok Benguet Honey Coffee beans 250g (R)  22.64  137.36  \n",
       "10734                     Cold brew vanilla (R)  57.77   92.23  \n",
       "10735                   Ice blended Caramel (S)  59.09  110.91  \n",
       "31802                         Hot Americano (R)  22.43   52.57  \n",
       "0                           Iced café mocha (R)  62.82   97.18  "
      ]
     },
     "execution_count": 202,
     "metadata": {},
     "output_type": "execute_result"
    }
   ],
   "source": [
    "complete['Profit'] = (complete['base_price']*complete['Quantity'])-complete['Cost']\n",
    "complete = complete.sort_values(by=['ID'],ascending=True)\n",
    "complete.head()"
   ]
  },
  {
   "cell_type": "markdown",
   "metadata": {},
   "source": [
    "## Let's count how many products we have"
   ]
  },
  {
   "cell_type": "code",
   "execution_count": 203,
   "metadata": {},
   "outputs": [
    {
     "data": {
      "text/plain": [
       "108"
      ]
     },
     "execution_count": 203,
     "metadata": {},
     "output_type": "execute_result"
    }
   ],
   "source": [
    "complete['Product'].nunique()"
   ]
  },
  {
   "cell_type": "code",
   "execution_count": 204,
   "metadata": {},
   "outputs": [
    {
     "data": {
      "text/plain": [
       "Coffee            15020\n",
       "Cacao             10733\n",
       "Other Desserts     5017\n",
       "Savory             4973\n",
       "Cakes              4937\n",
       "Tea                3009\n",
       "Water               673\n",
       "Name: Subcategory, dtype: int64"
      ]
     },
     "execution_count": 204,
     "metadata": {},
     "output_type": "execute_result"
    }
   ],
   "source": [
    "complete['Subcategory'].value_counts()"
   ]
  },
  {
   "cell_type": "markdown",
   "metadata": {},
   "source": [
    "#### Now, we have finished our data cleaning! For ease, I will rename our complete df to df, and group by week and Product to get the quantity of Products sold each week."
   ]
  },
  {
   "cell_type": "code",
   "execution_count": 205,
   "metadata": {},
   "outputs": [],
   "source": [
    "complete.rename(columns = {'INVOICE_DATE':'Date'},inplace=True)"
   ]
  },
  {
   "cell_type": "markdown",
   "metadata": {},
   "source": [
    "### I am just going to rename the df to have a more descriptive name, and view it."
   ]
  },
  {
   "cell_type": "code",
   "execution_count": 214,
   "metadata": {},
   "outputs": [
    {
     "data": {
      "text/plain": [
       "(44362, 12)"
      ]
     },
     "execution_count": 214,
     "metadata": {},
     "output_type": "execute_result"
    }
   ],
   "source": [
    "all_sales = complete\n",
    "all_sales.shape"
   ]
  },
  {
   "cell_type": "code",
   "execution_count": 215,
   "metadata": {},
   "outputs": [
    {
     "data": {
      "text/plain": [
       "Index(['INVOICE_NO', 'Date', 'PRODUCT_NUMBER', 'Quantity', 'Retail Price',\n",
       "       'CATEGORY', 'ID', 'Subcategory', 'base_price', 'Product', 'Cost',\n",
       "       'Profit'],\n",
       "      dtype='object')"
      ]
     },
     "execution_count": 215,
     "metadata": {},
     "output_type": "execute_result"
    }
   ],
   "source": [
    "all_sales.columns"
   ]
  },
  {
   "cell_type": "code",
   "execution_count": 216,
   "metadata": {
    "scrolled": true
   },
   "outputs": [
    {
     "data": {
      "text/html": [
       "<div>\n",
       "<style scoped>\n",
       "    .dataframe tbody tr th:only-of-type {\n",
       "        vertical-align: middle;\n",
       "    }\n",
       "\n",
       "    .dataframe tbody tr th {\n",
       "        vertical-align: top;\n",
       "    }\n",
       "\n",
       "    .dataframe thead th {\n",
       "        text-align: right;\n",
       "    }\n",
       "</style>\n",
       "<table border=\"1\" class=\"dataframe\">\n",
       "  <thead>\n",
       "    <tr style=\"text-align: right;\">\n",
       "      <th></th>\n",
       "      <th>INVOICE_NO</th>\n",
       "      <th>Date</th>\n",
       "      <th>PRODUCT_NUMBER</th>\n",
       "      <th>Quantity</th>\n",
       "      <th>Retail Price</th>\n",
       "      <th>CATEGORY</th>\n",
       "      <th>ID</th>\n",
       "      <th>Subcategory</th>\n",
       "      <th>base_price</th>\n",
       "      <th>Product</th>\n",
       "      <th>Cost</th>\n",
       "      <th>Profit</th>\n",
       "    </tr>\n",
       "  </thead>\n",
       "  <tbody>\n",
       "    <tr>\n",
       "      <th>10733</th>\n",
       "      <td>2</td>\n",
       "      <td>2017-01-12 12:51:00</td>\n",
       "      <td>262800</td>\n",
       "      <td>1.0</td>\n",
       "      <td>160.0</td>\n",
       "      <td>Drinks</td>\n",
       "      <td>2</td>\n",
       "      <td>Coffee</td>\n",
       "      <td>160.0</td>\n",
       "      <td>Atok Benguet Honey Coffee beans 250g (R)</td>\n",
       "      <td>22.64</td>\n",
       "      <td>137.36</td>\n",
       "    </tr>\n",
       "    <tr>\n",
       "      <th>10734</th>\n",
       "      <td>2</td>\n",
       "      <td>2017-01-12 12:51:00</td>\n",
       "      <td>262812</td>\n",
       "      <td>1.0</td>\n",
       "      <td>150.0</td>\n",
       "      <td>Drinks</td>\n",
       "      <td>3</td>\n",
       "      <td>Coffee</td>\n",
       "      <td>150.0</td>\n",
       "      <td>Cold brew vanilla (R)</td>\n",
       "      <td>57.77</td>\n",
       "      <td>92.23</td>\n",
       "    </tr>\n",
       "    <tr>\n",
       "      <th>10735</th>\n",
       "      <td>4</td>\n",
       "      <td>2017-01-12 13:27:00</td>\n",
       "      <td>262751</td>\n",
       "      <td>1.0</td>\n",
       "      <td>170.0</td>\n",
       "      <td>Drinks</td>\n",
       "      <td>13</td>\n",
       "      <td>Coffee</td>\n",
       "      <td>170.0</td>\n",
       "      <td>Ice blended Caramel (S)</td>\n",
       "      <td>59.09</td>\n",
       "      <td>110.91</td>\n",
       "    </tr>\n",
       "    <tr>\n",
       "      <th>31802</th>\n",
       "      <td>4</td>\n",
       "      <td>2017-01-12 13:27:00</td>\n",
       "      <td>262933</td>\n",
       "      <td>1.0</td>\n",
       "      <td>75.0</td>\n",
       "      <td>Drinks</td>\n",
       "      <td>15</td>\n",
       "      <td>Water</td>\n",
       "      <td>75.0</td>\n",
       "      <td>Hot Americano (R)</td>\n",
       "      <td>22.43</td>\n",
       "      <td>52.57</td>\n",
       "    </tr>\n",
       "    <tr>\n",
       "      <th>0</th>\n",
       "      <td>5</td>\n",
       "      <td>2017-01-12 13:46:00</td>\n",
       "      <td>262744</td>\n",
       "      <td>1.0</td>\n",
       "      <td>160.0</td>\n",
       "      <td>Drinks</td>\n",
       "      <td>22</td>\n",
       "      <td>Cacao</td>\n",
       "      <td>160.0</td>\n",
       "      <td>Iced café mocha (R)</td>\n",
       "      <td>62.82</td>\n",
       "      <td>97.18</td>\n",
       "    </tr>\n",
       "  </tbody>\n",
       "</table>\n",
       "</div>"
      ],
      "text/plain": [
       "       INVOICE_NO                Date  PRODUCT_NUMBER  Quantity  Retail Price  \\\n",
       "10733           2 2017-01-12 12:51:00          262800       1.0         160.0   \n",
       "10734           2 2017-01-12 12:51:00          262812       1.0         150.0   \n",
       "10735           4 2017-01-12 13:27:00          262751       1.0         170.0   \n",
       "31802           4 2017-01-12 13:27:00          262933       1.0          75.0   \n",
       "0               5 2017-01-12 13:46:00          262744       1.0         160.0   \n",
       "\n",
       "      CATEGORY  ID Subcategory  base_price  \\\n",
       "10733   Drinks   2      Coffee       160.0   \n",
       "10734   Drinks   3      Coffee       150.0   \n",
       "10735   Drinks  13      Coffee       170.0   \n",
       "31802   Drinks  15       Water        75.0   \n",
       "0       Drinks  22       Cacao       160.0   \n",
       "\n",
       "                                        Product   Cost  Profit  \n",
       "10733  Atok Benguet Honey Coffee beans 250g (R)  22.64  137.36  \n",
       "10734                     Cold brew vanilla (R)  57.77   92.23  \n",
       "10735                   Ice blended Caramel (S)  59.09  110.91  \n",
       "31802                         Hot Americano (R)  22.43   52.57  \n",
       "0                           Iced café mocha (R)  62.82   97.18  "
      ]
     },
     "execution_count": 216,
     "metadata": {},
     "output_type": "execute_result"
    }
   ],
   "source": [
    "all_sales.head()"
   ]
  },
  {
   "cell_type": "markdown",
   "metadata": {},
   "source": [
    "## Let's see how many vales we have for Categories and Subcategories"
   ]
  },
  {
   "cell_type": "code",
   "execution_count": 219,
   "metadata": {},
   "outputs": [
    {
     "data": {
      "text/plain": [
       "Coffee            15020\n",
       "Cacao             10733\n",
       "Other Desserts     5017\n",
       "Savory             4973\n",
       "Cakes              4937\n",
       "Tea                3009\n",
       "Water               673\n",
       "Name: Subcategory, dtype: int64"
      ]
     },
     "execution_count": 219,
     "metadata": {},
     "output_type": "execute_result"
    }
   ],
   "source": [
    "all_sales['Subcategory'].value_counts()"
   ]
  },
  {
   "cell_type": "code",
   "execution_count": 220,
   "metadata": {},
   "outputs": [
    {
     "data": {
      "text/plain": [
       "Drinks    29435\n",
       "Food      14927\n",
       "Name: CATEGORY, dtype: int64"
      ]
     },
     "execution_count": 220,
     "metadata": {},
     "output_type": "execute_result"
    }
   ],
   "source": [
    "all_sales['CATEGORY'].value_counts()"
   ]
  },
  {
   "cell_type": "markdown",
   "metadata": {},
   "source": [
    "### Now, let's aggregate our data by weekly sales."
   ]
  },
  {
   "cell_type": "markdown",
   "metadata": {},
   "source": [
    "#### We can do this by product"
   ]
  },
  {
   "cell_type": "code",
   "execution_count": 222,
   "metadata": {},
   "outputs": [
    {
     "data": {
      "text/html": [
       "<div>\n",
       "<style scoped>\n",
       "    .dataframe tbody tr th:only-of-type {\n",
       "        vertical-align: middle;\n",
       "    }\n",
       "\n",
       "    .dataframe tbody tr th {\n",
       "        vertical-align: top;\n",
       "    }\n",
       "\n",
       "    .dataframe thead th {\n",
       "        text-align: right;\n",
       "    }\n",
       "</style>\n",
       "<table border=\"1\" class=\"dataframe\">\n",
       "  <thead>\n",
       "    <tr style=\"text-align: right;\">\n",
       "      <th></th>\n",
       "      <th>Product</th>\n",
       "      <th>Date</th>\n",
       "      <th>Quantity</th>\n",
       "    </tr>\n",
       "  </thead>\n",
       "  <tbody>\n",
       "    <tr>\n",
       "      <th>3104</th>\n",
       "      <td>Health tea Green tea (F)</td>\n",
       "      <td>2017-01-09</td>\n",
       "      <td>1.0</td>\n",
       "    </tr>\n",
       "    <tr>\n",
       "      <th>1489</th>\n",
       "      <td>Cold  brew black (R)</td>\n",
       "      <td>2017-01-09</td>\n",
       "      <td>3.0</td>\n",
       "    </tr>\n",
       "    <tr>\n",
       "      <th>9217</th>\n",
       "      <td>Smooth and milky (D)</td>\n",
       "      <td>2017-01-09</td>\n",
       "      <td>1.0</td>\n",
       "    </tr>\n",
       "    <tr>\n",
       "      <th>1106</th>\n",
       "      <td>Cherry dark chocolate gourmet cookies (R)</td>\n",
       "      <td>2017-01-09</td>\n",
       "      <td>3.0</td>\n",
       "    </tr>\n",
       "    <tr>\n",
       "      <th>468</th>\n",
       "      <td>Apricot almond gourmet cookies (R)</td>\n",
       "      <td>2017-01-09</td>\n",
       "      <td>1.0</td>\n",
       "    </tr>\n",
       "    <tr>\n",
       "      <th>...</th>\n",
       "      <td>...</td>\n",
       "      <td>...</td>\n",
       "      <td>...</td>\n",
       "    </tr>\n",
       "    <tr>\n",
       "      <th>4023</th>\n",
       "      <td>Hot Americano (S)</td>\n",
       "      <td>2020-12-07</td>\n",
       "      <td>5.0</td>\n",
       "    </tr>\n",
       "    <tr>\n",
       "      <th>4245</th>\n",
       "      <td>Hot Capuccino (S)</td>\n",
       "      <td>2020-12-07</td>\n",
       "      <td>3.0</td>\n",
       "    </tr>\n",
       "    <tr>\n",
       "      <th>4351</th>\n",
       "      <td>Hot Caramel Macchiato (L)</td>\n",
       "      <td>2020-12-07</td>\n",
       "      <td>7.0</td>\n",
       "    </tr>\n",
       "    <tr>\n",
       "      <th>7063</th>\n",
       "      <td>Iced caramel machiatto (L)</td>\n",
       "      <td>2020-12-07</td>\n",
       "      <td>2.0</td>\n",
       "    </tr>\n",
       "    <tr>\n",
       "      <th>10099</th>\n",
       "      <td>iced café matcha (R)</td>\n",
       "      <td>2020-12-07</td>\n",
       "      <td>1.0</td>\n",
       "    </tr>\n",
       "  </tbody>\n",
       "</table>\n",
       "<p>10100 rows × 3 columns</p>\n",
       "</div>"
      ],
      "text/plain": [
       "                                         Product       Date  Quantity\n",
       "3104                    Health tea Green tea (F) 2017-01-09       1.0\n",
       "1489                        Cold  brew black (R) 2017-01-09       3.0\n",
       "9217                        Smooth and milky (D) 2017-01-09       1.0\n",
       "1106   Cherry dark chocolate gourmet cookies (R) 2017-01-09       3.0\n",
       "468           Apricot almond gourmet cookies (R) 2017-01-09       1.0\n",
       "...                                          ...        ...       ...\n",
       "4023                           Hot Americano (S) 2020-12-07       5.0\n",
       "4245                           Hot Capuccino (S) 2020-12-07       3.0\n",
       "4351                   Hot Caramel Macchiato (L) 2020-12-07       7.0\n",
       "7063                  Iced caramel machiatto (L) 2020-12-07       2.0\n",
       "10099                       iced café matcha (R) 2020-12-07       1.0\n",
       "\n",
       "[10100 rows x 3 columns]"
      ]
     },
     "execution_count": 222,
     "metadata": {},
     "output_type": "execute_result"
    }
   ],
   "source": [
    "all_sales['Date'] = pd.to_datetime(all_sales['Date']) - pd.to_timedelta(7, unit='d')\n",
    "products_weekly = all_sales.groupby(['Product', pd.Grouper(key='Date', freq='W-MON')])['Quantity'].sum().reset_index().sort_values('Date')\n",
    "products_weekly\n",
    "#https://stackoverflow.com/questions/45281297/group-by-week-in-pandas"
   ]
  },
  {
   "cell_type": "markdown",
   "metadata": {},
   "source": [
    "#### We can also do this by subcategory"
   ]
  },
  {
   "cell_type": "code",
   "execution_count": 223,
   "metadata": {},
   "outputs": [
    {
     "data": {
      "text/html": [
       "<div>\n",
       "<style scoped>\n",
       "    .dataframe tbody tr th:only-of-type {\n",
       "        vertical-align: middle;\n",
       "    }\n",
       "\n",
       "    .dataframe tbody tr th {\n",
       "        vertical-align: top;\n",
       "    }\n",
       "\n",
       "    .dataframe thead th {\n",
       "        text-align: right;\n",
       "    }\n",
       "</style>\n",
       "<table border=\"1\" class=\"dataframe\">\n",
       "  <thead>\n",
       "    <tr style=\"text-align: right;\">\n",
       "      <th></th>\n",
       "      <th>Subcategory</th>\n",
       "      <th>Date</th>\n",
       "      <th>Quantity</th>\n",
       "    </tr>\n",
       "  </thead>\n",
       "  <tbody>\n",
       "    <tr>\n",
       "      <th>0</th>\n",
       "      <td>Cacao</td>\n",
       "      <td>2017-01-02</td>\n",
       "      <td>16.0</td>\n",
       "    </tr>\n",
       "    <tr>\n",
       "      <th>322</th>\n",
       "      <td>Coffee</td>\n",
       "      <td>2017-01-02</td>\n",
       "      <td>21.0</td>\n",
       "    </tr>\n",
       "    <tr>\n",
       "      <th>162</th>\n",
       "      <td>Cakes</td>\n",
       "      <td>2017-01-02</td>\n",
       "      <td>16.0</td>\n",
       "    </tr>\n",
       "    <tr>\n",
       "      <th>931</th>\n",
       "      <td>Water</td>\n",
       "      <td>2017-01-02</td>\n",
       "      <td>1.0</td>\n",
       "    </tr>\n",
       "    <tr>\n",
       "      <th>783</th>\n",
       "      <td>Tea</td>\n",
       "      <td>2017-01-02</td>\n",
       "      <td>6.0</td>\n",
       "    </tr>\n",
       "    <tr>\n",
       "      <th>...</th>\n",
       "      <td>...</td>\n",
       "      <td>...</td>\n",
       "      <td>...</td>\n",
       "    </tr>\n",
       "    <tr>\n",
       "      <th>321</th>\n",
       "      <td>Cakes</td>\n",
       "      <td>2020-11-30</td>\n",
       "      <td>7.0</td>\n",
       "    </tr>\n",
       "    <tr>\n",
       "      <th>161</th>\n",
       "      <td>Cacao</td>\n",
       "      <td>2020-11-30</td>\n",
       "      <td>9.0</td>\n",
       "    </tr>\n",
       "    <tr>\n",
       "      <th>642</th>\n",
       "      <td>Other Desserts</td>\n",
       "      <td>2020-11-30</td>\n",
       "      <td>2.0</td>\n",
       "    </tr>\n",
       "    <tr>\n",
       "      <th>782</th>\n",
       "      <td>Savory</td>\n",
       "      <td>2020-11-30</td>\n",
       "      <td>1.0</td>\n",
       "    </tr>\n",
       "    <tr>\n",
       "      <th>483</th>\n",
       "      <td>Coffee</td>\n",
       "      <td>2020-11-30</td>\n",
       "      <td>22.0</td>\n",
       "    </tr>\n",
       "  </tbody>\n",
       "</table>\n",
       "<p>1029 rows × 3 columns</p>\n",
       "</div>"
      ],
      "text/plain": [
       "        Subcategory       Date  Quantity\n",
       "0             Cacao 2017-01-02      16.0\n",
       "322          Coffee 2017-01-02      21.0\n",
       "162           Cakes 2017-01-02      16.0\n",
       "931           Water 2017-01-02       1.0\n",
       "783             Tea 2017-01-02       6.0\n",
       "..              ...        ...       ...\n",
       "321           Cakes 2020-11-30       7.0\n",
       "161           Cacao 2020-11-30       9.0\n",
       "642  Other Desserts 2020-11-30       2.0\n",
       "782          Savory 2020-11-30       1.0\n",
       "483          Coffee 2020-11-30      22.0\n",
       "\n",
       "[1029 rows x 3 columns]"
      ]
     },
     "execution_count": 223,
     "metadata": {},
     "output_type": "execute_result"
    }
   ],
   "source": [
    "all_sales['Date'] = pd.to_datetime(all_sales['Date']) - pd.to_timedelta(7, unit='d')\n",
    "subcategory_weekly = all_sales.groupby(['Subcategory', pd.Grouper(key='Date', freq='W-MON')])['Quantity'].sum().reset_index().sort_values('Date')\n",
    "subcategory_weekly"
   ]
  },
  {
   "cell_type": "code",
   "execution_count": 224,
   "metadata": {},
   "outputs": [
    {
     "data": {
      "text/plain": [
       "array(['Cacao', 'Coffee', 'Cakes', 'Water', 'Tea', 'Other Desserts',\n",
       "       'Savory'], dtype=object)"
      ]
     },
     "execution_count": 224,
     "metadata": {},
     "output_type": "execute_result"
    }
   ],
   "source": [
    "subcategory_weekly['Subcategory'].unique()"
   ]
  },
  {
   "cell_type": "markdown",
   "metadata": {},
   "source": [
    "### I will make a dictionary with a dataframe per subcategory so all dataframes are all in one place."
   ]
  },
  {
   "cell_type": "code",
   "execution_count": 228,
   "metadata": {},
   "outputs": [],
   "source": [
    "subcategory_dict = {name: subcategory_weekly[subcategory_weekly['Subcategory'] == name] for name in subcategory_weekly['Subcategory'].unique()}"
   ]
  },
  {
   "cell_type": "code",
   "execution_count": 229,
   "metadata": {
    "scrolled": true
   },
   "outputs": [
    {
     "name": "stdout",
     "output_type": "stream",
     "text": [
      "{'Cacao':     Subcategory       Date  Quantity\n",
      "0         Cacao 2017-01-02      16.0\n",
      "1         Cacao 2017-01-30      10.0\n",
      "2         Cacao 2017-02-27      14.0\n",
      "3         Cacao 2017-04-03       8.0\n",
      "4         Cacao 2017-05-01      11.0\n",
      "..          ...        ...       ...\n",
      "157       Cacao 2020-11-02      22.0\n",
      "158       Cacao 2020-11-09      17.0\n",
      "159       Cacao 2020-11-16      19.0\n",
      "160       Cacao 2020-11-23      32.0\n",
      "161       Cacao 2020-11-30       9.0\n",
      "\n",
      "[162 rows x 3 columns], 'Coffee':     Subcategory       Date  Quantity\n",
      "322      Coffee 2017-01-02      21.0\n",
      "323      Coffee 2017-01-30      26.0\n",
      "324      Coffee 2017-02-27      30.0\n",
      "325      Coffee 2017-04-03      12.0\n",
      "326      Coffee 2017-05-01      15.0\n",
      "..          ...        ...       ...\n",
      "479      Coffee 2020-11-02      36.0\n",
      "480      Coffee 2020-11-09      59.0\n",
      "481      Coffee 2020-11-16      51.0\n",
      "482      Coffee 2020-11-23      62.0\n",
      "483      Coffee 2020-11-30      22.0\n",
      "\n",
      "[162 rows x 3 columns], 'Cakes':     Subcategory       Date  Quantity\n",
      "162       Cakes 2017-01-02      16.0\n",
      "163       Cakes 2017-01-30       9.0\n",
      "164       Cakes 2017-02-27       6.0\n",
      "165       Cakes 2017-04-03       4.0\n",
      "166       Cakes 2017-05-01       6.0\n",
      "..          ...        ...       ...\n",
      "317       Cakes 2020-11-02      17.0\n",
      "318       Cakes 2020-11-09      11.0\n",
      "319       Cakes 2020-11-16      17.0\n",
      "320       Cakes 2020-11-23      16.0\n",
      "321       Cakes 2020-11-30       7.0\n",
      "\n",
      "[160 rows x 3 columns], 'Water':      Subcategory       Date  Quantity\n",
      "931        Water 2017-01-02       1.0\n",
      "932        Water 2017-05-01       3.0\n",
      "933        Water 2017-07-03       1.0\n",
      "934        Water 2017-07-31       1.0\n",
      "935        Water 2017-09-04       3.0\n",
      "...          ...        ...       ...\n",
      "1024       Water 2019-11-18       4.0\n",
      "1025       Water 2019-11-25       4.0\n",
      "1026       Water 2020-01-06       1.0\n",
      "1027       Water 2020-09-28       1.0\n",
      "1028       Water 2020-11-09       1.0\n",
      "\n",
      "[98 rows x 3 columns], 'Tea':     Subcategory       Date  Quantity\n",
      "783         Tea 2017-01-02       6.0\n",
      "784         Tea 2017-01-30       8.0\n",
      "785         Tea 2017-02-27       3.0\n",
      "786         Tea 2017-04-03       5.0\n",
      "787         Tea 2017-05-01       2.0\n",
      "..          ...        ...       ...\n",
      "926         Tea 2020-10-12       2.0\n",
      "927         Tea 2020-10-19       5.0\n",
      "928         Tea 2020-11-02       2.0\n",
      "929         Tea 2020-11-16       3.0\n",
      "930         Tea 2020-11-23       5.0\n",
      "\n",
      "[148 rows x 3 columns], 'Other Desserts':         Subcategory       Date  Quantity\n",
      "484  Other Desserts 2017-01-02      10.0\n",
      "485  Other Desserts 2017-01-30       7.0\n",
      "486  Other Desserts 2017-02-27      17.0\n",
      "487  Other Desserts 2017-04-03       7.0\n",
      "488  Other Desserts 2017-05-01      13.0\n",
      "..              ...        ...       ...\n",
      "638  Other Desserts 2020-11-02       8.0\n",
      "639  Other Desserts 2020-11-09      11.0\n",
      "640  Other Desserts 2020-11-16       7.0\n",
      "641  Other Desserts 2020-11-23      12.0\n",
      "642  Other Desserts 2020-11-30       2.0\n",
      "\n",
      "[159 rows x 3 columns], 'Savory':     Subcategory       Date  Quantity\n",
      "643      Savory 2017-12-25      50.0\n",
      "644      Savory 2018-01-01      14.0\n",
      "645      Savory 2018-01-22       3.0\n",
      "646      Savory 2018-01-29      39.0\n",
      "647      Savory 2018-02-19       3.0\n",
      "..          ...        ...       ...\n",
      "778      Savory 2020-11-02      11.0\n",
      "779      Savory 2020-11-09      11.0\n",
      "780      Savory 2020-11-16      21.0\n",
      "781      Savory 2020-11-23      21.0\n",
      "782      Savory 2020-11-30       1.0\n",
      "\n",
      "[140 rows x 3 columns]}\n"
     ]
    }
   ],
   "source": [
    "# Let's view it!\n",
    "\n",
    "print(subcategory_dict)"
   ]
  },
  {
   "cell_type": "markdown",
   "metadata": {},
   "source": [
    "### We can also visualize the demand for each subcategory by making a for loop"
   ]
  },
  {
   "cell_type": "code",
   "execution_count": 230,
   "metadata": {
    "scrolled": true
   },
   "outputs": [
    {
     "data": {
      "image/png": "[encoded data removed]",
      "text/plain": [
       "<Figure size 1440x720 with 1 Axes>"
      ]
     },
     "metadata": {
      "needs_background": "light"
     },
     "output_type": "display_data"
    },
    {
     "data": {
      "image/png": "[encoded data removed]",
      "text/plain": [
       "<Figure size 1440x720 with 1 Axes>"
      ]
     },
     "metadata": {
      "needs_background": "light"
     },
     "output_type": "display_data"
    },
    {
     "data": {
      "image/png": "[encoded data removed]",
      "text/plain": [
       "<Figure size 1440x720 with 1 Axes>"
      ]
     },
     "metadata": {
      "needs_background": "light"
     },
     "output_type": "display_data"
    },
    {
     "data": {
      "image/png": "[encoded data removed]",
      "text/plain": [
       "<Figure size 1440x720 with 1 Axes>"
      ]
     },
     "metadata": {
      "needs_background": "light"
     },
     "output_type": "display_data"
    },
    {
     "data": {
      "image/png": "[encoded data removed]",
      "text/plain": [
       "<Figure size 1440x720 with 1 Axes>"
      ]
     },
     "metadata": {
      "needs_background": "light"
     },
     "output_type": "display_data"
    },
    {
     "data": {
      "image/png": "[encoded data removed]",
      "text/plain": [
       "<Figure size 1440x720 with 1 Axes>"
      ]
     },
     "metadata": {
      "needs_background": "light"
     },
     "output_type": "display_data"
    },
    {
     "data": {
      "image/png": "[encoded data removed]",
      "text/plain": [
       "<Figure size 1440x720 with 1 Axes>"
      ]
     },
     "metadata": {
      "needs_background": "light"
     },
     "output_type": "display_data"
    }
   ],
   "source": [
    "for i in subcategory_dict:\n",
    "    #plt.subplot(row_nums, col_nums, i)\n",
    "    fig=plt.figure(figsize=(20,10))\n",
    "    sns.barplot(subcategory_dict[i]['Date'], subcategory_dict[i]['Quantity'])\n",
    "    plt.savefig('subcategory_demand.png', bbox_inches='tight')\n",
    "    plt.xlabel('Date')\n",
    "    plt.title(f'Subcategory: {i}', size=30)"
   ]
  },
  {
   "cell_type": "markdown",
   "metadata": {},
   "source": [
    "# Formatting the data for Prophet\n",
    "\n",
    "Prophet only accepts a specific format where there are only 2 columns: `ds` and `y`. Let's reformat it for the next notebook."
   ]
  },
  {
   "cell_type": "code",
   "execution_count": 231,
   "metadata": {},
   "outputs": [
    {
     "data": {
      "text/html": [
       "<div>\n",
       "<style scoped>\n",
       "    .dataframe tbody tr th:only-of-type {\n",
       "        vertical-align: middle;\n",
       "    }\n",
       "\n",
       "    .dataframe tbody tr th {\n",
       "        vertical-align: top;\n",
       "    }\n",
       "\n",
       "    .dataframe thead th {\n",
       "        text-align: right;\n",
       "    }\n",
       "</style>\n",
       "<table border=\"1\" class=\"dataframe\">\n",
       "  <thead>\n",
       "    <tr style=\"text-align: right;\">\n",
       "      <th></th>\n",
       "      <th>Date</th>\n",
       "      <th>Quantity</th>\n",
       "    </tr>\n",
       "  </thead>\n",
       "  <tbody>\n",
       "    <tr>\n",
       "      <th>162</th>\n",
       "      <td>2017-01-02</td>\n",
       "      <td>16.0</td>\n",
       "    </tr>\n",
       "    <tr>\n",
       "      <th>163</th>\n",
       "      <td>2017-01-30</td>\n",
       "      <td>9.0</td>\n",
       "    </tr>\n",
       "    <tr>\n",
       "      <th>164</th>\n",
       "      <td>2017-02-27</td>\n",
       "      <td>6.0</td>\n",
       "    </tr>\n",
       "    <tr>\n",
       "      <th>165</th>\n",
       "      <td>2017-04-03</td>\n",
       "      <td>4.0</td>\n",
       "    </tr>\n",
       "    <tr>\n",
       "      <th>166</th>\n",
       "      <td>2017-05-01</td>\n",
       "      <td>6.0</td>\n",
       "    </tr>\n",
       "    <tr>\n",
       "      <th>...</th>\n",
       "      <td>...</td>\n",
       "      <td>...</td>\n",
       "    </tr>\n",
       "    <tr>\n",
       "      <th>317</th>\n",
       "      <td>2020-11-02</td>\n",
       "      <td>17.0</td>\n",
       "    </tr>\n",
       "    <tr>\n",
       "      <th>318</th>\n",
       "      <td>2020-11-09</td>\n",
       "      <td>11.0</td>\n",
       "    </tr>\n",
       "    <tr>\n",
       "      <th>319</th>\n",
       "      <td>2020-11-16</td>\n",
       "      <td>17.0</td>\n",
       "    </tr>\n",
       "    <tr>\n",
       "      <th>320</th>\n",
       "      <td>2020-11-23</td>\n",
       "      <td>16.0</td>\n",
       "    </tr>\n",
       "    <tr>\n",
       "      <th>321</th>\n",
       "      <td>2020-11-30</td>\n",
       "      <td>7.0</td>\n",
       "    </tr>\n",
       "  </tbody>\n",
       "</table>\n",
       "<p>160 rows × 2 columns</p>\n",
       "</div>"
      ],
      "text/plain": [
       "          Date  Quantity\n",
       "162 2017-01-02      16.0\n",
       "163 2017-01-30       9.0\n",
       "164 2017-02-27       6.0\n",
       "165 2017-04-03       4.0\n",
       "166 2017-05-01       6.0\n",
       "..         ...       ...\n",
       "317 2020-11-02      17.0\n",
       "318 2020-11-09      11.0\n",
       "319 2020-11-16      17.0\n",
       "320 2020-11-23      16.0\n",
       "321 2020-11-30       7.0\n",
       "\n",
       "[160 rows x 2 columns]"
      ]
     },
     "execution_count": 231,
     "metadata": {},
     "output_type": "execute_result"
    }
   ],
   "source": [
    "cakes = subcategory_dict['Cakes']\n",
    "cakes.drop(columns='Subcategory',inplace=True)\n",
    "cakes"
   ]
  },
  {
   "cell_type": "code",
   "execution_count": 235,
   "metadata": {},
   "outputs": [],
   "source": [
    "# renaming columns for Prophet\n",
    "cakes.rename(columns={\"Date\": \"ds\", \"Quantity\": \"y\"},inplace=True)"
   ]
  },
  {
   "cell_type": "markdown",
   "metadata": {},
   "source": [
    "### And here is the shape of our cakes df."
   ]
  },
  {
   "cell_type": "code",
   "execution_count": 234,
   "metadata": {},
   "outputs": [
    {
     "data": {
      "text/plain": [
       "(160, 2)"
      ]
     },
     "execution_count": 234,
     "metadata": {},
     "output_type": "execute_result"
    }
   ],
   "source": [
    "cakes.shape"
   ]
  },
  {
   "cell_type": "markdown",
   "metadata": {},
   "source": [
    "## Let's use pandas to export it so we can use it for modelling in the next notebook."
   ]
  },
  {
   "cell_type": "code",
   "execution_count": 237,
   "metadata": {},
   "outputs": [],
   "source": [
    "cakes.to_csv('data\\cakes_weekly.csv', index=False)"
   ]
  },
  {
   "cell_type": "markdown",
   "metadata": {},
   "source": [
    "---\n",
    "\n"
   ]
  },
  {
   "cell_type": "markdown",
   "metadata": {},
   "source": [
    "Please see the notebook: `2. Modelling with Prophet & Model Evaluation with Sklearn` for the continuation of this project."
   ]
  },
  {
   "cell_type": "code",
   "execution_count": null,
   "metadata": {},
   "outputs": [],
   "source": []
  }
 ],
 "metadata": {
  "kernelspec": {
   "display_name": "Python 3",
   "language": "python",
   "name": "python3"
  },
  "language_info": {
   "codemirror_mode": {
    "name": "ipython",
    "version": 3
   },
   "file_extension": ".py",
   "mimetype": "text/x-python",
   "name": "python",
   "nbconvert_exporter": "python",
   "pygments_lexer": "ipython3",
   "version": "3.8.5"
  }
 },
 "nbformat": 4,
 "nbformat_minor": 4
}

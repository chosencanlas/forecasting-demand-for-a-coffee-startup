{
 "cells": [
  {
   "cell_type": "markdown",
   "metadata": {},
   "source": [
    "# Overview, the Data & Instructions to create a new environment\n",
    "\n",
    "### December 20, 2020\n",
    "\n",
    "### Chosen Canlas"
   ]
  },
  {
   "cell_type": "markdown",
   "metadata": {},
   "source": [
    "---"
   ]
  },
  {
   "cell_type": "markdown",
   "metadata": {},
   "source": [
    "### Project Duration: \n",
    "\n",
    "This project took 3 weeks while attending full-time classes at BrainStation and submitting deliverables.\n",
    "\n",
    "However, if we consider the length of time it took to acquire the data from the company, it would be approximately 8 weeks.\n",
    "\n",
    "### Note:\n",
    "\n",
    "The current scope of this project is much smaller than the scope intended because cleaning the data took much longer than expected (time estimation was determined using the cleaning time using data provided in class). Thanks to my instructors, Boris and Doug, I was able to learn some new cleaning techniques that were not included in the scope of this course.\n",
    "\n",
    "Furthermore, Prophet, the library I used was not fully taught in class so much of my learning was done on my own and with the help of my instructors, Boris and Doug."
   ]
  },
  {
   "cell_type": "markdown",
   "metadata": {},
   "source": [
    "---"
   ]
  },
  {
   "cell_type": "markdown",
   "metadata": {},
   "source": [
    "# Defining the Problem\n",
    "\n",
    "The executives of a coffee startup company have identified food waste as a major contributor to their cost. This decreases their profit, introduces storage issues, complications in inventory management, and becomes a government compliance legal and health risk. Food waste due to unsold food because the anticipated demand is lower than the amount of food supplies ordered, or missed sales because a product was sold out can be an issue in any company within the food industry. To help the company towards financial sustainability, it is important to coordinate the orders for raw materials with demand prediction in order to reduce food waste, lessen impact on climate change, and increase profit.\n",
    "\n",
    "With the time constraint in mind, I narrowed my scope to forecast the demand of the most perishable product: cakes. I will be performing a weekly forecast because raw materials are delivered at most, once a week.\n",
    "\n",
    "However, I will be cleaning the data in anticipation of applying this project to all other perishable products in the company, and profit calculations."
   ]
  },
  {
   "cell_type": "markdown",
   "metadata": {},
   "source": [
    "---"
   ]
  },
  {
   "cell_type": "markdown",
   "metadata": {},
   "source": [
    "# Overview of Methods\n",
    "\n",
    "To solve this problem, I will do the following tasks and answer the following questions:\n",
    "\n",
    "1. Data wrangling\n",
    "\n",
    "    I coordinate with the manager to acquire the data from the POS provider in the appropriate format.\n",
    "    I will clean and recategorize the data to isolate cakes, and prepare for future analysis for all other perisheable items.\n",
    "\n",
    "2. Modelling\n",
    "\n",
    "    I use Prophet to forecast the weekly demand for cakes. I chose to forecast weekly because raw materials are delivered weekly.\n",
    "    \n",
    "3. Model Evaluation\n",
    "\n",
    "    I use mean absolute error (MAE) to evaluate the model because it is the most explainable performance metric to the executives in the company."
   ]
  },
  {
   "cell_type": "markdown",
   "metadata": {},
   "source": [
    "---"
   ]
  },
  {
   "cell_type": "markdown",
   "metadata": {},
   "source": [
    "# Tools\n",
    "\n",
    "I will be using a combination of Python and Microsoft Excel's Power Query."
   ]
  },
  {
   "cell_type": "markdown",
   "metadata": {},
   "source": [
    "# The Data\n",
    "\n",
    "Table: `invoices`\n",
    "\n",
    "    This table contains all store sale transactions from when the company started in December 2017 until March 2020 this year before the COVID lockdown.\n",
    "\n",
    "    Relevant Columns:\n",
    "    * `Product`\n",
    "    * `Date`\n",
    "    * `Quantity`\n",
    "\n",
    "Table: `Product cost`\n",
    "\n",
    "    Relevant Columns:\n",
    "    * `Product`\n",
    "    * `Cost`\n",
    "    * `Unit`\n",
    "    \n",
    "#### Data I tried to gather but couldn't because the company did not have the datasets  readily available in the formats required (i.e. was handwritten only and not computerized)\n",
    "\n",
    "Table: `Product Expiry Dates`\n",
    "\n",
    "    Columns:\n",
    "    * `Product`\n",
    "    * `Number of viable days from delivery date`\n",
    "\n",
    "Table: `Delivery Records`\n",
    "\n",
    "    Columns:\n",
    "\n",
    "\n",
    "Table: `Overhead cost (Monthly)`\n",
    "\n",
    "    Columns:\n",
    "\n",
    "\n",
    "Table: `Products per Supplier`\n",
    "\n",
    "    Columns:\n",
    "\n",
    "\n",
    "\n",
    "Table: `Minimum delivery amount to get Free delivery`\n",
    "\n",
    "    Columns:\n",
    "    * `Supplier`\n",
    "    * `Product`\n",
    "    * `Quantity`"
   ]
  },
  {
   "cell_type": "markdown",
   "metadata": {},
   "source": [
    "# Instructions to create a new environment\n",
    "    \n",
    "    ### Create an Environment and download libraries\n",
    "   \n",
    "    conda create --name coffee python=3.8 numpy pandas matplotlib statsmodels plotly seaborn scikit-learn jupyter requests scipy lxml\n",
    "    activate coffee\n",
    "    (coffee)$ conda install -c conda-forge fbprophet\n",
    "    \n",
    "    \n",
    "    ### SQL libraries and packages\n",
    "    conda install -y pymysql\n",
    "    conda install -y sqlalchemy\n",
    "    conda install -c conda-forge pulp\n",
    "    conda install -y -c anaconda line_profiler\n",
    "    conda install -y -c anaconda memory_profiler\n",
    "    conda install -c conda-forge fuzzywuzzy\n",
    "    conda install dask distributed -c conda-forge\n",
    "\n",
    "    ### for jupyter lab\n",
    "    conda install jupyterlab \"ipywidgets=7.5\"\n",
    "    jupyter labextension install jupyterlab-plotly@4.13.0\n",
    " \n",
    "    ### to open as jupyter notebook\n",
    "    activate coffee\n",
    "    jupyter notebook\n",
    "    \n",
    "    ### to open as jupyter notebook\n",
    "    activate coffee\n",
    "    jupyter lab\n",
    "    "
   ]
  },
  {
   "cell_type": "markdown",
   "metadata": {},
   "source": [
    "---"
   ]
  },
  {
   "cell_type": "markdown",
   "metadata": {},
   "source": [
    "Please see the notebook: `1. Data Cleaning, EDA & Feature Engineering` for the continuation of this project.\n"
   ]
  },
  {
   "cell_type": "code",
   "execution_count": null,
   "metadata": {},
   "outputs": [],
   "source": []
  }
 ],
 "metadata": {
  "kernelspec": {
   "display_name": "Python 3",
   "language": "python",
   "name": "python3"
  },
  "language_info": {
   "codemirror_mode": {
    "name": "ipython",
    "version": 3
   },
   "file_extension": ".py",
   "mimetype": "text/x-python",
   "name": "python",
   "nbconvert_exporter": "python",
   "pygments_lexer": "ipython3",
   "version": "3.8.5"
  }
 },
 "nbformat": 4,
 "nbformat_minor": 4
}
